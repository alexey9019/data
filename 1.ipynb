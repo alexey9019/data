{
  "nbformat": 4,
  "nbformat_minor": 0,
  "metadata": {
    "hide_input": false,
    "kernelspec": {
      "display_name": "Python 3",
      "language": "python",
      "name": "python3"
    },
    "language_info": {
      "codemirror_mode": {
        "name": "ipython",
        "version": 3
      },
      "file_extension": ".py",
      "mimetype": "text/x-python",
      "name": "python",
      "nbconvert_exporter": "python",
      "pygments_lexer": "ipython3",
      "version": "3.7.1"
    },
    "varInspector": {
      "cols": {
        "lenName": 16,
        "lenType": 16,
        "lenVar": 40
      },
      "kernels_config": {
        "python": {
          "delete_cmd_postfix": "",
          "delete_cmd_prefix": "del ",
          "library": "var_list.py",
          "varRefreshCmd": "print(var_dic_list())"
        },
        "r": {
          "delete_cmd_postfix": ") ",
          "delete_cmd_prefix": "rm(",
          "library": "var_list.r",
          "varRefreshCmd": "cat(var_dic_list()) "
        }
      },
      "types_to_exclude": [
        "module",
        "function",
        "builtin_function_or_method",
        "instance",
        "_Feature"
      ],
      "window_display": false
    },
    "colab": {
      "name": "1.ipynb",
      "provenance": []
    }
  },
  "cells": [
    {
      "cell_type": "markdown",
      "metadata": {
        "id": "9knwjLQkMpzw",
        "colab_type": "text"
      },
      "source": [
        "Цель - предсказать пол клиента по транзакциям."
      ]
    },
    {
      "cell_type": "code",
      "metadata": {
        "ExecuteTime": {
          "end_time": "2019-03-05T17:34:52.054851Z",
          "start_time": "2019-03-05T17:34:51.515762Z"
        },
        "id": "Njgqrzx6Mpz5",
        "colab_type": "code",
        "colab": {}
      },
      "source": [
        "import pandas as pd\n",
        "import numpy as np\n",
        "import xgboost as xgb\n",
        "import matplotlib.pyplot as plt\n",
        "import seaborn as sns\n",
        "import sklearn\n",
        "import seaborn as sns\n",
        "import matplotlib\n",
        "from sklearn.svm import SVC\n",
        "from sklearn import tree\n",
        "from sklearn.ensemble import RandomForestClassifier\n",
        "from sklearn.ensemble import GradientBoostingClassifier\n",
        "from sklearn import metrics\n",
        "from sklearn.linear_model import LogisticRegression\n",
        "from sklearn.model_selection import GridSearchCV\n",
        "from warnings import filterwarnings\n",
        "filterwarnings('ignore')\n",
        "\n",
        "%matplotlib inline"
      ],
      "execution_count": 0,
      "outputs": []
    },
    {
      "cell_type": "code",
      "metadata": {
        "id": "PBoowUFzMuhx",
        "colab_type": "code",
        "outputId": "c82fe545-74b0-42bd-ebd1-521c4f5b964d",
        "colab": {
          "base_uri": "https://localhost:8080/",
          "height": 34
        }
      },
      "source": [
        "!git clone https://github.com/alexey9019/data.git"
      ],
      "execution_count": 100,
      "outputs": [
        {
          "output_type": "stream",
          "text": [
            "fatal: destination path 'data' already exists and is not an empty directory.\n"
          ],
          "name": "stdout"
        }
      ]
    },
    {
      "cell_type": "code",
      "metadata": {
        "ExecuteTime": {
          "end_time": "2019-03-05T17:34:58.314241Z",
          "start_time": "2019-03-05T17:34:52.056205Z"
        },
        "scrolled": true,
        "id": "PYKg7RtjMpz-",
        "colab_type": "code",
        "colab": {}
      },
      "source": [
        "tr_mcc_codes = pd.read_csv('/content/data/tr_mcc_codes.csv', sep=';', index_col='mcc_code')\n",
        "tr_types = pd.read_csv('/content/data/tr_types.csv', sep=';', index_col='tr_type')\n",
        "transactions = pd.read_csv('/content/data/transactions.csv', index_col='customer_id')\n",
        "gender_train = pd.read_csv('/content/data/gender_train.csv', index_col='customer_id')\n",
        "gender_test = pd.read_csv('/content/data/gender_test.csv', index_col='customer_id')\n",
        "\n",
        "transactions_train = transactions.join(gender_train, how='inner')\n",
        "transactions_test = transactions.join(gender_test, how='inner')"
      ],
      "execution_count": 0,
      "outputs": []
    },
    {
      "cell_type": "code",
      "metadata": {
        "ExecuteTime": {
          "end_time": "2019-03-05T17:34:58.354996Z",
          "start_time": "2019-03-05T17:34:58.315591Z"
        },
        "id": "NPzU887OMp0A",
        "colab_type": "code",
        "colab": {}
      },
      "source": [
        "# создадим функции для построения классификатора \n",
        "# оценим результаты и построим прогноз для тестовых пользователей\n",
        "# cv_score - cross-validation score (среднее значение метрики ROC AUC на тренировочных данных)\n",
        "def cv_score(params, train, y_true):\n",
        "    cv_res = xgb.cv(params, xgb.DMatrix(train, y_true),\n",
        "               early_stopping_rounds=10, maximize=True, \n",
        "               num_boost_round=10000, nfold=5, stratified=True)\n",
        "    index_argmax = cv_res['test-auc-mean'].argmax()\n",
        "    print('Cross-validation, ROC AUC: {:.3f}+-{:.3f}, Trees: {}'.format(cv_res.loc[index_argmax]['test-auc-mean'],\n",
        "                                                                     cv_res.loc[index_argmax]['test-auc-std'],\n",
        "                                                                     index_argmax))\n",
        "\n",
        "# построим модель и выведем результаты классификации тестовых пользователей\n",
        "def fit_predict(params, num_trees, train, test, target):\n",
        "    params['learning_rate'] = params['eta']\n",
        "    clf = xgb.train(params, xgb.DMatrix(train.values, target, feature_names = list(train.columns)), \n",
        "              num_boost_round = num_trees, maximize=True)\n",
        "    y_pred = clf.predict(xgb.DMatrix(test.values, feature_names = list(train.columns)))\n",
        "    submission = pd.DataFrame(index = test.index, data = y_pred, columns = ['probability'])\n",
        "    return clf, submission\n",
        "\n",
        "# отобразим важность переменной\n",
        "def draw_feature_importances(clf, top_k=10):\n",
        "    plt.figure(figsize=(10, 10))\n",
        "    \n",
        "    importances = dict(sorted(clf.get_score().items(), key = lambda x: x[1])[-top_k:])\n",
        "    y_pos = np.arange(len(importances))\n",
        "    \n",
        "    plt.barh(y_pos, list(importances.values()), align='center', color='red')\n",
        "    plt.yticks(y_pos, importances.keys(), fontsize=12)\n",
        "    plt.xticks(fontsize=12)\n",
        "    plt.title('Важность переменной', fontsize=18)\n",
        "    plt.ylim(-0.5, len(importances) - 0.5)\n",
        "    plt.show()"
      ],
      "execution_count": 0,
      "outputs": []
    },
    {
      "cell_type": "code",
      "metadata": {
        "ExecuteTime": {
          "end_time": "2019-03-05T17:34:58.362104Z",
          "start_time": "2019-03-05T17:34:58.356308Z"
        },
        "id": "hvJfVP12Mp0F",
        "colab_type": "code",
        "colab": {}
      },
      "source": [
        "# зададим параметры\n",
        "params = {\n",
        "    'eta': 0.1,\n",
        "    'max_depth': 3,\n",
        "    'subsample': 0.8,\n",
        "    'colsample_bytree': 0.8,\n",
        "    \n",
        "    'gamma': 0,\n",
        "    'lambda': 0,\n",
        "    'alpha': 0,\n",
        "    'min_child_weight': 0,\n",
        "    \n",
        "    'eval_metric': 'auc',\n",
        "    'objective': 'binary:logistic' ,\n",
        "    'booster': 'gbtree',\n",
        "    'njobs': -1,\n",
        "    'tree_method': 'approx'\n",
        "}"
      ],
      "execution_count": 0,
      "outputs": []
    },
    {
      "cell_type": "code",
      "metadata": {
        "ExecuteTime": {
          "end_time": "2019-03-05T17:35:41.272300Z",
          "start_time": "2019-03-05T17:34:58.363622Z"
        },
        "id": "sN_d_RjxMp0H",
        "colab_type": "code",
        "colab": {}
      },
      "source": [
        "# используем медиану, среднеквадратичное отклонение и количество\n",
        "def features_creation_basic(x): \n",
        "    features = []\n",
        "    features.append(pd.Series(x[x['amount']<0]['amount'].agg(['median', 'std', 'count'])\\\n",
        "                                                        .add_prefix('negative_transactions_')))\n",
        " \n",
        "    return pd.concat(features)\n",
        "\n",
        "data_train = transactions_train.groupby(transactions_train.index).apply(features_creation_basic)\n",
        "data_test = transactions_test.groupby(transactions_test.index).apply(features_creation_basic)"
      ],
      "execution_count": 0,
      "outputs": []
    },
    {
      "cell_type": "code",
      "metadata": {
        "ExecuteTime": {
          "end_time": "2019-03-05T17:35:45.011046Z",
          "start_time": "2019-03-05T17:35:41.273326Z"
        },
        "id": "8KMujpyiMp0K",
        "colab_type": "code",
        "outputId": "1d5e6589-250b-4f61-b685-2b76bab1a35c",
        "colab": {
          "base_uri": "https://localhost:8080/",
          "height": 34
        }
      },
      "source": [
        "# выведем результат\n",
        "target = data_train.join(gender_train, how='inner')['gender']\n",
        "cv_score(params, data_train, target)"
      ],
      "execution_count": 105,
      "outputs": [
        {
          "output_type": "stream",
          "text": [
            "Cross-validation, ROC AUC: 0.611+-0.064, Trees: 50\n"
          ],
          "name": "stdout"
        }
      ]
    },
    {
      "cell_type": "code",
      "metadata": {
        "ExecuteTime": {
          "end_time": "2019-03-05T17:35:45.714620Z",
          "start_time": "2019-03-05T17:35:45.018570Z"
        },
        "id": "zvwZx5DMMp0N",
        "colab_type": "code",
        "colab": {}
      },
      "source": [
        "# результат классификации тестовых пользователей\n",
        "clf, submission = fit_predict(params, 70, data_train, data_test, target)"
      ],
      "execution_count": 0,
      "outputs": []
    },
    {
      "cell_type": "code",
      "metadata": {
        "ExecuteTime": {
          "end_time": "2019-03-05T17:35:45.897370Z",
          "start_time": "2019-03-05T17:35:45.719320Z"
        },
        "scrolled": false,
        "id": "gWn_wZEOMp0P",
        "colab_type": "code",
        "outputId": "10e82c50-5284-4dba-b84d-a155a240e495",
        "colab": {
          "base_uri": "https://localhost:8080/",
          "height": 615
        }
      },
      "source": [
        "# отобразим важность переменной\n",
        "draw_feature_importances(clf, 10)"
      ],
      "execution_count": 107,
      "outputs": [
        {
          "output_type": "display_data",
          "data": {
            "image/png": "[encoded data removed]",
            "text/plain": [
              "<Figure size 720x720 with 1 Axes>"
            ]
          },
          "metadata": {
            "tags": []
          }
        }
      ]
    },
    {
      "cell_type": "code",
      "metadata": {
        "id": "zEblMA-_Mp0R",
        "colab_type": "code",
        "colab": {}
      },
      "source": [
        "# сохраним в файл\n",
        "submission.to_csv('/content/data/basic_features_submission.csv')"
      ],
      "execution_count": 0,
      "outputs": []
    },
    {
      "cell_type": "code",
      "metadata": {
        "ExecuteTime": {
          "end_time": "2019-03-05T17:35:57.677748Z",
          "start_time": "2019-03-05T17:35:45.921444Z"
        },
        "id": "1CRUMCJVMp0V",
        "colab_type": "code",
        "colab": {}
      },
      "source": [
        "# используем данные о том, где совершались транзакции (mcc_code)\n",
        "# предполагаем, что мужчины чаще будут покупать цветы (mcc_code 5992 - флористика)\n",
        "for df in [transactions_train, transactions_test]:\n",
        "    df['mcc_code'] == 5992\n",
        "    df['mcc'] = df['mcc_code']"
      ],
      "execution_count": 0,
      "outputs": []
    },
    {
      "cell_type": "code",
      "metadata": {
        "ExecuteTime": {
          "end_time": "2019-03-05T17:35:57.687397Z",
          "start_time": "2019-03-05T17:35:57.678823Z"
        },
        "id": "1pnZN8jCMp0Y",
        "colab_type": "code",
        "colab": {}
      },
      "source": [
        "# используем медиану, среднеквадратичное отклонение и количество\n",
        "def features_creation_advanced(x): \n",
        "    features = []\n",
        "    features.append(pd.Series(x['mcc_code'].value_counts(normalize = True).add_prefix('mcc_code_')))\n",
        "    features.append(pd.Series(x['mcc'].value_counts(normalize = True).add_prefix('mcc_')))\n",
        "    \n",
        "    features.append(pd.Series(x[x['amount']<0]['amount'].agg(['median', 'std', 'count'])\\\n",
        "                                                        .add_prefix('negative_transactions_')))\n",
        "    features.append(pd.Series(x[x['amount']>0]['amount'].agg(['median', 'std', 'count'])\\\n",
        "                                                        .add_prefix('positive_transactions_')))\n",
        "    \n",
        "    return pd.concat(features)"
      ],
      "execution_count": 0,
      "outputs": []
    },
    {
      "cell_type": "code",
      "metadata": {
        "ExecuteTime": {
          "end_time": "2019-03-05T17:37:19.784321Z",
          "start_time": "2019-03-05T17:35:57.688448Z"
        },
        "id": "iZtvb_8jMp0a",
        "colab_type": "code",
        "colab": {}
      },
      "source": [
        "data_train = transactions_train.groupby(transactions_train.index)\\\n",
        "                               .apply(features_creation_advanced).unstack(-1)\n",
        "data_test = transactions_test.groupby(transactions_test.index)\\\n",
        "                             .apply(features_creation_advanced).unstack(-1)"
      ],
      "execution_count": 0,
      "outputs": []
    },
    {
      "cell_type": "code",
      "metadata": {
        "ExecuteTime": {
          "end_time": "2019-03-05T17:37:27.200528Z",
          "start_time": "2019-03-05T17:37:19.785535Z"
        },
        "id": "6_9WA28JMp0d",
        "colab_type": "code",
        "outputId": "7a426676-7402-427a-9067-3ce042552886",
        "colab": {
          "base_uri": "https://localhost:8080/",
          "height": 34
        }
      },
      "source": [
        "# выведем результат\n",
        "target = data_train.join(gender_train, how='inner')['gender']\n",
        "cv_score(params, data_train, target)"
      ],
      "execution_count": 112,
      "outputs": [
        {
          "output_type": "stream",
          "text": [
            "Cross-validation, ROC AUC: 0.808+-0.075, Trees: 38\n"
          ],
          "name": "stdout"
        }
      ]
    },
    {
      "cell_type": "code",
      "metadata": {
        "ExecuteTime": {
          "end_time": "2019-03-05T17:37:28.426836Z",
          "start_time": "2019-03-05T17:37:28.308620Z"
        },
        "scrolled": false,
        "id": "Fp28OmdyMp0i",
        "colab_type": "code",
        "outputId": "8c09a85d-3d62-444d-a2a5-06bdf47e65d9",
        "colab": {
          "base_uri": "https://localhost:8080/",
          "height": 615
        }
      },
      "source": [
        "# отобразим важность переменной\n",
        "draw_feature_importances(clf, 10)"
      ],
      "execution_count": 113,
      "outputs": [
        {
          "output_type": "display_data",
          "data": {
            "image/png": "[encoded data removed]",
            "text/plain": [
              "<Figure size 720x720 with 1 Axes>"
            ]
          },
          "metadata": {
            "tags": []
          }
        }
      ]
    },
    {
      "cell_type": "code",
      "metadata": {
        "ExecuteTime": {
          "end_time": "2019-03-05T17:37:28.448839Z",
          "start_time": "2019-03-05T17:37:28.438234Z"
        },
        "id": "d0XsTXpXMp0m",
        "colab_type": "code",
        "colab": {}
      },
      "source": [
        "# сохраним в файл\n",
        "submission.to_csv('/content/data/submission_advanced.csv')"
      ],
      "execution_count": 0,
      "outputs": []
    },
    {
      "cell_type": "code",
      "metadata": {
        "id": "5Q3j6aOhit-O",
        "colab_type": "code",
        "outputId": "21f8a2a7-172b-4ee2-bf64-6503a4c4649c",
        "colab": {
          "base_uri": "https://localhost:8080/",
          "height": 297
        }
      },
      "source": [
        "transactions_train.describe()"
      ],
      "execution_count": 115,
      "outputs": [
        {
          "output_type": "execute_result",
          "data": {
            "text/html": [
              "<div>\n",
              "<style scoped>\n",
              "    .dataframe tbody tr th:only-of-type {\n",
              "        vertical-align: middle;\n",
              "    }\n",
              "\n",
              "    .dataframe tbody tr th {\n",
              "        vertical-align: top;\n",
              "    }\n",
              "\n",
              "    .dataframe thead th {\n",
              "        text-align: right;\n",
              "    }\n",
              "</style>\n",
              "<table border=\"1\" class=\"dataframe\">\n",
              "  <thead>\n",
              "    <tr style=\"text-align: right;\">\n",
              "      <th></th>\n",
              "      <th>mcc_code</th>\n",
              "      <th>tr_type</th>\n",
              "      <th>amount</th>\n",
              "      <th>gender</th>\n",
              "      <th>mcc</th>\n",
              "    </tr>\n",
              "  </thead>\n",
              "  <tbody>\n",
              "    <tr>\n",
              "      <th>count</th>\n",
              "      <td>61439.000000</td>\n",
              "      <td>61439.000000</td>\n",
              "      <td>6.143900e+04</td>\n",
              "      <td>61439.000000</td>\n",
              "      <td>61439.000000</td>\n",
              "    </tr>\n",
              "    <tr>\n",
              "      <th>mean</th>\n",
              "      <td>5582.150865</td>\n",
              "      <td>2191.452595</td>\n",
              "      <td>-3.023813e+04</td>\n",
              "      <td>0.552808</td>\n",
              "      <td>5582.150865</td>\n",
              "    </tr>\n",
              "    <tr>\n",
              "      <th>std</th>\n",
              "      <td>617.691250</td>\n",
              "      <td>2015.563063</td>\n",
              "      <td>5.055619e+05</td>\n",
              "      <td>0.497207</td>\n",
              "      <td>617.691250</td>\n",
              "    </tr>\n",
              "    <tr>\n",
              "      <th>min</th>\n",
              "      <td>1711.000000</td>\n",
              "      <td>1010.000000</td>\n",
              "      <td>-5.140376e+07</td>\n",
              "      <td>0.000000</td>\n",
              "      <td>1711.000000</td>\n",
              "    </tr>\n",
              "    <tr>\n",
              "      <th>25%</th>\n",
              "      <td>5331.000000</td>\n",
              "      <td>1010.000000</td>\n",
              "      <td>-2.919691e+04</td>\n",
              "      <td>0.000000</td>\n",
              "      <td>5331.000000</td>\n",
              "    </tr>\n",
              "    <tr>\n",
              "      <th>50%</th>\n",
              "      <td>5541.000000</td>\n",
              "      <td>1110.000000</td>\n",
              "      <td>-7.905620e+03</td>\n",
              "      <td>1.000000</td>\n",
              "      <td>5541.000000</td>\n",
              "    </tr>\n",
              "    <tr>\n",
              "      <th>75%</th>\n",
              "      <td>6010.000000</td>\n",
              "      <td>2011.000000</td>\n",
              "      <td>-2.245920e+03</td>\n",
              "      <td>1.000000</td>\n",
              "      <td>6010.000000</td>\n",
              "    </tr>\n",
              "    <tr>\n",
              "      <th>max</th>\n",
              "      <td>9399.000000</td>\n",
              "      <td>8145.000000</td>\n",
              "      <td>3.593465e+07</td>\n",
              "      <td>1.000000</td>\n",
              "      <td>9399.000000</td>\n",
              "    </tr>\n",
              "  </tbody>\n",
              "</table>\n",
              "</div>"
            ],
            "text/plain": [
              "           mcc_code       tr_type        amount        gender           mcc\n",
              "count  61439.000000  61439.000000  6.143900e+04  61439.000000  61439.000000\n",
              "mean    5582.150865   2191.452595 -3.023813e+04      0.552808   5582.150865\n",
              "std      617.691250   2015.563063  5.055619e+05      0.497207    617.691250\n",
              "min     1711.000000   1010.000000 -5.140376e+07      0.000000   1711.000000\n",
              "25%     5331.000000   1010.000000 -2.919691e+04      0.000000   5331.000000\n",
              "50%     5541.000000   1110.000000 -7.905620e+03      1.000000   5541.000000\n",
              "75%     6010.000000   2011.000000 -2.245920e+03      1.000000   6010.000000\n",
              "max     9399.000000   8145.000000  3.593465e+07      1.000000   9399.000000"
            ]
          },
          "metadata": {
            "tags": []
          },
          "execution_count": 115
        }
      ]
    },
    {
      "cell_type": "code",
      "metadata": {
        "id": "JA7C47OOi0xe",
        "colab_type": "code",
        "outputId": "9ad3f64b-ce71-425d-9eee-8ba81f77b538",
        "colab": {
          "base_uri": "https://localhost:8080/",
          "height": 153
        }
      },
      "source": [
        "transactions_train.dtypes"
      ],
      "execution_count": 116,
      "outputs": [
        {
          "output_type": "execute_result",
          "data": {
            "text/plain": [
              "tr_datetime     object\n",
              "mcc_code         int64\n",
              "tr_type          int64\n",
              "amount         float64\n",
              "term_id         object\n",
              "gender           int64\n",
              "mcc              int64\n",
              "dtype: object"
            ]
          },
          "metadata": {
            "tags": []
          },
          "execution_count": 116
        }
      ]
    },
    {
      "cell_type": "code",
      "metadata": {
        "id": "JfoD6osfjKD2",
        "colab_type": "code",
        "outputId": "a0da2aff-30e8-4805-8f92-52cf30cd4e6e",
        "colab": {
          "base_uri": "https://localhost:8080/",
          "height": 68
        }
      },
      "source": [
        "transactions_train['gender'].value_counts()"
      ],
      "execution_count": 117,
      "outputs": [
        {
          "output_type": "execute_result",
          "data": {
            "text/plain": [
              "1    33964\n",
              "0    27475\n",
              "Name: gender, dtype: int64"
            ]
          },
          "metadata": {
            "tags": []
          },
          "execution_count": 117
        }
      ]
    },
    {
      "cell_type": "code",
      "metadata": {
        "id": "LorShFGqkn8O",
        "colab_type": "code",
        "outputId": "d8f951b0-7ce1-443d-dc2e-217e37939fb8",
        "colab": {
          "base_uri": "https://localhost:8080/",
          "height": 582
        }
      },
      "source": [
        "transactions_train.hist(figsize=(18, 8), layout=(5,4), bins=20)"
      ],
      "execution_count": 118,
      "outputs": [
        {
          "output_type": "execute_result",
          "data": {
            "text/plain": [
              "array([[<matplotlib.axes._subplots.AxesSubplot object at 0x7f4317583eb8>,\n",
              "        <matplotlib.axes._subplots.AxesSubplot object at 0x7f431e950240>,\n",
              "        <matplotlib.axes._subplots.AxesSubplot object at 0x7f431e8e4550>,\n",
              "        <matplotlib.axes._subplots.AxesSubplot object at 0x7f431c04d748>],\n",
              "       [<matplotlib.axes._subplots.AxesSubplot object at 0x7f431964ac18>,\n",
              "        <matplotlib.axes._subplots.AxesSubplot object at 0x7f43196abeb8>,\n",
              "        <matplotlib.axes._subplots.AxesSubplot object at 0x7f43196d39e8>,\n",
              "        <matplotlib.axes._subplots.AxesSubplot object at 0x7f4317a38a20>],\n",
              "       [<matplotlib.axes._subplots.AxesSubplot object at 0x7f4317a38a58>,\n",
              "        <matplotlib.axes._subplots.AxesSubplot object at 0x7f4317a1a588>,\n",
              "        <matplotlib.axes._subplots.AxesSubplot object at 0x7f43179c5b38>,\n",
              "        <matplotlib.axes._subplots.AxesSubplot object at 0x7f431797d128>],\n",
              "       [<matplotlib.axes._subplots.AxesSubplot object at 0x7f43179a66d8>,\n",
              "        <matplotlib.axes._subplots.AxesSubplot object at 0x7f4317952c88>,\n",
              "        <matplotlib.axes._subplots.AxesSubplot object at 0x7f4317909278>,\n",
              "        <matplotlib.axes._subplots.AxesSubplot object at 0x7f43178b3828>],\n",
              "       [<matplotlib.axes._subplots.AxesSubplot object at 0x7f43178e0dd8>,\n",
              "        <matplotlib.axes._subplots.AxesSubplot object at 0x7f43178953c8>,\n",
              "        <matplotlib.axes._subplots.AxesSubplot object at 0x7f4317844978>,\n",
              "        <matplotlib.axes._subplots.AxesSubplot object at 0x7f43177f6f28>]],\n",
              "      dtype=object)"
            ]
          },
          "metadata": {
            "tags": []
          },
          "execution_count": 118
        },
        {
          "output_type": "display_data",
          "data": {
            "image/png": "[encoded data removed]",
            "text/plain": [
              "<Figure size 1296x576 with 20 Axes>"
            ]
          },
          "metadata": {
            "tags": []
          }
        }
      ]
    },
    {
      "cell_type": "code",
      "metadata": {
        "id": "VF7SNN4jk37P",
        "colab_type": "code",
        "outputId": "a24a2dc3-2511-4654-b613-dabd417cda7d",
        "colab": {
          "base_uri": "https://localhost:8080/",
          "height": 578
        }
      },
      "source": [
        "plt.subplots(figsize=(10,10))\n",
        "sns.heatmap(transactions_train.corr(), square=True)\n",
        "plt.show()"
      ],
      "execution_count": 119,
      "outputs": [
        {
          "output_type": "display_data",
          "data": {
            "image/png": "[encoded data removed]",
            "text/plain": [
              "<Figure size 720x720 with 2 Axes>"
            ]
          },
          "metadata": {
            "tags": []
          }
        }
      ]
    },
    {
      "cell_type": "code",
      "metadata": {
        "id": "yLuc8lOjqiwS",
        "colab_type": "code",
        "outputId": "a486a6ad-af91-499a-e09b-b54b8d50cb2f",
        "colab": {
          "base_uri": "https://localhost:8080/",
          "height": 34
        }
      },
      "source": [
        "y = transactions_train['gender'].map({True: 1, False: 0}).values\n",
        "transactions_train.drop(['gender'], axis = 1, inplace=True)\n",
        "y"
      ],
      "execution_count": 120,
      "outputs": [
        {
          "output_type": "execute_result",
          "data": {
            "text/plain": [
              "array([0, 0, 0, ..., 1, 1, 1])"
            ]
          },
          "metadata": {
            "tags": []
          },
          "execution_count": 120
        }
      ]
    },
    {
      "cell_type": "code",
      "metadata": {
        "id": "HfDmH0jTyoF0",
        "colab_type": "code",
        "colab": {
          "base_uri": "https://localhost:8080/",
          "height": 136
        },
        "outputId": "e0488050-da90-4671-e271-dc7a93a0f47f"
      },
      "source": [
        "transactions_train.drop(['tr_datetime', 'term_id'], axis = 1, inplace=True)\n",
        "X = transactions_train.values.astype(np.float)\n",
        "X"
      ],
      "execution_count": 121,
      "outputs": [
        {
          "output_type": "execute_result",
          "data": {
            "text/plain": [
              "array([[  5411.  ,   1110.  ,  -5773.35,   5411.  ],\n",
              "       [  6011.  ,   2010.  , -11229.58,   6011.  ],\n",
              "       [  6011.  ,   2010.  , -67377.47,   6011.  ],\n",
              "       ...,\n",
              "       [  5211.  ,   1110.  , -10106.62,   5211.  ],\n",
              "       [  5499.  ,   1010.  , -16709.61,   5499.  ],\n",
              "       [  5311.  ,   1110.  , -17015.06,   5311.  ]])"
            ]
          },
          "metadata": {
            "tags": []
          },
          "execution_count": 121
        }
      ]
    },
    {
      "cell_type": "code",
      "metadata": {
        "id": "B9UF0oT3yoaJ",
        "colab_type": "code",
        "colab": {
          "base_uri": "https://localhost:8080/",
          "height": 136
        },
        "outputId": "490255dc-1037-427c-ba39-549052f2ccea"
      },
      "source": [
        "scaler = sklearn.preprocessing.StandardScaler()\n",
        "X = scaler.fit_transform(X)\n",
        "X"
      ],
      "execution_count": 122,
      "outputs": [
        {
          "output_type": "execute_result",
          "data": {
            "text/plain": [
              "array([[-0.27708383, -0.53655547,  0.04839166, -0.27708383],\n",
              "       [ 0.69428315, -0.09002649,  0.03759917,  0.69428315],\n",
              "       [ 0.69428315, -0.09002649, -0.07346212,  0.69428315],\n",
              "       ...,\n",
              "       [-0.60087282, -0.53655547,  0.0398204 , -0.60087282],\n",
              "       [-0.13461667, -0.58616981,  0.02675959, -0.13461667],\n",
              "       [-0.43897833, -0.53655547,  0.02615541, -0.43897833]])"
            ]
          },
          "metadata": {
            "tags": []
          },
          "execution_count": 122
        }
      ]
    },
    {
      "cell_type": "code",
      "metadata": {
        "id": "0X0C6m8m6Mlp",
        "colab_type": "code",
        "colab": {}
      },
      "source": [
        "from sklearn.model_selection import train_test_split\n",
        "\n",
        "X_train, X_test, y_train, y_test = train_test_split(X,y, test_size=0.15, random_state=42)"
      ],
      "execution_count": 0,
      "outputs": []
    },
    {
      "cell_type": "code",
      "metadata": {
        "id": "KyqbHwXPsCeb",
        "colab_type": "code",
        "outputId": "d480db7f-e4e9-493a-8a3b-af9f2786fec3",
        "colab": {
          "base_uri": "https://localhost:8080/",
          "height": 306
        }
      },
      "source": [
        "from sklearn.neighbors import KNeighborsClassifier\n",
        "\n",
        "knn = KNeighborsClassifier()\n",
        "knn_grid = {'n_neighbors': np.array(np.linspace(1, 100, 100), dtype='int')}\n",
        "gs = GridSearchCV(knn, knn_grid, cv=5)\n",
        "gs.fit(X_train, y_train)"
      ],
      "execution_count": 124,
      "outputs": [
        {
          "output_type": "execute_result",
          "data": {
            "text/plain": [
              "GridSearchCV(cv=5, error_score='raise-deprecating',\n",
              "             estimator=KNeighborsClassifier(algorithm='auto', leaf_size=30,\n",
              "                                            metric='minkowski',\n",
              "                                            metric_params=None, n_jobs=None,\n",
              "                                            n_neighbors=5, p=2,\n",
              "                                            weights='uniform'),\n",
              "             iid='warn', n_jobs=None,\n",
              "             param_grid={'n_neighbors': array([  1,   2,   3,   4,   5,   6,   7,   8,   9,  10,  11,  12,  13,\n",
              "        14,  15,  16,  17,  18,  19,  20,  21,  22,  23,  24,  25,  26,\n",
              "        27,  28,  29,  30,  31,  32,  33,  34,  35,  36,  37,  38,  39,\n",
              "        40,  41,  42,  43,  44,  45,  46,  47,  48,  49,  50,  51,  52,\n",
              "        53,  54,  55,  56,  57,  58,  59,  60,  61,  62,  63,  64,  65,\n",
              "        66,  67,  68,  69,  70,  71,  72,  73,  74,  75,  76,  77,  78,\n",
              "        79,  80,  81,  82,  83,  84,  85,  86,  87,  88,  89,  90,  91,\n",
              "        92,  93,  94,  95,  96,  97,  98,  99, 100])},\n",
              "             pre_dispatch='2*n_jobs', refit=True, return_train_score=False,\n",
              "             scoring=None, verbose=0)"
            ]
          },
          "metadata": {
            "tags": []
          },
          "execution_count": 124
        }
      ]
    },
    {
      "cell_type": "code",
      "metadata": {
        "id": "pmlpDB8Zs31o",
        "colab_type": "code",
        "colab": {}
      },
      "source": [
        "def grid_plot(x, y, x_label, title, y_label='accuracy'):\n",
        "    plt.figure(figsize=(12, 6))\n",
        "    plt.grid(True)\n",
        "    plt.plot(x, y, 'go-')\n",
        "    plt.xlabel(x_label)\n",
        "    plt.ylabel(y_label)\n",
        "    plt.title(title)"
      ],
      "execution_count": 0,
      "outputs": []
    },
    {
      "cell_type": "code",
      "metadata": {
        "id": "VrYo9cq4s5cb",
        "colab_type": "code",
        "outputId": "ad48d218-43d3-48c4-b816-da343ec6f1b6",
        "colab": {
          "base_uri": "https://localhost:8080/",
          "height": 405
        }
      },
      "source": [
        "grid_plot(knn_grid['n_neighbors'], gs.cv_results_['mean_test_score'], 'n_neighbors', 'KNeighborsClassifier')"
      ],
      "execution_count": 126,
      "outputs": [
        {
          "output_type": "display_data",
          "data": {
            "image/png": "[encoded data removed]",
            "text/plain": [
              "<Figure size 864x432 with 1 Axes>"
            ]
          },
          "metadata": {
            "tags": []
          }
        }
      ]
    },
    {
      "cell_type": "code",
      "metadata": {
        "id": "I3vgeIJTs-ZI",
        "colab_type": "code",
        "outputId": "c13a5abe-5862-45d7-d556-c0b1f0ce76ad",
        "colab": {
          "base_uri": "https://localhost:8080/",
          "height": 34
        }
      },
      "source": [
        "print(gs.best_params_, gs.best_score_)"
      ],
      "execution_count": 127,
      "outputs": [
        {
          "output_type": "stream",
          "text": [
            "{'n_neighbors': 25} 0.6226183865346686\n"
          ],
          "name": "stdout"
        }
      ]
    },
    {
      "cell_type": "code",
      "metadata": {
        "id": "DoQ3GUOetDQf",
        "colab_type": "code",
        "colab": {}
      },
      "source": [
        "knn = KNeighborsClassifier(n_neighbors=25) \n",
        "clf_knn = knn.fit(X_train, y_train)"
      ],
      "execution_count": 0,
      "outputs": []
    },
    {
      "cell_type": "code",
      "metadata": {
        "id": "VKUUbiT6tGX8",
        "colab_type": "code",
        "outputId": "5fe81845-d5b1-4bef-d515-7b99ef85aca5",
        "colab": {
          "base_uri": "https://localhost:8080/",
          "height": 34
        }
      },
      "source": [
        "y_knn = clf_knn.predict(X_test)\n",
        "y_knn"
      ],
      "execution_count": 129,
      "outputs": [
        {
          "output_type": "execute_result",
          "data": {
            "text/plain": [
              "array([1, 0, 0, ..., 0, 1, 1])"
            ]
          },
          "metadata": {
            "tags": []
          },
          "execution_count": 129
        }
      ]
    },
    {
      "cell_type": "code",
      "metadata": {
        "id": "3mnKUXJgtKEM",
        "colab_type": "code",
        "outputId": "10ca716e-f7d9-46bd-9886-4e909507fc22",
        "colab": {
          "base_uri": "https://localhost:8080/",
          "height": 170
        }
      },
      "source": [
        "print(sklearn.metrics.classification_report(y_test, y_knn))"
      ],
      "execution_count": 130,
      "outputs": [
        {
          "output_type": "stream",
          "text": [
            "              precision    recall  f1-score   support\n",
            "\n",
            "           0       0.57      0.57      0.57      4066\n",
            "           1       0.66      0.67      0.66      5150\n",
            "\n",
            "    accuracy                           0.62      9216\n",
            "   macro avg       0.62      0.62      0.62      9216\n",
            "weighted avg       0.62      0.62      0.62      9216\n",
            "\n"
          ],
          "name": "stdout"
        }
      ]
    },
    {
      "cell_type": "code",
      "metadata": {
        "id": "NT-YJwQ5tNfg",
        "colab_type": "code",
        "outputId": "d7d616f9-d7f0-427c-85bc-f87e29590afc",
        "colab": {
          "base_uri": "https://localhost:8080/",
          "height": 34
        }
      },
      "source": [
        "from sklearn import linear_model\n",
        "\n",
        "regr = linear_model.LinearRegression()\n",
        "regr.fit(X_train, y_train)"
      ],
      "execution_count": 131,
      "outputs": [
        {
          "output_type": "execute_result",
          "data": {
            "text/plain": [
              "LinearRegression(copy_X=True, fit_intercept=True, n_jobs=None, normalize=False)"
            ]
          },
          "metadata": {
            "tags": []
          },
          "execution_count": 131
        }
      ]
    },
    {
      "cell_type": "code",
      "metadata": {
        "id": "icOwHelQtQ4Y",
        "colab_type": "code",
        "outputId": "2631e7cb-ee40-4adb-afcc-2494cda58cd1",
        "colab": {
          "base_uri": "https://localhost:8080/",
          "height": 51
        }
      },
      "source": [
        "predictions = regr.predict(X_test)\n",
        "predictions"
      ],
      "execution_count": 132,
      "outputs": [
        {
          "output_type": "execute_result",
          "data": {
            "text/plain": [
              "array([0.56954288, 0.53902531, 0.5690546 , ..., 0.5690546 , 0.69258976,\n",
              "       0.5143671 ])"
            ]
          },
          "metadata": {
            "tags": []
          },
          "execution_count": 132
        }
      ]
    },
    {
      "cell_type": "code",
      "metadata": {
        "id": "dq-acr3ftUZq",
        "colab_type": "code",
        "outputId": "7eac7b72-02ea-4da2-fab9-60396721f8b1",
        "colab": {
          "base_uri": "https://localhost:8080/",
          "height": 857
        }
      },
      "source": [
        "rem = predictions - y_test\n",
        "plt.figure(figsize=(15, 8))\n",
        "plt.hist(rem, bins=50, normed=True)"
      ],
      "execution_count": 133,
      "outputs": [
        {
          "output_type": "execute_result",
          "data": {
            "text/plain": [
              "(array([0.04901961, 0.00816993, 0.10620915, 2.17728758, 7.10784314,\n",
              "        3.08006536, 3.61928105, 0.31862745, 0.31862745, 0.39624183,\n",
              "        0.44117647, 3.39460784, 0.02042484, 0.        , 0.        ,\n",
              "        0.        , 0.        , 0.        , 0.        , 0.        ,\n",
              "        0.        , 0.        , 0.        , 0.        , 0.        ,\n",
              "        0.        , 0.        , 0.        , 0.        , 0.        ,\n",
              "        0.        , 0.        , 0.        , 0.        , 0.        ,\n",
              "        0.        , 0.        , 0.02042484, 0.00816993, 0.19199346,\n",
              "        0.00816993, 2.5122549 , 6.94444444, 1.99754902, 3.05147059,\n",
              "        0.09803922, 0.17156863, 0.14705882, 1.09477124, 0.36356209]),\n",
              " array([-0.60819149, -0.58162899, -0.55506649, -0.52850399, -0.50194149,\n",
              "        -0.47537899, -0.44881649, -0.42225399, -0.39569149, -0.36912899,\n",
              "        -0.34256649, -0.31600399, -0.28944149, -0.26287899, -0.23631649,\n",
              "        -0.20975399, -0.18319149, -0.15662899, -0.13006649, -0.10350399,\n",
              "        -0.07694149, -0.05037899, -0.02381649,  0.00274601,  0.02930851,\n",
              "         0.05587101,  0.08243351,  0.10899601,  0.13555851,  0.16212101,\n",
              "         0.18868351,  0.21524601,  0.24180851,  0.26837101,  0.29493351,\n",
              "         0.32149601,  0.34805851,  0.37462101,  0.40118351,  0.42774601,\n",
              "         0.45430851,  0.48087101,  0.50743351,  0.53399601,  0.56055851,\n",
              "         0.58712101,  0.61368351,  0.64024601,  0.66680851,  0.69337101,\n",
              "         0.71993351]),\n",
              " <a list of 50 Patch objects>)"
            ]
          },
          "metadata": {
            "tags": []
          },
          "execution_count": 133
        },
        {
          "output_type": "display_data",
          "data": {
            "image/png": "[encoded data removed]",
            "text/plain": [
              "<Figure size 1080x576 with 1 Axes>"
            ]
          },
          "metadata": {
            "tags": []
          }
        }
      ]
    },
    {
      "cell_type": "code",
      "metadata": {
        "id": "k1JqNhjitXMq",
        "colab_type": "code",
        "outputId": "26c17781-4789-4812-e82f-d92e4d2f7c3f",
        "colab": {
          "base_uri": "https://localhost:8080/",
          "height": 34
        }
      },
      "source": [
        "r2 = sklearn.metrics.r2_score(y_test, predictions)\n",
        "\n",
        "print(f\"R2 score / LR = {r2}\")"
      ],
      "execution_count": 134,
      "outputs": [
        {
          "output_type": "stream",
          "text": [
            "R2 score / LR = 0.020502199419660805\n"
          ],
          "name": "stdout"
        }
      ]
    },
    {
      "cell_type": "code",
      "metadata": {
        "id": "3NzJyFbXtcSp",
        "colab_type": "code",
        "outputId": "c56930f9-adcb-4ae9-cb42-b108b8896f00",
        "colab": {
          "base_uri": "https://localhost:8080/",
          "height": 34
        }
      },
      "source": [
        "mae = sklearn.metrics.median_absolute_error(y_test, predictions)\n",
        "\n",
        "print (f\"MAE {mae}\")"
      ],
      "execution_count": 135,
      "outputs": [
        {
          "output_type": "stream",
          "text": [
            "MAE 0.48612117783769404\n"
          ],
          "name": "stdout"
        }
      ]
    },
    {
      "cell_type": "code",
      "metadata": {
        "id": "6oD62knUwa1q",
        "colab_type": "code",
        "colab": {}
      },
      "source": [
        "clf_knn = KNeighborsClassifier(n_neighbors=29).fit(X_train, y_train)"
      ],
      "execution_count": 0,
      "outputs": []
    },
    {
      "cell_type": "code",
      "metadata": {
        "id": "mCtHlCtKzWuk",
        "colab_type": "code",
        "colab": {}
      },
      "source": [
        "y_knn = clf_knn.predict(X_test)"
      ],
      "execution_count": 0,
      "outputs": []
    },
    {
      "cell_type": "code",
      "metadata": {
        "id": "Qb1b2Nt-zX8e",
        "colab_type": "code",
        "outputId": "df61b26c-9a3c-40a6-a9b1-646ed18edaac",
        "colab": {
          "base_uri": "https://localhost:8080/",
          "height": 485
        }
      },
      "source": [
        "fpr, tpr, _ = metrics.roc_curve(y_test, y_knn)\n",
        "plt.figure(figsize=(10, 7))\n",
        "plt.plot([0, 1], [0, 1], 'k--')\n",
        "plt.plot(fpr, tpr)\n",
        "print ('ROC AUC = {0:.4f}'.format(metrics.auc(fpr, tpr)))\n",
        "plt.ylabel(\"True Positive Rate\", fontsize=20)\n",
        "plt.xlabel(\"False Positive Rate\", fontsize=20)"
      ],
      "execution_count": 138,
      "outputs": [
        {
          "output_type": "stream",
          "text": [
            "ROC AUC = 0.6208\n"
          ],
          "name": "stdout"
        },
        {
          "output_type": "execute_result",
          "data": {
            "text/plain": [
              "Text(0.5, 0, 'False Positive Rate')"
            ]
          },
          "metadata": {
            "tags": []
          },
          "execution_count": 138
        },
        {
          "output_type": "display_data",
          "data": {
            "image/png": "[encoded data removed]",
            "text/plain": [
              "<Figure size 720x504 with 1 Axes>"
            ]
          },
          "metadata": {
            "tags": []
          }
        }
      ]
    },
    {
      "cell_type": "code",
      "metadata": {
        "id": "A8QgoUaP-5z6",
        "colab_type": "code",
        "outputId": "8085e469-d3dd-4a32-ed27-bd5146efe3a2",
        "colab": {
          "base_uri": "https://localhost:8080/",
          "height": 34
        }
      },
      "source": [
        "grid={\"C\": np.logspace(-2, 4, 20), \"penalty\":[\"l1\",\"l2\"] }\n",
        "logreg =LogisticRegression()\n",
        "logreg_cv = GridSearchCV(logreg, grid, cv=5)\n",
        "logreg_cv.fit(X, y)\n",
        "\n",
        "logreg_cv.best_params_, logreg_cv.best_score_"
      ],
      "execution_count": 139,
      "outputs": [
        {
          "output_type": "execute_result",
          "data": {
            "text/plain": [
              "({'C': 0.01, 'penalty': 'l2'}, 0.5596608017708622)"
            ]
          },
          "metadata": {
            "tags": []
          },
          "execution_count": 139
        }
      ]
    },
    {
      "cell_type": "code",
      "metadata": {
        "id": "jQJ7GuhI_f_C",
        "colab_type": "code",
        "outputId": "a6476bdf-0dd0-49e2-8212-99e3727b7ea3",
        "colab": {
          "base_uri": "https://localhost:8080/",
          "height": 404
        }
      },
      "source": [
        "grid_plot(logreg_cv.cv_results_['param_C'][:10], logreg_cv.cv_results_['mean_test_score'][:10], 'regularization strength', 'Logistit regr')"
      ],
      "execution_count": 140,
      "outputs": [
        {
          "output_type": "display_data",
          "data": {
            "image/png": "[encoded data removed]",
            "text/plain": [
              "<Figure size 864x432 with 1 Axes>"
            ]
          },
          "metadata": {
            "tags": []
          }
        }
      ]
    },
    {
      "cell_type": "code",
      "metadata": {
        "id": "w-kVCrcyAU_e",
        "colab_type": "code",
        "colab": {
          "base_uri": "https://localhost:8080/",
          "height": 51
        },
        "outputId": "a1e2652d-08b7-4e4f-8dba-fe7c0f5dd9cc"
      },
      "source": [
        "param_grid = {'min_samples_split': [i for i in range(70, 100, 2)],\n",
        "              'max_depth': [i for i in range(10, 15)],\n",
        "              'min_samples_leaf':[i for i in range(2, 6)]}\n",
        "tree = GridSearchCV(tree.DecisionTreeClassifier(), param_grid, cv=5)\n",
        "tree.fit(X, y)\n",
        "tree.best_params_, tree.best_score_"
      ],
      "execution_count": 141,
      "outputs": [
        {
          "output_type": "execute_result",
          "data": {
            "text/plain": [
              "({'max_depth': 11, 'min_samples_leaf': 4, 'min_samples_split': 92},\n",
              " 0.5641042334673416)"
            ]
          },
          "metadata": {
            "tags": []
          },
          "execution_count": 141
        }
      ]
    },
    {
      "cell_type": "code",
      "metadata": {
        "id": "fiUAobomAZlf",
        "colab_type": "code",
        "colab": {
          "base_uri": "https://localhost:8080/",
          "height": 405
        },
        "outputId": "5c8a8041-b550-48cc-a012-83e8755e8c33"
      },
      "source": [
        "grid_plot(np.array(tree.cv_results_['param_min_samples_split']), tree.cv_results_['mean_test_score'], 'min_samples_split', 'tree')"
      ],
      "execution_count": 142,
      "outputs": [
        {
          "output_type": "display_data",
          "data": {
            "image/png": "[encoded data removed]",
            "text/plain": [
              "<Figure size 864x432 with 1 Axes>"
            ]
          },
          "metadata": {
            "tags": []
          }
        }
      ]
    },
    {
      "cell_type": "code",
      "metadata": {
        "id": "PeKROR-rAclW",
        "colab_type": "code",
        "colab": {
          "base_uri": "https://localhost:8080/",
          "height": 68
        },
        "outputId": "4c80040d-15fb-418c-f794-ca70febd161d"
      },
      "source": [
        "param_grid = {'max_depth': [i for i in range(2, 15)],\n",
        "              'min_samples_split': [i for i in range(2, 10)],\n",
        "              'max_features': [2, len(X[0])-1]\n",
        "              }\n",
        "\n",
        "gs = GridSearchCV(RandomForestClassifier(), param_grid, cv=5)\n",
        "gs.fit(X, y)\n",
        "\n",
        "print()\n",
        "gs.best_params_, gs.best_score_"
      ],
      "execution_count": 143,
      "outputs": [
        {
          "output_type": "stream",
          "text": [
            "\n"
          ],
          "name": "stdout"
        },
        {
          "output_type": "execute_result",
          "data": {
            "text/plain": [
              "({'max_depth': 7, 'max_features': 2, 'min_samples_split': 3},\n",
              " 0.5832777226191832)"
            ]
          },
          "metadata": {
            "tags": []
          },
          "execution_count": 143
        }
      ]
    }
  ]
}