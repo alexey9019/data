{
  "nbformat": 4,
  "nbformat_minor": 0,
  "metadata": {
    "hide_input": false,
    "kernelspec": {
      "display_name": "Python 3",
      "language": "python",
      "name": "python3"
    },
    "language_info": {
      "codemirror_mode": {
        "name": "ipython",
        "version": 3
      },
      "file_extension": ".py",
      "mimetype": "text/x-python",
      "name": "python",
      "nbconvert_exporter": "python",
      "pygments_lexer": "ipython3",
      "version": "3.7.1"
    },
    "varInspector": {
      "cols": {
        "lenName": 16,
        "lenType": 16,
        "lenVar": 40
      },
      "kernels_config": {
        "python": {
          "delete_cmd_postfix": "",
          "delete_cmd_prefix": "del ",
          "library": "var_list.py",
          "varRefreshCmd": "print(var_dic_list())"
        },
        "r": {
          "delete_cmd_postfix": ") ",
          "delete_cmd_prefix": "rm(",
          "library": "var_list.r",
          "varRefreshCmd": "cat(var_dic_list()) "
        }
      },
      "types_to_exclude": [
        "module",
        "function",
        "builtin_function_or_method",
        "instance",
        "_Feature"
      ],
      "window_display": false
    },
    "colab": {
      "name": "1.ipynb",
      "provenance": []
    }
  },
  "cells": [
    {
      "cell_type": "markdown",
      "metadata": {
        "id": "9knwjLQkMpzw",
        "colab_type": "text"
      },
      "source": [
        "Цель - предсказать пола клиента по транзакциям."
      ]
    },
    {
      "cell_type": "code",
      "metadata": {
        "ExecuteTime": {
          "end_time": "2019-03-05T17:34:52.054851Z",
          "start_time": "2019-03-05T17:34:51.515762Z"
        },
        "id": "Njgqrzx6Mpz5",
        "colab_type": "code",
        "colab": {}
      },
      "source": [
        "import pandas as pd\n",
        "import numpy as np\n",
        "import xgboost as xgb\n",
        "import matplotlib.pyplot as plt\n",
        "import seaborn as sns\n",
        "import sklearn\n",
        "import seaborn as sns\n",
        "import matplotlib\n",
        "from sklearn.svm import SVC\n",
        "from sklearn import tree\n",
        "from sklearn.ensemble import RandomForestClassifier\n",
        "from sklearn.ensemble import GradientBoostingClassifier\n",
        "from sklearn import metrics\n",
        "from sklearn.linear_model import LogisticRegression\n",
        "from warnings import filterwarnings\n",
        "filterwarnings('ignore')\n",
        "\n",
        "%matplotlib inline"
      ],
      "execution_count": 0,
      "outputs": []
    },
    {
      "cell_type": "code",
      "metadata": {
        "id": "PBoowUFzMuhx",
        "colab_type": "code",
        "outputId": "90100a4f-927e-4efe-b9ca-bacfdfbc213b",
        "colab": {
          "base_uri": "https://localhost:8080/",
          "height": 34
        }
      },
      "source": [
        "!git clone https://github.com/alexey9019/data.git"
      ],
      "execution_count": 3,
      "outputs": [
        {
          "output_type": "stream",
          "text": [
            "fatal: destination path 'data' already exists and is not an empty directory.\n"
          ],
          "name": "stdout"
        }
      ]
    },
    {
      "cell_type": "code",
      "metadata": {
        "ExecuteTime": {
          "end_time": "2019-03-05T17:34:58.314241Z",
          "start_time": "2019-03-05T17:34:52.056205Z"
        },
        "scrolled": true,
        "id": "PYKg7RtjMpz-",
        "colab_type": "code",
        "colab": {}
      },
      "source": [
        "tr_mcc_codes = pd.read_csv('/content/data/tr_mcc_codes.csv', sep = ';', index_col = 'mcc_code')\n",
        "tr_types = pd.read_csv('/content/data/tr_types.csv', sep = ';', index_col = 'tr_type')\n",
        "transactions = pd.read_csv('/content/data/transactions.csv', index_col = 'customer_id')\n",
        "gender_train = pd.read_csv('/content/data/gender_train.csv', index_col = 'customer_id')\n",
        "gender_test = pd.read_csv('/content/data/gender_test.csv', index_col = 'customer_id')\n",
        "\n",
        "transactions_train = transactions.join(gender_train, how = 'inner')\n",
        "transactions_test = transactions.join(gender_test, how = 'inner')"
      ],
      "execution_count": 0,
      "outputs": []
    },
    {
      "cell_type": "code",
      "metadata": {
        "ExecuteTime": {
          "end_time": "2019-03-05T17:34:58.354996Z",
          "start_time": "2019-03-05T17:34:58.315591Z"
        },
        "id": "NPzU887OMp0A",
        "colab_type": "code",
        "colab": {}
      },
      "source": [
        "# создадим функции для построения классификатора \n",
        "# оценим результаты и построим прогноз для тестовых пользователей\n",
        "# cv_score - cross-validation score (среднее значение метрики ROC AUC на тренировочных данных)\n",
        "def cv_score(params, train, y_true):\n",
        "    cv_res = xgb.cv(params, xgb.DMatrix(train, y_true),\n",
        "               early_stopping_rounds = 10, maximize = True, \n",
        "               num_boost_round = 10000, nfold = 5, stratified = True)\n",
        "    index_argmax = cv_res['test-auc-mean'].argmax()\n",
        "    print('Cross-vali hi dation, ROC AUC: {:.3f}+-{:.3f}, Trees: {}'.format(cv_res.loc[index_argmax]['test-auc-mean'],\n",
        "                                                                     cv_res.loc[index_argmax]['test-auc-std'],\n",
        "                                                                     index_argmax))\n",
        "\n",
        "# построим модель и выведем результаты классификации тестовых пользователей\n",
        "def fit_predict(params, num_trees, train, test, target):\n",
        "    params['learning_rate'] = params['eta']\n",
        "    clf = xgb.train(params, xgb.DMatrix(train.values, target, feature_names = list(train.columns)), \n",
        "              num_boost_round = num_trees, maximize = True)\n",
        "    y_pred = clf.predict(xgb.DMatrix(test.values, feature_names = list(train.columns)))\n",
        "    submission = pd.DataFrame(index = test.index, data = y_pred, columns = ['probability'])\n",
        "    return clf, submission\n",
        "\n",
        "# отобразим важность переменной\n",
        "def draw_feature_importances(clf, top_k = 10):\n",
        "    plt.figure(figsize = (10, 10))\n",
        "    \n",
        "    importances = dict(sorted(clf.get_score().items(), key = lambda x: x[1])[-top_k:])\n",
        "    y_pos = np.arange(len(importances))\n",
        "    \n",
        "    plt.barh(y_pos, list(importances.values()), align = 'center', color = 'red')\n",
        "    plt.yticks(y_pos, importances.keys(), fontsize = 12)\n",
        "    plt.xticks(fontsize = 12)\n",
        "    plt.title('Важность переменной', fontsize=18)\n",
        "    plt.ylim(-0.5, len(importances) - 0.5)\n",
        "    plt.show()"
      ],
      "execution_count": 0,
      "outputs": []
    },
    {
      "cell_type": "code",
      "metadata": {
        "ExecuteTime": {
          "end_time": "2019-03-05T17:34:58.362104Z",
          "start_time": "2019-03-05T17:34:58.356308Z"
        },
        "id": "hvJfVP12Mp0F",
        "colab_type": "code",
        "colab": {}
      },
      "source": [
        "# зададим параметры\n",
        "params = {\n",
        "    'eta': 0.1,\n",
        "    'max_depth': 3,\n",
        "    'subsample': 0.8,\n",
        "    'colsample_bytree': 0.8,\n",
        "    \n",
        "    'gamma': 0,\n",
        "    'lambda': 0,\n",
        "    'alpha': 0,\n",
        "    'min_child_weight': 0,\n",
        "    \n",
        "    'eval_metric': 'auc',\n",
        "    'objective': 'binary:logistic' ,\n",
        "    'booster': 'gbtree',\n",
        "    'njobs': -1,\n",
        "    'tree_method': 'approx'\n",
        "}"
      ],
      "execution_count": 0,
      "outputs": []
    },
    {
      "cell_type": "code",
      "metadata": {
        "ExecuteTime": {
          "end_time": "2019-03-05T17:35:41.272300Z",
          "start_time": "2019-03-05T17:34:58.363622Z"
        },
        "id": "sN_d_RjxMp0H",
        "colab_type": "code",
        "colab": {}
      },
      "source": [
        "# используем медиану, среднеквадратичное отклонение и количество\n",
        "def features_creation_basic(x): \n",
        "    features = []\n",
        "    features.append(pd.Series(x[x['amount']<0]['amount'].agg(['median', 'std', 'count'])\\\n",
        "                                                        .add_prefix('negative_transactions_')))\n",
        " \n",
        "    return pd.concat(features)\n",
        "\n",
        "data_train = transactions_train.groupby(transactions_train.index).apply(features_creation_basic)\n",
        "data_test = transactions_test.groupby(transactions_test.index).apply(features_creation_basic)"
      ],
      "execution_count": 0,
      "outputs": []
    },
    {
      "cell_type": "code",
      "metadata": {
        "ExecuteTime": {
          "end_time": "2019-03-05T17:35:45.011046Z",
          "start_time": "2019-03-05T17:35:41.273326Z"
        },
        "id": "8KMujpyiMp0K",
        "colab_type": "code",
        "outputId": "52a444c1-f94c-4427-f1f9-13e50d3d8dcf",
        "colab": {
          "base_uri": "https://localhost:8080/",
          "height": 34
        }
      },
      "source": [
        "# выведем результат\n",
        "target = data_train.join(gender_train, how='inner')['gender']\n",
        "cv_score(params, data_train, target)"
      ],
      "execution_count": 84,
      "outputs": [
        {
          "output_type": "stream",
          "text": [
            "Cross-vali hi dation, ROC AUC: 0.611+-0.064, Trees: 50\n"
          ],
          "name": "stdout"
        }
      ]
    },
    {
      "cell_type": "code",
      "metadata": {
        "ExecuteTime": {
          "end_time": "2019-03-05T17:35:45.714620Z",
          "start_time": "2019-03-05T17:35:45.018570Z"
        },
        "id": "zvwZx5DMMp0N",
        "colab_type": "code",
        "colab": {}
      },
      "source": [
        "# результат классификации тестовых пользователей\n",
        "clf, submission = fit_predict(params, 70, data_train, data_test, target)"
      ],
      "execution_count": 0,
      "outputs": []
    },
    {
      "cell_type": "code",
      "metadata": {
        "ExecuteTime": {
          "end_time": "2019-03-05T17:35:45.897370Z",
          "start_time": "2019-03-05T17:35:45.719320Z"
        },
        "scrolled": false,
        "id": "gWn_wZEOMp0P",
        "colab_type": "code",
        "outputId": "cfa51c02-8b8e-4ff0-87d1-055e58e0d9d8",
        "colab": {
          "base_uri": "https://localhost:8080/",
          "height": 615
        }
      },
      "source": [
        "# отобразим важность переменной\n",
        "draw_feature_importances(clf, 10)"
      ],
      "execution_count": 10,
      "outputs": [
        {
          "output_type": "display_data",
          "data": {
            "image/png": "[encoded data removed]",
            "text/plain": [
              "<Figure size 720x720 with 1 Axes>"
            ]
          },
          "metadata": {
            "tags": []
          }
        }
      ]
    },
    {
      "cell_type": "code",
      "metadata": {
        "id": "zEblMA-_Mp0R",
        "colab_type": "code",
        "colab": {}
      },
      "source": [
        "# сохраним в файл\n",
        "submission.to_csv('/content/data/basic_features_submission.csv')"
      ],
      "execution_count": 0,
      "outputs": []
    },
    {
      "cell_type": "code",
      "metadata": {
        "ExecuteTime": {
          "end_time": "2019-03-05T17:35:57.677748Z",
          "start_time": "2019-03-05T17:35:45.921444Z"
        },
        "id": "1CRUMCJVMp0V",
        "colab_type": "code",
        "colab": {}
      },
      "source": [
        "# используем данные о том, где совершались транзакции\n",
        "# предполагаем, что мужчины чаще будут покупать цветы (mcc_code 5992 - флористика)\n",
        "for df in [transactions_train, transactions_test]:\n",
        "    df['mcc_code'] == 5992\n",
        "    df['mcc'] = df['mcc_code']"
      ],
      "execution_count": 0,
      "outputs": []
    },
    {
      "cell_type": "code",
      "metadata": {
        "ExecuteTime": {
          "end_time": "2019-03-05T17:35:57.687397Z",
          "start_time": "2019-03-05T17:35:57.678823Z"
        },
        "id": "1pnZN8jCMp0Y",
        "colab_type": "code",
        "colab": {}
      },
      "source": [
        "# используем медиану, среднеквадратичное отклонение и количество\n",
        "def features_creation_advanced(x): \n",
        "    features = []\n",
        "    features.append(pd.Series(x['mcc_code'].value_counts(normalize = True).add_prefix('mcc_code_')))\n",
        "    features.append(pd.Series(x['mcc'].value_counts(normalize = True).add_prefix('mcc_')))\n",
        "    \n",
        "    features.append(pd.Series(x[x['amount']<0]['amount'].agg(['median', 'std', 'count'])\\\n",
        "                                                        .add_prefix('negative_transactions_')))\n",
        "    features.append(pd.Series(x[x['amount']>0]['amount'].agg(['median', 'std', 'count'])\\\n",
        "                                                        .add_prefix('positive_transactions_')))\n",
        "    \n",
        "    return pd.concat(features)"
      ],
      "execution_count": 0,
      "outputs": []
    },
    {
      "cell_type": "code",
      "metadata": {
        "ExecuteTime": {
          "end_time": "2019-03-05T17:37:19.784321Z",
          "start_time": "2019-03-05T17:35:57.688448Z"
        },
        "id": "iZtvb_8jMp0a",
        "colab_type": "code",
        "colab": {}
      },
      "source": [
        "data_train = transactions_train.groupby(transactions_train.index)\\\n",
        "                               .apply(features_creation_advanced).unstack(-1)\n",
        "data_test = transactions_test.groupby(transactions_test.index)\\\n",
        "                             .apply(features_creation_advanced).unstack(-1)"
      ],
      "execution_count": 0,
      "outputs": []
    },
    {
      "cell_type": "code",
      "metadata": {
        "ExecuteTime": {
          "end_time": "2019-03-05T17:37:27.200528Z",
          "start_time": "2019-03-05T17:37:19.785535Z"
        },
        "id": "6_9WA28JMp0d",
        "colab_type": "code",
        "outputId": "2f3fea6a-1033-4956-a2e0-b58c7ab10e95",
        "colab": {
          "base_uri": "https://localhost:8080/",
          "height": 34
        }
      },
      "source": [
        "# выведем результат\n",
        "target = data_train.join(gender_train, how = 'inner')['gender']\n",
        "cv_score(params, data_train, target)"
      ],
      "execution_count": 88,
      "outputs": [
        {
          "output_type": "stream",
          "text": [
            "Cross-vali hi dation, ROC AUC: 0.808+-0.075, Trees: 38\n"
          ],
          "name": "stdout"
        }
      ]
    },
    {
      "cell_type": "code",
      "metadata": {
        "ExecuteTime": {
          "end_time": "2019-03-05T17:37:28.426836Z",
          "start_time": "2019-03-05T17:37:28.308620Z"
        },
        "scrolled": false,
        "id": "Fp28OmdyMp0i",
        "colab_type": "code",
        "outputId": "c8253e4b-13ae-4f29-e593-ca6e31be63d0",
        "colab": {
          "base_uri": "https://localhost:8080/",
          "height": 615
        }
      },
      "source": [
        "# отобразим важность переменной\n",
        "draw_feature_importances(clf, 10)"
      ],
      "execution_count": 15,
      "outputs": [
        {
          "output_type": "display_data",
          "data": {
            "image/png": "[encoded data removed]",
            "text/plain": [
              "<Figure size 720x720 with 1 Axes>"
            ]
          },
          "metadata": {
            "tags": []
          }
        }
      ]
    },
    {
      "cell_type": "code",
      "metadata": {
        "ExecuteTime": {
          "end_time": "2019-03-05T17:37:28.448839Z",
          "start_time": "2019-03-05T17:37:28.438234Z"
        },
        "id": "d0XsTXpXMp0m",
        "colab_type": "code",
        "colab": {}
      },
      "source": [
        "# сохраним в файл\n",
        "submission.to_csv('/content/data/submission_advanced.csv')"
      ],
      "execution_count": 0,
      "outputs": []
    },
    {
      "cell_type": "code",
      "metadata": {
        "id": "5Q3j6aOhit-O",
        "colab_type": "code",
        "colab": {
          "base_uri": "https://localhost:8080/",
          "height": 297
        },
        "outputId": "7180aeb4-3786-413d-aed5-c35bc269e362"
      },
      "source": [
        "transactions_train.describe()"
      ],
      "execution_count": 94,
      "outputs": [
        {
          "output_type": "execute_result",
          "data": {
            "text/html": [
              "<div>\n",
              "<style scoped>\n",
              "    .dataframe tbody tr th:only-of-type {\n",
              "        vertical-align: middle;\n",
              "    }\n",
              "\n",
              "    .dataframe tbody tr th {\n",
              "        vertical-align: top;\n",
              "    }\n",
              "\n",
              "    .dataframe thead th {\n",
              "        text-align: right;\n",
              "    }\n",
              "</style>\n",
              "<table border=\"1\" class=\"dataframe\">\n",
              "  <thead>\n",
              "    <tr style=\"text-align: right;\">\n",
              "      <th></th>\n",
              "      <th>mcc_code</th>\n",
              "      <th>tr_type</th>\n",
              "      <th>amount</th>\n",
              "      <th>mcc</th>\n",
              "    </tr>\n",
              "  </thead>\n",
              "  <tbody>\n",
              "    <tr>\n",
              "      <th>count</th>\n",
              "      <td>17347.000000</td>\n",
              "      <td>17347.000000</td>\n",
              "      <td>1.734700e+04</td>\n",
              "      <td>17347.000000</td>\n",
              "    </tr>\n",
              "    <tr>\n",
              "      <th>mean</th>\n",
              "      <td>5544.585346</td>\n",
              "      <td>1975.734536</td>\n",
              "      <td>-3.887611e+04</td>\n",
              "      <td>5544.585346</td>\n",
              "    </tr>\n",
              "    <tr>\n",
              "      <th>std</th>\n",
              "      <td>641.410087</td>\n",
              "      <td>1707.399874</td>\n",
              "      <td>3.535125e+05</td>\n",
              "      <td>641.410087</td>\n",
              "    </tr>\n",
              "    <tr>\n",
              "      <th>min</th>\n",
              "      <td>1711.000000</td>\n",
              "      <td>1010.000000</td>\n",
              "      <td>-1.089269e+07</td>\n",
              "      <td>1711.000000</td>\n",
              "    </tr>\n",
              "    <tr>\n",
              "      <th>25%</th>\n",
              "      <td>4829.000000</td>\n",
              "      <td>1030.000000</td>\n",
              "      <td>-3.368874e+04</td>\n",
              "      <td>4829.000000</td>\n",
              "    </tr>\n",
              "    <tr>\n",
              "      <th>50%</th>\n",
              "      <td>5499.000000</td>\n",
              "      <td>1110.000000</td>\n",
              "      <td>-8.587710e+03</td>\n",
              "      <td>5499.000000</td>\n",
              "    </tr>\n",
              "    <tr>\n",
              "      <th>75%</th>\n",
              "      <td>6011.000000</td>\n",
              "      <td>2010.000000</td>\n",
              "      <td>-2.245920e+03</td>\n",
              "      <td>6011.000000</td>\n",
              "    </tr>\n",
              "    <tr>\n",
              "      <th>max</th>\n",
              "      <td>9399.000000</td>\n",
              "      <td>7071.000000</td>\n",
              "      <td>2.202727e+07</td>\n",
              "      <td>9399.000000</td>\n",
              "    </tr>\n",
              "  </tbody>\n",
              "</table>\n",
              "</div>"
            ],
            "text/plain": [
              "           mcc_code       tr_type        amount           mcc\n",
              "count  17347.000000  17347.000000  1.734700e+04  17347.000000\n",
              "mean    5544.585346   1975.734536 -3.887611e+04   5544.585346\n",
              "std      641.410087   1707.399874  3.535125e+05    641.410087\n",
              "min     1711.000000   1010.000000 -1.089269e+07   1711.000000\n",
              "25%     4829.000000   1030.000000 -3.368874e+04   4829.000000\n",
              "50%     5499.000000   1110.000000 -8.587710e+03   5499.000000\n",
              "75%     6011.000000   2010.000000 -2.245920e+03   6011.000000\n",
              "max     9399.000000   7071.000000  2.202727e+07   9399.000000"
            ]
          },
          "metadata": {
            "tags": []
          },
          "execution_count": 94
        }
      ]
    },
    {
      "cell_type": "code",
      "metadata": {
        "id": "JA7C47OOi0xe",
        "colab_type": "code",
        "colab": {
          "base_uri": "https://localhost:8080/",
          "height": 102
        },
        "outputId": "2b64a7b2-40c5-4a6d-90a5-6ddbae776e68"
      },
      "source": [
        "transactions_train.dtypes"
      ],
      "execution_count": 57,
      "outputs": [
        {
          "output_type": "execute_result",
          "data": {
            "text/plain": [
              "mcc_code      int64\n",
              "tr_type       int64\n",
              "amount      float64\n",
              "mcc           int64\n",
              "dtype: object"
            ]
          },
          "metadata": {
            "tags": []
          },
          "execution_count": 57
        }
      ]
    },
    {
      "cell_type": "code",
      "metadata": {
        "id": "JfoD6osfjKD2",
        "colab_type": "code",
        "colab": {
          "base_uri": "https://localhost:8080/",
          "height": 68
        },
        "outputId": "d13346f1-ac0f-4eac-da92-b001ce7d0a33"
      },
      "source": [
        "transactions_train['gender'].value_counts()"
      ],
      "execution_count": 58,
      "outputs": [
        {
          "output_type": "execute_result",
          "data": {
            "text/plain": [
              "1    33964\n",
              "0    27475\n",
              "Name: gender, dtype: int64"
            ]
          },
          "metadata": {
            "tags": []
          },
          "execution_count": 58
        }
      ]
    },
    {
      "cell_type": "code",
      "metadata": {
        "id": "LorShFGqkn8O",
        "colab_type": "code",
        "colab": {
          "base_uri": "https://localhost:8080/",
          "height": 504
        },
        "outputId": "d4b3371f-4b1b-49d9-801a-dca65122163f"
      },
      "source": [
        "transactions_train.hist(figsize=(18, 8), layout=(5,4), bins=20)"
      ],
      "execution_count": 59,
      "outputs": [
        {
          "output_type": "execute_result",
          "data": {
            "text/plain": [
              "array([[<matplotlib.axes._subplots.AxesSubplot object at 0x7f8298a502b0>,\n",
              "        <matplotlib.axes._subplots.AxesSubplot object at 0x7f82991dad68>,\n",
              "        <matplotlib.axes._subplots.AxesSubplot object at 0x7f82989d1358>,\n",
              "        <matplotlib.axes._subplots.AxesSubplot object at 0x7f8298981908>],\n",
              "       [<matplotlib.axes._subplots.AxesSubplot object at 0x7f829892eeb8>,\n",
              "        <matplotlib.axes._subplots.AxesSubplot object at 0x7f82988e74a8>,\n",
              "        <matplotlib.axes._subplots.AxesSubplot object at 0x7f8298914a58>,\n",
              "        <matplotlib.axes._subplots.AxesSubplot object at 0x7f82988ce080>],\n",
              "       [<matplotlib.axes._subplots.AxesSubplot object at 0x7f82988ce0b8>,\n",
              "        <matplotlib.axes._subplots.AxesSubplot object at 0x7f829882aba8>,\n",
              "        <matplotlib.axes._subplots.AxesSubplot object at 0x7f82987e7198>,\n",
              "        <matplotlib.axes._subplots.AxesSubplot object at 0x7f8298817748>],\n",
              "       [<matplotlib.axes._subplots.AxesSubplot object at 0x7f82987c9cf8>,\n",
              "        <matplotlib.axes._subplots.AxesSubplot object at 0x7f82987862e8>,\n",
              "        <matplotlib.axes._subplots.AxesSubplot object at 0x7f8298737898>,\n",
              "        <matplotlib.axes._subplots.AxesSubplot object at 0x7f82986e8e48>],\n",
              "       [<matplotlib.axes._subplots.AxesSubplot object at 0x7f82986a8438>,\n",
              "        <matplotlib.axes._subplots.AxesSubplot object at 0x7f82986d79e8>,\n",
              "        <matplotlib.axes._subplots.AxesSubplot object at 0x7f8298688f98>,\n",
              "        <matplotlib.axes._subplots.AxesSubplot object at 0x7f8298643588>]],\n",
              "      dtype=object)"
            ]
          },
          "metadata": {
            "tags": []
          },
          "execution_count": 59
        },
        {
          "output_type": "display_data",
          "data": {
            "image/png": "[encoded data removed]",
            "text/plain": [
              "<Figure size 1296x576 with 20 Axes>"
            ]
          },
          "metadata": {
            "tags": []
          }
        }
      ]
    },
    {
      "cell_type": "code",
      "metadata": {
        "id": "VF7SNN4jk37P",
        "colab_type": "code",
        "colab": {
          "base_uri": "https://localhost:8080/",
          "height": 578
        },
        "outputId": "563cb72c-467c-40c2-a59f-5fe263b34835"
      },
      "source": [
        "plt.subplots(figsize=(10,10))\n",
        "sns.heatmap(transactions_train.corr(), square=True)\n",
        "plt.show()"
      ],
      "execution_count": 60,
      "outputs": [
        {
          "output_type": "display_data",
          "data": {
            "image/png": "[encoded data removed]",
            "text/plain": [
              "<Figure size 720x720 with 2 Axes>"
            ]
          },
          "metadata": {
            "tags": []
          }
        }
      ]
    },
    {
      "cell_type": "code",
      "metadata": {
        "id": "o6BHSwGzmt0u",
        "colab_type": "code",
        "colab": {
          "base_uri": "https://localhost:8080/",
          "height": 136
        },
        "outputId": "d8a1a8bb-20c7-458a-abdb-d71ee87781f1"
      },
      "source": [
        "transactions_train.drop(['tr_datetime', 'term_id'], axis = 1, inplace=True)\n",
        "X = transactions_train.values.astype(np.float)\n",
        "X"
      ],
      "execution_count": 95,
      "outputs": [
        {
          "output_type": "execute_result",
          "data": {
            "text/plain": [
              "array([[  5411.  ,   1110.  ,  -5773.35,   5411.  ],\n",
              "       [  6011.  ,   2010.  , -11229.58,   6011.  ],\n",
              "       [  6011.  ,   2010.  , -67377.47,   6011.  ],\n",
              "       ...,\n",
              "       [  5211.  ,   1110.  , -10106.62,   5211.  ],\n",
              "       [  5499.  ,   1010.  , -16709.61,   5499.  ],\n",
              "       [  5311.  ,   1110.  , -17015.06,   5311.  ]])"
            ]
          },
          "metadata": {
            "tags": []
          },
          "execution_count": 95
        }
      ]
    },
    {
      "cell_type": "code",
      "metadata": {
        "id": "yS1T1rAiqb-h",
        "colab_type": "code",
        "colab": {
          "base_uri": "https://localhost:8080/",
          "height": 136
        },
        "outputId": "a14702af-bda3-4c26-a908-cb56d5cd0600"
      },
      "source": [
        "scaler = sklearn.preprocessing.StandardScaler()\n",
        "X = scaler.fit_transform(X)\n",
        "X"
      ],
      "execution_count": 96,
      "outputs": [
        {
          "output_type": "execute_result",
          "data": {
            "text/plain": [
              "array([[-0.27708383, -0.53655547,  0.04839166, -0.27708383],\n",
              "       [ 0.69428315, -0.09002649,  0.03759917,  0.69428315],\n",
              "       [ 0.69428315, -0.09002649, -0.07346212,  0.69428315],\n",
              "       ...,\n",
              "       [-0.60087282, -0.53655547,  0.0398204 , -0.60087282],\n",
              "       [-0.13461667, -0.58616981,  0.02675959, -0.13461667],\n",
              "       [-0.43897833, -0.53655547,  0.02615541, -0.43897833]])"
            ]
          },
          "metadata": {
            "tags": []
          },
          "execution_count": 96
        }
      ]
    },
    {
      "cell_type": "code",
      "metadata": {
        "id": "yLuc8lOjqiwS",
        "colab_type": "code",
        "colab": {
          "base_uri": "https://localhost:8080/",
          "height": 34
        },
        "outputId": "9cc48d76-4fe1-4856-c9bc-ababfc0a2808"
      },
      "source": [
        "y = transactions_train['gender'].map({True: 1, False: 0}).values\n",
        "transactions_train.drop(['gender'], axis = 1, inplace=True)\n",
        "y"
      ],
      "execution_count": 92,
      "outputs": [
        {
          "output_type": "execute_result",
          "data": {
            "text/plain": [
              "array([0, 0, 0, ..., 1, 1, 1])"
            ]
          },
          "metadata": {
            "tags": []
          },
          "execution_count": 92
        }
      ]
    },
    {
      "cell_type": "code",
      "metadata": {
        "id": "0X0C6m8m6Mlp",
        "colab_type": "code",
        "colab": {}
      },
      "source": [
        "from sklearn.model_selection import train_test_split\n",
        "\n",
        "X_train, X_test, y_train, y_test = train_test_split(X,y, test_size=0.15, random_state=42)"
      ],
      "execution_count": 0,
      "outputs": []
    },
    {
      "cell_type": "code",
      "metadata": {
        "id": "KyqbHwXPsCeb",
        "colab_type": "code",
        "colab": {
          "base_uri": "https://localhost:8080/",
          "height": 306
        },
        "outputId": "525d007e-dd80-41f2-cc9b-a5f548bb81d6"
      },
      "source": [
        "from sklearn.model_selection import GridSearchCV\n",
        "from sklearn.neighbors import KNeighborsClassifier\n",
        "\n",
        "knn = KNeighborsClassifier()\n",
        "knn_grid = {'n_neighbors': np.array(np.linspace(1, 100, 100), dtype='int')} # перебираем по параметру <<n_neighbors>>, по сетке заданной np.linspace(2, 100, 10)\n",
        "\n",
        "gs = GridSearchCV(knn, knn_grid, cv=5)\n",
        "gs.fit(X_train, y_train)"
      ],
      "execution_count": 98,
      "outputs": [
        {
          "output_type": "execute_result",
          "data": {
            "text/plain": [
              "GridSearchCV(cv=5, error_score='raise-deprecating',\n",
              "             estimator=KNeighborsClassifier(algorithm='auto', leaf_size=30,\n",
              "                                            metric='minkowski',\n",
              "                                            metric_params=None, n_jobs=None,\n",
              "                                            n_neighbors=5, p=2,\n",
              "                                            weights='uniform'),\n",
              "             iid='warn', n_jobs=None,\n",
              "             param_grid={'n_neighbors': array([  1,   2,   3,   4,   5,   6,   7,   8,   9,  10,  11,  12,  13,\n",
              "        14,  15,  16,  17,  18,  19,  20,  21,  22,  23,  24,  25,  26,\n",
              "        27,  28,  29,  30,  31,  32,  33,  34,  35,  36,  37,  38,  39,\n",
              "        40,  41,  42,  43,  44,  45,  46,  47,  48,  49,  50,  51,  52,\n",
              "        53,  54,  55,  56,  57,  58,  59,  60,  61,  62,  63,  64,  65,\n",
              "        66,  67,  68,  69,  70,  71,  72,  73,  74,  75,  76,  77,  78,\n",
              "        79,  80,  81,  82,  83,  84,  85,  86,  87,  88,  89,  90,  91,\n",
              "        92,  93,  94,  95,  96,  97,  98,  99, 100])},\n",
              "             pre_dispatch='2*n_jobs', refit=True, return_train_score=False,\n",
              "             scoring=None, verbose=0)"
            ]
          },
          "metadata": {
            "tags": []
          },
          "execution_count": 98
        }
      ]
    },
    {
      "cell_type": "code",
      "metadata": {
        "id": "pmlpDB8Zs31o",
        "colab_type": "code",
        "colab": {}
      },
      "source": [
        "def grid_plot(x, y, x_label, title, y_label='accuracy'):\n",
        "    plt.figure(figsize=(12, 6))\n",
        "    plt.grid(True)\n",
        "    plt.plot(x, y, 'go-')\n",
        "    plt.xlabel(x_label)\n",
        "    plt.ylabel(y_label)\n",
        "    plt.title(title)"
      ],
      "execution_count": 0,
      "outputs": []
    },
    {
      "cell_type": "code",
      "metadata": {
        "id": "VrYo9cq4s5cb",
        "colab_type": "code",
        "colab": {
          "base_uri": "https://localhost:8080/",
          "height": 405
        },
        "outputId": "fa445437-e445-47eb-a104-a56f85fbd1a4"
      },
      "source": [
        "grid_plot(knn_grid['n_neighbors'], gs.cv_results_['mean_test_score'], 'n_neighbors', 'KNeighborsClassifier')"
      ],
      "execution_count": 100,
      "outputs": [
        {
          "output_type": "display_data",
          "data": {
            "image/png": "[encoded data removed]",
            "text/plain": [
              "<Figure size 864x432 with 1 Axes>"
            ]
          },
          "metadata": {
            "tags": []
          }
        }
      ]
    },
    {
      "cell_type": "code",
      "metadata": {
        "id": "I3vgeIJTs-ZI",
        "colab_type": "code",
        "colab": {
          "base_uri": "https://localhost:8080/",
          "height": 34
        },
        "outputId": "20b3157b-0f41-40c2-ed47-764cb87eeb44"
      },
      "source": [
        "print(gs.best_params_, gs.best_score_)"
      ],
      "execution_count": 101,
      "outputs": [
        {
          "output_type": "stream",
          "text": [
            "{'n_neighbors': 25} 0.6226183865346686\n"
          ],
          "name": "stdout"
        }
      ]
    },
    {
      "cell_type": "code",
      "metadata": {
        "id": "DoQ3GUOetDQf",
        "colab_type": "code",
        "colab": {}
      },
      "source": [
        "knn = KNeighborsClassifier(n_neighbors=25) \n",
        "clf_knn = knn.fit(X_train, y_train)"
      ],
      "execution_count": 0,
      "outputs": []
    },
    {
      "cell_type": "code",
      "metadata": {
        "id": "VKUUbiT6tGX8",
        "colab_type": "code",
        "colab": {
          "base_uri": "https://localhost:8080/",
          "height": 34
        },
        "outputId": "eeed5c05-a334-4fdd-a842-3453b2035030"
      },
      "source": [
        "y_knn = clf_knn.predict(X_test)\n",
        "y_knn"
      ],
      "execution_count": 103,
      "outputs": [
        {
          "output_type": "execute_result",
          "data": {
            "text/plain": [
              "array([1, 0, 0, ..., 0, 1, 1])"
            ]
          },
          "metadata": {
            "tags": []
          },
          "execution_count": 103
        }
      ]
    },
    {
      "cell_type": "code",
      "metadata": {
        "id": "3mnKUXJgtKEM",
        "colab_type": "code",
        "colab": {
          "base_uri": "https://localhost:8080/",
          "height": 170
        },
        "outputId": "924f797d-f2e9-49dc-884b-9a9fa0dc19e8"
      },
      "source": [
        "print(sklearn.metrics.classification_report(y_test, y_knn))"
      ],
      "execution_count": 104,
      "outputs": [
        {
          "output_type": "stream",
          "text": [
            "              precision    recall  f1-score   support\n",
            "\n",
            "           0       0.57      0.57      0.57      4066\n",
            "           1       0.66      0.67      0.66      5150\n",
            "\n",
            "    accuracy                           0.62      9216\n",
            "   macro avg       0.62      0.62      0.62      9216\n",
            "weighted avg       0.62      0.62      0.62      9216\n",
            "\n"
          ],
          "name": "stdout"
        }
      ]
    },
    {
      "cell_type": "code",
      "metadata": {
        "id": "NT-YJwQ5tNfg",
        "colab_type": "code",
        "colab": {
          "base_uri": "https://localhost:8080/",
          "height": 34
        },
        "outputId": "952c3998-4d17-404a-be96-8229cca3d76e"
      },
      "source": [
        "from sklearn import linear_model\n",
        "\n",
        "regr = linear_model.LinearRegression()\n",
        "regr.fit(X_train, y_train)"
      ],
      "execution_count": 105,
      "outputs": [
        {
          "output_type": "execute_result",
          "data": {
            "text/plain": [
              "LinearRegression(copy_X=True, fit_intercept=True, n_jobs=None, normalize=False)"
            ]
          },
          "metadata": {
            "tags": []
          },
          "execution_count": 105
        }
      ]
    },
    {
      "cell_type": "code",
      "metadata": {
        "id": "icOwHelQtQ4Y",
        "colab_type": "code",
        "colab": {
          "base_uri": "https://localhost:8080/",
          "height": 51
        },
        "outputId": "7d6ca859-22b6-4ea6-e985-74ae8d63f207"
      },
      "source": [
        "predictions = regr.predict(X_test)\n",
        "predictions"
      ],
      "execution_count": 106,
      "outputs": [
        {
          "output_type": "execute_result",
          "data": {
            "text/plain": [
              "array([0.56954288, 0.53902531, 0.5690546 , ..., 0.5690546 , 0.69258976,\n",
              "       0.5143671 ])"
            ]
          },
          "metadata": {
            "tags": []
          },
          "execution_count": 106
        }
      ]
    },
    {
      "cell_type": "code",
      "metadata": {
        "id": "dq-acr3ftUZq",
        "colab_type": "code",
        "colab": {
          "base_uri": "https://localhost:8080/",
          "height": 857
        },
        "outputId": "dd5a2abc-4489-4c01-b51b-515c402eafbf"
      },
      "source": [
        "rem = predictions - y_test\n",
        "plt.figure(figsize=(15, 8))\n",
        "plt.hist(rem, bins=50, normed=True)"
      ],
      "execution_count": 107,
      "outputs": [
        {
          "output_type": "execute_result",
          "data": {
            "text/plain": [
              "(array([0.04901961, 0.00816993, 0.10620915, 2.17728758, 7.10784314,\n",
              "        3.08006536, 3.61928105, 0.31862745, 0.31862745, 0.39624183,\n",
              "        0.44117647, 3.39460784, 0.02042484, 0.        , 0.        ,\n",
              "        0.        , 0.        , 0.        , 0.        , 0.        ,\n",
              "        0.        , 0.        , 0.        , 0.        , 0.        ,\n",
              "        0.        , 0.        , 0.        , 0.        , 0.        ,\n",
              "        0.        , 0.        , 0.        , 0.        , 0.        ,\n",
              "        0.        , 0.        , 0.02042484, 0.00816993, 0.19199346,\n",
              "        0.00816993, 2.5122549 , 6.94444444, 1.99754902, 3.05147059,\n",
              "        0.09803922, 0.17156863, 0.14705882, 1.09477124, 0.36356209]),\n",
              " array([-0.60819149, -0.58162899, -0.55506649, -0.52850399, -0.50194149,\n",
              "        -0.47537899, -0.44881649, -0.42225399, -0.39569149, -0.36912899,\n",
              "        -0.34256649, -0.31600399, -0.28944149, -0.26287899, -0.23631649,\n",
              "        -0.20975399, -0.18319149, -0.15662899, -0.13006649, -0.10350399,\n",
              "        -0.07694149, -0.05037899, -0.02381649,  0.00274601,  0.02930851,\n",
              "         0.05587101,  0.08243351,  0.10899601,  0.13555851,  0.16212101,\n",
              "         0.18868351,  0.21524601,  0.24180851,  0.26837101,  0.29493351,\n",
              "         0.32149601,  0.34805851,  0.37462101,  0.40118351,  0.42774601,\n",
              "         0.45430851,  0.48087101,  0.50743351,  0.53399601,  0.56055851,\n",
              "         0.58712101,  0.61368351,  0.64024601,  0.66680851,  0.69337101,\n",
              "         0.71993351]),\n",
              " <a list of 50 Patch objects>)"
            ]
          },
          "metadata": {
            "tags": []
          },
          "execution_count": 107
        },
        {
          "output_type": "display_data",
          "data": {
            "image/png": "[encoded data removed]",
            "text/plain": [
              "<Figure size 1080x576 with 1 Axes>"
            ]
          },
          "metadata": {
            "tags": []
          }
        }
      ]
    },
    {
      "cell_type": "code",
      "metadata": {
        "id": "k1JqNhjitXMq",
        "colab_type": "code",
        "colab": {
          "base_uri": "https://localhost:8080/",
          "height": 34
        },
        "outputId": "421a5929-01e3-441a-e484-511193011a22"
      },
      "source": [
        "r2 = sklearn.metrics.r2_score(y_test, predictions)\n",
        "\n",
        "print(f\"R2 score / LR = {r2}\")"
      ],
      "execution_count": 108,
      "outputs": [
        {
          "output_type": "stream",
          "text": [
            "R2 score / LR = 0.020502199419660805\n"
          ],
          "name": "stdout"
        }
      ]
    },
    {
      "cell_type": "code",
      "metadata": {
        "id": "3NzJyFbXtcSp",
        "colab_type": "code",
        "colab": {
          "base_uri": "https://localhost:8080/",
          "height": 34
        },
        "outputId": "ae4d69c3-ac22-421a-f569-a245897a5027"
      },
      "source": [
        "mae = sklearn.metrics.median_absolute_error(y_test, predictions)\n",
        "\n",
        "print (f\"MAE {mae}\")"
      ],
      "execution_count": 109,
      "outputs": [
        {
          "output_type": "stream",
          "text": [
            "MAE 0.48612117783769404\n"
          ],
          "name": "stdout"
        }
      ]
    },
    {
      "cell_type": "code",
      "metadata": {
        "id": "6oD62knUwa1q",
        "colab_type": "code",
        "colab": {}
      },
      "source": [
        "clf_knn = KNeighborsClassifier(n_neighbors=29).fit(X_train, y_train)"
      ],
      "execution_count": 0,
      "outputs": []
    },
    {
      "cell_type": "code",
      "metadata": {
        "id": "mCtHlCtKzWuk",
        "colab_type": "code",
        "colab": {}
      },
      "source": [
        "y_knn = clf_knn.predict(X_test)"
      ],
      "execution_count": 0,
      "outputs": []
    },
    {
      "cell_type": "code",
      "metadata": {
        "id": "Qb1b2Nt-zX8e",
        "colab_type": "code",
        "colab": {
          "base_uri": "https://localhost:8080/",
          "height": 485
        },
        "outputId": "bb616b6c-5d16-465f-8867-0bccc513bc7c"
      },
      "source": [
        "fpr, tpr, _ = metrics.roc_curve(y_test, y_knn)\n",
        "plt.figure(figsize=(10, 7))\n",
        "plt.plot([0, 1], [0, 1], 'k--')\n",
        "plt.plot(fpr, tpr)\n",
        "print ('ROC AUC = {0:.4f}'.format(metrics.auc(fpr, tpr)))\n",
        "plt.ylabel(\"True Positive Rate\", fontsize=20)\n",
        "plt.xlabel(\"False Positive Rate\", fontsize=20)"
      ],
      "execution_count": 113,
      "outputs": [
        {
          "output_type": "stream",
          "text": [
            "ROC AUC = 0.6208\n"
          ],
          "name": "stdout"
        },
        {
          "output_type": "execute_result",
          "data": {
            "text/plain": [
              "Text(0.5, 0, 'False Positive Rate')"
            ]
          },
          "metadata": {
            "tags": []
          },
          "execution_count": 113
        },
        {
          "output_type": "display_data",
          "data": {
            "image/png": "[encoded data removed]",
            "text/plain": [
              "<Figure size 720x504 with 1 Axes>"
            ]
          },
          "metadata": {
            "tags": []
          }
        }
      ]
    },
    {
      "cell_type": "code",
      "metadata": {
        "id": "A8QgoUaP-5z6",
        "colab_type": "code",
        "colab": {
          "base_uri": "https://localhost:8080/",
          "height": 34
        },
        "outputId": "2e7160d0-b64c-48f7-e985-4d81f02b8433"
      },
      "source": [
        "grid={\"C\": np.logspace(-2, 4, 20), \"penalty\":[\"l1\",\"l2\"] }\n",
        "logreg =LogisticRegression()\n",
        "logreg_cv = GridSearchCV(logreg, grid, cv=5)\n",
        "logreg_cv.fit(X, y)\n",
        "\n",
        "logreg_cv.best_params_, logreg_cv.best_score_"
      ],
      "execution_count": 119,
      "outputs": [
        {
          "output_type": "execute_result",
          "data": {
            "text/plain": [
              "({'C': 0.01, 'penalty': 'l2'}, 0.5596608017708622)"
            ]
          },
          "metadata": {
            "tags": []
          },
          "execution_count": 119
        }
      ]
    },
    {
      "cell_type": "code",
      "metadata": {
        "id": "jQJ7GuhI_f_C",
        "colab_type": "code",
        "colab": {
          "base_uri": "https://localhost:8080/",
          "height": 404
        },
        "outputId": "7e38d3b8-614d-4d55-b661-d42bbb5770cd"
      },
      "source": [
        "grid_plot(logreg_cv.cv_results_['param_C'][:10], logreg_cv.cv_results_['mean_test_score'][:10], 'regularization strength', 'Logistit regr')"
      ],
      "execution_count": 120,
      "outputs": [
        {
          "output_type": "display_data",
          "data": {
            "image/png": "[encoded data removed]",
            "text/plain": [
              "<Figure size 864x432 with 1 Axes>"
            ]
          },
          "metadata": {
            "tags": []
          }
        }
      ]
    },
    {
      "cell_type": "code",
      "metadata": {
        "id": "DWprJUAR_lme",
        "colab_type": "code",
        "colab": {}
      },
      "source": [
        "grid = [{'kernel': ['rbf'], 'gamma': [1e-3, 1e-4], 'C': [1, 10]},\n",
        "        {'kernel': ['linear'], 'C': [1, 10]}]\n",
        "\n",
        "svm = GridSearchCV(SVC(), grid, cv=5)\n",
        "svm.fit(X, y)\n",
        "svm.best_params_, svm.best_score_"
      ],
      "execution_count": 0,
      "outputs": []
    },
    {
      "cell_type": "code",
      "metadata": {
        "id": "w-kVCrcyAU_e",
        "colab_type": "code",
        "colab": {}
      },
      "source": [
        "param_grid = {'min_samples_split': [i for i in range(70, 100, 2)],\n",
        "              'max_depth': [i for i in range(10, 15)],\n",
        "              'min_samples_leaf':[i for i in range(2, 6)]}\n",
        "tree = GridSearchCV(tree.DecisionTreeClassifier(), param_grid, cv=5)\n",
        "tree.fit(X, y)\n",
        "tree.best_params_, tree.best_score_"
      ],
      "execution_count": 0,
      "outputs": []
    },
    {
      "cell_type": "code",
      "metadata": {
        "id": "fiUAobomAZlf",
        "colab_type": "code",
        "colab": {}
      },
      "source": [
        "grid_plot(np.array(tree.cv_results_['param_min_samples_split']), tree.cv_results_['mean_test_score'], 'min_samples_split', 'tree')"
      ],
      "execution_count": 0,
      "outputs": []
    },
    {
      "cell_type": "code",
      "metadata": {
        "id": "PeKROR-rAclW",
        "colab_type": "code",
        "colab": {}
      },
      "source": [
        "param_grid = {'max_depth': [i for i in range(2, 15)],\n",
        "              'min_samples_split': [i for i in range(2, 10)],\n",
        "              'max_features': [2, len(X[0])-1]\n",
        "              }\n",
        "\n",
        "gs = GridSearchCV(RandomForestClassifier(), param_grid, cv=5)\n",
        "gs.fit(X, y)\n",
        "\n",
        "print()\n",
        "gs.best_params_, gs.best_score_"
      ],
      "execution_count": 0,
      "outputs": []
    },
    {
      "cell_type": "code",
      "metadata": {
        "id": "ce_fDxB_AlWX",
        "colab_type": "code",
        "colab": {}
      },
      "source": [
        "param_grid = {'n_estimators': [i for i in range(50, 300, 50)],\n",
        "              'max_depth': [i for i in range(2, 15)],\n",
        "              'min_samples_split': [i for i in range(2, 10)],\n",
        "              'max_features': [2, len(X[0])-1],\n",
        "              'subsample': [i/10 for i in range(3, 10)]\n",
        "              }\n",
        "\n",
        "gs = GridSearchCV(GradientBoostingClassifier(), param_grid, cv=3)\n",
        "gs.fit(X, y)\n",
        "\n",
        "print()\n",
        "gs.best_params_, gs.best_score_"
      ],
      "execution_count": 0,
      "outputs": []
    }
  ]
}