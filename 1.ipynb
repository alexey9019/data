{
  "nbformat": 4,
  "nbformat_minor": 0,
  "metadata": {
    "hide_input": false,
    "kernelspec": {
      "display_name": "Python 3",
      "language": "python",
      "name": "python3"
    },
    "language_info": {
      "codemirror_mode": {
        "name": "ipython",
        "version": 3
      },
      "file_extension": ".py",
      "mimetype": "text/x-python",
      "name": "python",
      "nbconvert_exporter": "python",
      "pygments_lexer": "ipython3",
      "version": "3.7.1"
    },
    "varInspector": {
      "cols": {
        "lenName": 16,
        "lenType": 16,
        "lenVar": 40
      },
      "kernels_config": {
        "python": {
          "delete_cmd_postfix": "",
          "delete_cmd_prefix": "del ",
          "library": "var_list.py",
          "varRefreshCmd": "print(var_dic_list())"
        },
        "r": {
          "delete_cmd_postfix": ") ",
          "delete_cmd_prefix": "rm(",
          "library": "var_list.r",
          "varRefreshCmd": "cat(var_dic_list()) "
        }
      },
      "types_to_exclude": [
        "module",
        "function",
        "builtin_function_or_method",
        "instance",
        "_Feature"
      ],
      "window_display": false
    },
    "colab": {
      "name": "1.ipynb",
      "provenance": []
    }
  },
  "cells": [
    {
      "cell_type": "markdown",
      "metadata": {
        "id": "9knwjLQkMpzw",
        "colab_type": "text"
      },
      "source": [
        "Цель - предсказать пола клиента по транзакциям."
      ]
    },
    {
      "cell_type": "code",
      "metadata": {
        "ExecuteTime": {
          "end_time": "2019-03-05T17:34:52.054851Z",
          "start_time": "2019-03-05T17:34:51.515762Z"
        },
        "id": "Njgqrzx6Mpz5",
        "colab_type": "code",
        "colab": {}
      },
      "source": [
        "import pandas as pd\n",
        "import numpy as np\n",
        "import xgboost as xgb\n",
        "import re\n",
        "import matplotlib.pyplot as plt\n",
        "from tqdm._tqdm_notebook import tqdm_notebook\n",
        "from warnings import filterwarnings\n",
        "filterwarnings('ignore')\n",
        "\n",
        "%matplotlib inline"
      ],
      "execution_count": 0,
      "outputs": []
    },
    {
      "cell_type": "code",
      "metadata": {
        "id": "PBoowUFzMuhx",
        "colab_type": "code",
        "outputId": "e31517ce-2f15-4a33-ba35-07c66c122ce2",
        "colab": {
          "base_uri": "https://localhost:8080/",
          "height": 145
        }
      },
      "source": [
        "!git clone https://github.com/alexey9019/data.git"
      ],
      "execution_count": 0,
      "outputs": [
        {
          "output_type": "stream",
          "text": [
            "Cloning into 'data'...\n",
            "remote: Enumerating objects: 24, done.\u001b[K\n",
            "remote: Counting objects: 100% (24/24), done.\u001b[K\n",
            "remote: Compressing objects: 100% (23/23), done.\u001b[K\n",
            "remote: Total 24 (delta 6), reused 0 (delta 0), pack-reused 0\u001b[K\n",
            "Unpacking objects: 100% (24/24), done.\n"
          ],
          "name": "stdout"
        }
      ]
    },
    {
      "cell_type": "code",
      "metadata": {
        "ExecuteTime": {
          "end_time": "2019-03-05T17:34:58.314241Z",
          "start_time": "2019-03-05T17:34:52.056205Z"
        },
        "scrolled": true,
        "id": "PYKg7RtjMpz-",
        "colab_type": "code",
        "colab": {}
      },
      "source": [
        "tr_mcc_codes = pd.read_csv('/content/data/tr_mcc_codes.csv', sep = ';', index_col = 'mcc_code')\n",
        "tr_types = pd.read_csv('/content/data/tr_types.csv', sep = ';', index_col = 'tr_type')\n",
        "transactions = pd.read_csv('/content/data/transactions.csv', index_col = 'customer_id')\n",
        "gender_train = pd.read_csv('/content/data/gender_train.csv', index_col = 'customer_id')\n",
        "gender_test = pd.read_csv('/content/data/gender_test.csv', index_col = 'customer_id')\n",
        "\n",
        "transactions_train = transactions.join(gender_train, how = 'inner')\n",
        "transactions_test = transactions.join(gender_test, how = 'inner')"
      ],
      "execution_count": 0,
      "outputs": []
    },
    {
      "cell_type": "code",
      "metadata": {
        "ExecuteTime": {
          "end_time": "2019-03-05T17:34:58.354996Z",
          "start_time": "2019-03-05T17:34:58.315591Z"
        },
        "id": "NPzU887OMp0A",
        "colab_type": "code",
        "colab": {}
      },
      "source": [
        "# создадим функции для построения классификатора \n",
        "# оценим результаты и построим прогноз для тестовых пользователей\n",
        "# cv_score - cross-validation score (среднее значение метрики ROC AUC на тренировочных данных)\n",
        "def cv_score(params, train, y_true):\n",
        "    cv_res = xgb.cv(params, xgb.DMatrix(train, y_true),\n",
        "               early_stopping_rounds = 10, maximize = True, \n",
        "               num_boost_round = 10000, nfold = 5, stratified = True)\n",
        "    index_argmax = cv_res['test-auc-mean'].argmax()\n",
        "    print('Cross-vali hi dation, ROC AUC: {:.3f}+-{:.3f}, Trees: {}'.format(cv_res.loc[index_argmax]['test-auc-mean'],\n",
        "                                                                     cv_res.loc[index_argmax]['test-auc-std'],\n",
        "                                                                     index_argmax))\n",
        "\n",
        "# построим модель и выведем результаты классификации тестовых пользователей\n",
        "def fit_predict(params, num_trees, train, test, target):\n",
        "    params['learning_rate'] = params['eta']\n",
        "    clf = xgb.train(params, xgb.DMatrix(train.values, target, feature_names = list(train.columns)), \n",
        "              num_boost_round = num_trees, maximize = True)\n",
        "    y_pred = clf.predict(xgb.DMatrix(test.values, feature_names = list(train.columns)))\n",
        "    submission = pd.DataFrame(index = test.index, data = y_pred, columns = ['probability'])\n",
        "    return clf, submission\n",
        "\n",
        "# отобразим важность переменной\n",
        "def draw_feature_importances(clf, top_k = 10):\n",
        "    plt.figure(figsize = (10, 10))\n",
        "    \n",
        "    importances = dict(sorted(clf.get_score().items(), key = lambda x: x[1])[-top_k:])\n",
        "    y_pos = np.arange(len(importances))\n",
        "    \n",
        "    plt.barh(y_pos, list(importances.values()), align = 'center', color = 'red')\n",
        "    plt.yticks(y_pos, importances.keys(), fontsize = 12)\n",
        "    plt.xticks(fontsize = 12)\n",
        "    plt.title('Важность переменной', fontsize=18)\n",
        "    plt.ylim(-0.5, len(importances) - 0.5)\n",
        "    plt.show()"
      ],
      "execution_count": 0,
      "outputs": []
    },
    {
      "cell_type": "code",
      "metadata": {
        "ExecuteTime": {
          "end_time": "2019-03-05T17:34:58.362104Z",
          "start_time": "2019-03-05T17:34:58.356308Z"
        },
        "id": "hvJfVP12Mp0F",
        "colab_type": "code",
        "colab": {}
      },
      "source": [
        "# зададим параметры\n",
        "params = {\n",
        "    'eta': 0.1,\n",
        "    'max_depth': 3,\n",
        "    'subsample': 0.8,\n",
        "    'colsample_bytree': 0.8,\n",
        "    \n",
        "    'gamma': 0,\n",
        "    'lambda': 0,\n",
        "    'alpha': 0,\n",
        "    'min_child_weight': 0,\n",
        "    \n",
        "    'eval_metric': 'auc',\n",
        "    'objective': 'binary:logistic' ,\n",
        "    'booster': 'gbtree',\n",
        "    'njobs': -1,\n",
        "    'tree_method': 'approx'\n",
        "}"
      ],
      "execution_count": 0,
      "outputs": []
    },
    {
      "cell_type": "code",
      "metadata": {
        "ExecuteTime": {
          "end_time": "2019-03-05T17:35:41.272300Z",
          "start_time": "2019-03-05T17:34:58.363622Z"
        },
        "id": "sN_d_RjxMp0H",
        "colab_type": "code",
        "colab": {}
      },
      "source": [
        "# используем медиану, среднеквадратичное отклонение и количество\n",
        "def features_creation_basic(x): \n",
        "    features = []\n",
        "    features.append(pd.Series(x[x['amount']<0]['amount'].agg(['median', 'std', 'count'])\\\n",
        "                                                        .add_prefix('negative_transactions_')))\n",
        " \n",
        "    return pd.concat(features)\n",
        "\n",
        "data_train = transactions_train.groupby(transactions_train.index).apply(features_creation_basic)\n",
        "data_test = transactions_test.groupby(transactions_test.index).apply(features_creation_basic)"
      ],
      "execution_count": 0,
      "outputs": []
    },
    {
      "cell_type": "code",
      "metadata": {
        "ExecuteTime": {
          "end_time": "2019-03-05T17:35:45.011046Z",
          "start_time": "2019-03-05T17:35:41.273326Z"
        },
        "id": "8KMujpyiMp0K",
        "colab_type": "code",
        "outputId": "a624111d-bede-4de6-efbe-d4db97b0053d",
        "colab": {
          "base_uri": "https://localhost:8080/",
          "height": 55
        }
      },
      "source": [
        "# выведем результат\n",
        "target = data_train.join(gender_train, how='inner')['gender']\n",
        "cv_score(params, data_train, target)"
      ],
      "execution_count": 0,
      "outputs": [
        {
          "output_type": "stream",
          "text": [
            "Cross-validation, ROC AUC: 0.611+-0.064, Trees: 50\n"
          ],
          "name": "stdout"
        }
      ]
    },
    {
      "cell_type": "code",
      "metadata": {
        "ExecuteTime": {
          "end_time": "2019-03-05T17:35:45.714620Z",
          "start_time": "2019-03-05T17:35:45.018570Z"
        },
        "id": "zvwZx5DMMp0N",
        "colab_type": "code",
        "colab": {}
      },
      "source": [
        "# результат классификации тестовых пользователей\n",
        "clf, submission = fit_predict(params, 70, data_train, data_test, target)"
      ],
      "execution_count": 0,
      "outputs": []
    },
    {
      "cell_type": "code",
      "metadata": {
        "ExecuteTime": {
          "end_time": "2019-03-05T17:35:45.897370Z",
          "start_time": "2019-03-05T17:35:45.719320Z"
        },
        "scrolled": false,
        "id": "gWn_wZEOMp0P",
        "colab_type": "code",
        "outputId": "53e7ee8c-908f-426b-877c-75d15c8c34dc",
        "colab": {
          "base_uri": "https://localhost:8080/",
          "height": 634
        }
      },
      "source": [
        "# отобразим важность переменной\n",
        "draw_feature_importances(clf, 10)"
      ],
      "execution_count": 0,
      "outputs": [
        {
          "output_type": "display_data",
          "data": {
            "image/png": "[encoded data removed]",
            "text/plain": [
              "<Figure size 720x720 with 1 Axes>"
            ]
          },
          "metadata": {
            "tags": []
          }
        }
      ]
    },
    {
      "cell_type": "code",
      "metadata": {
        "id": "zEblMA-_Mp0R",
        "colab_type": "code",
        "colab": {}
      },
      "source": [
        "# сохраним в файл\n",
        "submission.to_csv('/content/data/basic_features_submission.csv')"
      ],
      "execution_count": 0,
      "outputs": []
    },
    {
      "cell_type": "code",
      "metadata": {
        "ExecuteTime": {
          "end_time": "2019-03-05T17:35:57.677748Z",
          "start_time": "2019-03-05T17:35:45.921444Z"
        },
        "id": "1CRUMCJVMp0V",
        "colab_type": "code",
        "colab": {}
      },
      "source": [
        "# используем данные о том, где совершались транзакции\n",
        "# предполагаем, что мужчины чаще будут покупать цветы (mcc_code 5992 - флористика)\n",
        "for df in [transactions_train, transactions_test]:\n",
        "    df['mcc_code'] == 5992\n",
        "    df['mcc'] = df['mcc_code']"
      ],
      "execution_count": 0,
      "outputs": []
    },
    {
      "cell_type": "code",
      "metadata": {
        "ExecuteTime": {
          "end_time": "2019-03-05T17:35:57.687397Z",
          "start_time": "2019-03-05T17:35:57.678823Z"
        },
        "id": "1pnZN8jCMp0Y",
        "colab_type": "code",
        "colab": {}
      },
      "source": [
        "# используем медиану, среднеквадратичное отклонение и количество\n",
        "def features_creation_advanced(x): \n",
        "    features = []\n",
        "    features.append(pd.Series(x['mcc_code'].value_counts(normalize = True).add_prefix('mcc_code_')))\n",
        "    features.append(pd.Series(x['mcc'].value_counts(normalize = True).add_prefix('mcc_')))\n",
        "    \n",
        "    features.append(pd.Series(x[x['amount']<0]['amount'].agg(['median', 'std', 'count'])\\\n",
        "                                                        .add_prefix('negative_transactions_')))\n",
        "    features.append(pd.Series(x[x['amount']>0]['amount'].agg(['median', 'std', 'count'])\\\n",
        "                                                        .add_prefix('positive_transactions_')))\n",
        "    \n",
        "    return pd.concat(features)"
      ],
      "execution_count": 0,
      "outputs": []
    },
    {
      "cell_type": "code",
      "metadata": {
        "ExecuteTime": {
          "end_time": "2019-03-05T17:37:19.784321Z",
          "start_time": "2019-03-05T17:35:57.688448Z"
        },
        "id": "iZtvb_8jMp0a",
        "colab_type": "code",
        "colab": {}
      },
      "source": [
        "data_train = transactions_train.groupby(transactions_train.index)\\\n",
        "                               .apply(features_creation_advanced).unstack(-1)\n",
        "data_test = transactions_test.groupby(transactions_test.index)\\\n",
        "                             .apply(features_creation_advanced).unstack(-1)"
      ],
      "execution_count": 0,
      "outputs": []
    },
    {
      "cell_type": "code",
      "metadata": {
        "ExecuteTime": {
          "end_time": "2019-03-05T17:37:27.200528Z",
          "start_time": "2019-03-05T17:37:19.785535Z"
        },
        "id": "6_9WA28JMp0d",
        "colab_type": "code",
        "outputId": "7d54ed69-2e53-4968-8899-bc74c918c47d",
        "colab": {
          "base_uri": "https://localhost:8080/",
          "height": 55
        }
      },
      "source": [
        "# выведем результат\n",
        "target = data_train.join(gender_train, how = 'inner')['gender']\n",
        "cv_score(params, data_train, target)"
      ],
      "execution_count": 0,
      "outputs": [
        {
          "output_type": "stream",
          "text": [
            "Cross-validation, ROC AUC: 0.808+-0.075, Trees: 38\n"
          ],
          "name": "stdout"
        }
      ]
    },
    {
      "cell_type": "code",
      "metadata": {
        "ExecuteTime": {
          "end_time": "2019-03-05T17:37:28.426836Z",
          "start_time": "2019-03-05T17:37:28.308620Z"
        },
        "scrolled": false,
        "id": "Fp28OmdyMp0i",
        "colab_type": "code",
        "colab": {}
      },
      "source": [
        "# отобразим важность переменной\n",
        "draw_feature_importances(clf, 10)"
      ],
      "execution_count": 0,
      "outputs": []
    },
    {
      "cell_type": "code",
      "metadata": {
        "ExecuteTime": {
          "end_time": "2019-03-05T17:37:28.448839Z",
          "start_time": "2019-03-05T17:37:28.438234Z"
        },
        "id": "d0XsTXpXMp0m",
        "colab_type": "code",
        "colab": {}
      },
      "source": [
        "# сохраним в файл\n",
        "submission.to_csv('/content/data/submission_advanced.csv')"
      ],
      "execution_count": 0,
      "outputs": []
    }
  ]
}