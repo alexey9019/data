{
  "nbformat": 4,
  "nbformat_minor": 0,
  "metadata": {
    "colab": {
      "name": "Copy of sem_12.ipynb",
      "provenance": [],
      "collapsed_sections": [],
      "machine_shape": "hm",
      "include_colab_link": true
    },
    "kernelspec": {
      "name": "python3",
      "display_name": "Python 3"
    },
    "accelerator": "GPU"
  },
  "cells": [
    {
      "cell_type": "markdown",
      "metadata": {
        "id": "view-in-github",
        "colab_type": "text"
      },
      "source": [
        "<a href=\"https://colab.research.google.com/github/alexey9019/data/blob/master/Copy_of_sem_12.ipynb\" target=\"_parent\"><img src=\"https://colab.research.google.com/assets/colab-badge.svg\" alt=\"Open In Colab\"/></a>"
      ]
    },
    {
      "cell_type": "markdown",
      "metadata": {
        "id": "FVZf41yvq6OK",
        "colab_type": "text"
      },
      "source": [
        "# Работа с текстами"
      ]
    },
    {
      "cell_type": "markdown",
      "metadata": {
        "id": "P_wiYrx01vs8",
        "colab_type": "text"
      },
      "source": [
        "<h2> Проблема Классификации Токсичных Комментариев </h2>\n",
        "\n",
        "https://www.kaggle.com/c/jigsaw-toxic-comment-classification-challenge\n",
        "\n",
        "\n",
        "Угроза злоупотреблений и преследований в интернете означает, что многие люди перестают выражать себя и откажутся от поиска различных мнений. Платформы изо всех сил пытаются эффективно облегчить разговоры, что приводит к тому, что многие сообщества ограничивают или полностью закрывают комментарии пользователей.\n",
        "\n",
        "Команда Conversation AI основанная Jigsaw и Google (оба являются частью Alphabet) работает над инструментами, которые помогут улучшить онлайн-разговор. Одной из интересных областей является изучение негативного поведения в интернете, такое как токсичные комментарии (т. е. комментарии, которые являются грубыми, неуважительными или иным образом могут заставить кого-то покинуть дискуссию). До сих пор они создали ряд общедоступных моделей, обслуживаемых через перспективный API, включая токсичность. Но текущие модели все еще допускают ошибки и они не позволяют пользователям выбирать, какого типа токсичность они заинтересованы находить (например некоторые платформы могут одобрять ненормативную лексику, но не с другими типами токсичного контента).\n",
        "\n",
        "Вам надо построить модель, которая способна обнаруживать различные типы токсичности, такие как угрозы, непристойноые выражения, оскорбления и ненависть на основе идентичности.\n",
        "\n"
      ]
    },
    {
      "cell_type": "markdown",
      "metadata": {
        "id": "CCLmQHk56g4I",
        "colab_type": "text"
      },
      "source": [
        "<h2> «Аффтар выпей йаду и пеши исчо» </h2> "
      ]
    },
    {
      "cell_type": "markdown",
      "metadata": {
        "id": "IyYRMsZY1JvX",
        "colab_type": "text"
      },
      "source": [
        "## Подгрузка данных"
      ]
    },
    {
      "cell_type": "code",
      "metadata": {
        "id": "vrJ3pqW4vbXF",
        "colab_type": "code",
        "colab": {}
      },
      "source": [
        "import numpy as np\n",
        "import pandas as pd\n",
        "from tqdm import tqdm_notebook as tqdm\n",
        "import seaborn as sns\n",
        "from matplotlib import pyplot as plt"
      ],
      "execution_count": 0,
      "outputs": []
    },
    {
      "cell_type": "code",
      "metadata": {
        "id": "qU36WVdSwc9u",
        "colab_type": "code",
        "outputId": "672418be-c072-43bf-b9bc-dde71b5419a3",
        "colab": {
          "base_uri": "https://localhost:8080/",
          "height": 121
        }
      },
      "source": [
        "!git clone https://github.com/tixonsit/Sberbank_materials.git"
      ],
      "execution_count": 0,
      "outputs": [
        {
          "output_type": "stream",
          "text": [
            "Cloning into 'Sberbank_materials'...\n",
            "remote: Enumerating objects: 5, done.\u001b[K\n",
            "remote: Counting objects:  20% (1/5)\u001b[K\rremote: Counting objects:  40% (2/5)\u001b[K\rremote: Counting objects:  60% (3/5)\u001b[K\rremote: Counting objects:  80% (4/5)\u001b[K\rremote: Counting objects: 100% (5/5)\u001b[K\rremote: Counting objects: 100% (5/5), done.\u001b[K\n",
            "remote: Compressing objects: 100% (4/4), done.\u001b[K\n",
            "remote: Total 36 (delta 1), reused 4 (delta 1), pack-reused 31\u001b[K\n",
            "Unpacking objects: 100% (36/36), done.\n"
          ],
          "name": "stdout"
        }
      ]
    },
    {
      "cell_type": "code",
      "metadata": {
        "id": "Bue3iBhoxSjQ",
        "colab_type": "code",
        "outputId": "7a22cd25-2c17-4237-f832-ec1b6a946a1d",
        "colab": {
          "base_uri": "https://localhost:8080/",
          "height": 355
        }
      },
      "source": [
        "# подгрузим датасет\n",
        "train = pd.read_csv('/content/Sberbank_materials/train_toxic.csv')\n",
        "test = pd.read_csv('/content/Sberbank_materials/test_toxic.csv')\n",
        "# целевая переменная\n",
        "target = train['toxic']\n",
        "\n",
        "train.head(10)"
      ],
      "execution_count": 0,
      "outputs": [
        {
          "output_type": "execute_result",
          "data": {
            "text/html": [
              "<div>\n",
              "<style scoped>\n",
              "    .dataframe tbody tr th:only-of-type {\n",
              "        vertical-align: middle;\n",
              "    }\n",
              "\n",
              "    .dataframe tbody tr th {\n",
              "        vertical-align: top;\n",
              "    }\n",
              "\n",
              "    .dataframe thead th {\n",
              "        text-align: right;\n",
              "    }\n",
              "</style>\n",
              "<table border=\"1\" class=\"dataframe\">\n",
              "  <thead>\n",
              "    <tr style=\"text-align: right;\">\n",
              "      <th></th>\n",
              "      <th>id</th>\n",
              "      <th>comment_text</th>\n",
              "      <th>toxic</th>\n",
              "      <th>severe_toxic</th>\n",
              "      <th>obscene</th>\n",
              "      <th>threat</th>\n",
              "      <th>insult</th>\n",
              "      <th>identity_hate</th>\n",
              "    </tr>\n",
              "  </thead>\n",
              "  <tbody>\n",
              "    <tr>\n",
              "      <th>0</th>\n",
              "      <td>0000997932d777bf</td>\n",
              "      <td>Explanation\\nWhy the edits made under my usern...</td>\n",
              "      <td>0</td>\n",
              "      <td>0</td>\n",
              "      <td>0</td>\n",
              "      <td>0</td>\n",
              "      <td>0</td>\n",
              "      <td>0</td>\n",
              "    </tr>\n",
              "    <tr>\n",
              "      <th>1</th>\n",
              "      <td>000103f0d9cfb60f</td>\n",
              "      <td>D'aww! He matches this background colour I'm s...</td>\n",
              "      <td>0</td>\n",
              "      <td>0</td>\n",
              "      <td>0</td>\n",
              "      <td>0</td>\n",
              "      <td>0</td>\n",
              "      <td>0</td>\n",
              "    </tr>\n",
              "    <tr>\n",
              "      <th>2</th>\n",
              "      <td>000113f07ec002fd</td>\n",
              "      <td>Hey man, I'm really not trying to edit war. It...</td>\n",
              "      <td>0</td>\n",
              "      <td>0</td>\n",
              "      <td>0</td>\n",
              "      <td>0</td>\n",
              "      <td>0</td>\n",
              "      <td>0</td>\n",
              "    </tr>\n",
              "    <tr>\n",
              "      <th>3</th>\n",
              "      <td>0001b41b1c6bb37e</td>\n",
              "      <td>\"\\nMore\\nI can't make any real suggestions on ...</td>\n",
              "      <td>0</td>\n",
              "      <td>0</td>\n",
              "      <td>0</td>\n",
              "      <td>0</td>\n",
              "      <td>0</td>\n",
              "      <td>0</td>\n",
              "    </tr>\n",
              "    <tr>\n",
              "      <th>4</th>\n",
              "      <td>0001d958c54c6e35</td>\n",
              "      <td>You, sir, are my hero. Any chance you remember...</td>\n",
              "      <td>0</td>\n",
              "      <td>0</td>\n",
              "      <td>0</td>\n",
              "      <td>0</td>\n",
              "      <td>0</td>\n",
              "      <td>0</td>\n",
              "    </tr>\n",
              "    <tr>\n",
              "      <th>5</th>\n",
              "      <td>00025465d4725e87</td>\n",
              "      <td>\"\\n\\nCongratulations from me as well, use the ...</td>\n",
              "      <td>0</td>\n",
              "      <td>0</td>\n",
              "      <td>0</td>\n",
              "      <td>0</td>\n",
              "      <td>0</td>\n",
              "      <td>0</td>\n",
              "    </tr>\n",
              "    <tr>\n",
              "      <th>6</th>\n",
              "      <td>0002bcb3da6cb337</td>\n",
              "      <td>COCKSUCKER BEFORE YOU PISS AROUND ON MY WORK</td>\n",
              "      <td>1</td>\n",
              "      <td>1</td>\n",
              "      <td>1</td>\n",
              "      <td>0</td>\n",
              "      <td>1</td>\n",
              "      <td>0</td>\n",
              "    </tr>\n",
              "    <tr>\n",
              "      <th>7</th>\n",
              "      <td>00031b1e95af7921</td>\n",
              "      <td>Your vandalism to the Matt Shirvington article...</td>\n",
              "      <td>0</td>\n",
              "      <td>0</td>\n",
              "      <td>0</td>\n",
              "      <td>0</td>\n",
              "      <td>0</td>\n",
              "      <td>0</td>\n",
              "    </tr>\n",
              "    <tr>\n",
              "      <th>8</th>\n",
              "      <td>00037261f536c51d</td>\n",
              "      <td>Sorry if the word 'nonsense' was offensive to ...</td>\n",
              "      <td>0</td>\n",
              "      <td>0</td>\n",
              "      <td>0</td>\n",
              "      <td>0</td>\n",
              "      <td>0</td>\n",
              "      <td>0</td>\n",
              "    </tr>\n",
              "    <tr>\n",
              "      <th>9</th>\n",
              "      <td>00040093b2687caa</td>\n",
              "      <td>alignment on this subject and which are contra...</td>\n",
              "      <td>0</td>\n",
              "      <td>0</td>\n",
              "      <td>0</td>\n",
              "      <td>0</td>\n",
              "      <td>0</td>\n",
              "      <td>0</td>\n",
              "    </tr>\n",
              "  </tbody>\n",
              "</table>\n",
              "</div>"
            ],
            "text/plain": [
              "                 id  ... identity_hate\n",
              "0  0000997932d777bf  ...             0\n",
              "1  000103f0d9cfb60f  ...             0\n",
              "2  000113f07ec002fd  ...             0\n",
              "3  0001b41b1c6bb37e  ...             0\n",
              "4  0001d958c54c6e35  ...             0\n",
              "5  00025465d4725e87  ...             0\n",
              "6  0002bcb3da6cb337  ...             0\n",
              "7  00031b1e95af7921  ...             0\n",
              "8  00037261f536c51d  ...             0\n",
              "9  00040093b2687caa  ...             0\n",
              "\n",
              "[10 rows x 8 columns]"
            ]
          },
          "metadata": {
            "tags": []
          },
          "execution_count": 4
        }
      ]
    },
    {
      "cell_type": "markdown",
      "metadata": {
        "id": "zc_mOnUm1Gc6",
        "colab_type": "text"
      },
      "source": [
        "## Графический анализ"
      ]
    },
    {
      "cell_type": "code",
      "metadata": {
        "id": "CUYMLiM41SMn",
        "colab_type": "code",
        "outputId": "221efd3d-6a8a-4e7a-fb23-4a65a73d0afd",
        "colab": {
          "base_uri": "https://localhost:8080/",
          "height": 314
        }
      },
      "source": [
        "# посмотрим на сбалансированность классов\n",
        "sns.distplot(target, kde=False)\n",
        "print(target.mean())\n",
        "print('Minimum accuracy:', max(target.mean(), 1 - target.mean()))"
      ],
      "execution_count": 0,
      "outputs": [
        {
          "output_type": "stream",
          "text": [
            "0.09584448302009764\n",
            "Minimum accuracy: 0.9041555169799024\n"
          ],
          "name": "stdout"
        },
        {
          "output_type": "display_data",
          "data": {
            "image/png": "[encoded data removed]",
            "text/plain": [
              "<Figure size 432x288 with 1 Axes>"
            ]
          },
          "metadata": {
            "tags": []
          }
        }
      ]
    },
    {
      "cell_type": "code",
      "metadata": {
        "id": "YNVuichAxobr",
        "colab_type": "code",
        "outputId": "a951548f-8a4f-4bbb-b2e8-2865e3f48fe6",
        "colab": {
          "base_uri": "https://localhost:8080/",
          "height": 297
        }
      },
      "source": [
        "# посмотрим на сбалансированность классов\n",
        "sns.distplot(train['obscene'], kde=False)"
      ],
      "execution_count": 0,
      "outputs": [
        {
          "output_type": "execute_result",
          "data": {
            "text/plain": [
              "<matplotlib.axes._subplots.AxesSubplot at 0x7f99019e26d8>"
            ]
          },
          "metadata": {
            "tags": []
          },
          "execution_count": 6
        },
        {
          "output_type": "display_data",
          "data": {
            "image/png": "[encoded data removed]",
            "text/plain": [
              "<Figure size 432x288 with 1 Axes>"
            ]
          },
          "metadata": {
            "tags": []
          }
        }
      ]
    },
    {
      "cell_type": "code",
      "metadata": {
        "id": "wT-N0Xsi5_EJ",
        "colab_type": "code",
        "outputId": "72e5c524-1384-4fb5-f7c1-6385bebdb9af",
        "colab": {
          "base_uri": "https://localhost:8080/",
          "height": 297
        }
      },
      "source": [
        "sns.distplot(train['threat'], kde=False)"
      ],
      "execution_count": 0,
      "outputs": [
        {
          "output_type": "execute_result",
          "data": {
            "text/plain": [
              "<matplotlib.axes._subplots.AxesSubplot at 0x7f99019e2748>"
            ]
          },
          "metadata": {
            "tags": []
          },
          "execution_count": 7
        },
        {
          "output_type": "display_data",
          "data": {
            "image/png": "[encoded data removed]",
            "text/plain": [
              "<Figure size 432x288 with 1 Axes>"
            ]
          },
          "metadata": {
            "tags": []
          }
        }
      ]
    },
    {
      "cell_type": "code",
      "metadata": {
        "id": "iZDoN2t56Ng8",
        "colab_type": "code",
        "outputId": "3ff271ce-5f83-407d-8fbe-44a9b6976732",
        "colab": {
          "base_uri": "https://localhost:8080/",
          "height": 297
        }
      },
      "source": [
        "sns.distplot(train['identity_hate'], kde=False)"
      ],
      "execution_count": 0,
      "outputs": [
        {
          "output_type": "execute_result",
          "data": {
            "text/plain": [
              "<matplotlib.axes._subplots.AxesSubplot at 0x7f99019a6128>"
            ]
          },
          "metadata": {
            "tags": []
          },
          "execution_count": 8
        },
        {
          "output_type": "display_data",
          "data": {
            "image/png": "[encoded data removed]",
            "text/plain": [
              "<Figure size 432x288 with 1 Axes>"
            ]
          },
          "metadata": {
            "tags": []
          }
        }
      ]
    },
    {
      "cell_type": "markdown",
      "metadata": {
        "id": "p0-2pYKH-aJo",
        "colab_type": "text"
      },
      "source": [
        "# Работа с признаками"
      ]
    },
    {
      "cell_type": "markdown",
      "metadata": {
        "id": "4u9RvWft-gVk",
        "colab_type": "text"
      },
      "source": [
        "## Предобработка"
      ]
    },
    {
      "cell_type": "markdown",
      "metadata": {
        "id": "kFL3uC0KypS7",
        "colab_type": "text"
      },
      "source": [
        "Для начала текст нужно предобработать, убрать пробелы, пунктуацию, прочее"
      ]
    },
    {
      "cell_type": "code",
      "metadata": {
        "id": "kXFTgA3Cx5PT",
        "colab_type": "code",
        "colab": {}
      },
      "source": [
        "import string\n",
        "\n",
        "# фунция предобработки документа\n",
        "def preprocess(doc):\n",
        "    # понижение регистра\n",
        "    doc = doc.lower()\n",
        "    # убираем пунктуацию и пропуски (табуляция, пробелы, ... )\n",
        "    for p in string.punctuation + string.whitespace:\n",
        "        doc = doc.replace(p, ' ')\n",
        "    # обрезаем все разделенные слова по краям (убираем пробелы, которые остались)\n",
        "    doc = doc.strip()\n",
        "    doc = ' '.join([w for w in doc.split(' ') if w != ''])\n",
        "    return doc"
      ],
      "execution_count": 0,
      "outputs": []
    },
    {
      "cell_type": "markdown",
      "metadata": {
        "id": "nU2obsWex8T5",
        "colab_type": "text"
      },
      "source": [
        "## TF-IDF\n",
        "\n",
        "Сопоставляет вектор для каждого образца текста: text - > вектор $v$ из $R^N$, где $N$ - размер словаря.\n",
        "\n",
        "$TF-IDF(token, document) = TF(token, document) * IDF(token, document)$\n",
        "\n",
        "$TF$ это частота термина:\n",
        "\n",
        "$TF(token, document) = \\frac{n_{token}}{\\sum_{k}n_k}.$\n",
        "\n",
        "$IDF$ это обратная частота термина:\n",
        "\n",
        "$IDF(token, all\\_documents) = \\frac{Total\\ number\\ of\\ documents}{number\\ of\\ documents\\ where\\ token\\ appeared}.$"
      ]
    },
    {
      "cell_type": "markdown",
      "metadata": {
        "id": "MjNDnbMDzHqc",
        "colab_type": "text"
      },
      "source": [
        "применим поэлементно функцию ко всем словам в тексте"
      ]
    },
    {
      "cell_type": "code",
      "metadata": {
        "id": "a_Bfke2Sx-6S",
        "colab_type": "code",
        "outputId": "47c490b5-a6c1-41c2-920a-1accd8c28c79",
        "colab": {
          "base_uri": "https://localhost:8080/",
          "height": 208
        }
      },
      "source": [
        "# Preprocessed text corpus\n",
        "corpus = train['comment_text'].map(preprocess)\n",
        "corpus.head(10)"
      ],
      "execution_count": 0,
      "outputs": [
        {
          "output_type": "execute_result",
          "data": {
            "text/plain": [
              "0    explanation why the edits made under my userna...\n",
              "1    d aww he matches this background colour i m se...\n",
              "2    hey man i m really not trying to edit war it s...\n",
              "3    more i can t make any real suggestions on impr...\n",
              "4    you sir are my hero any chance you remember wh...\n",
              "5    congratulations from me as well use the tools ...\n",
              "6         cocksucker before you piss around on my work\n",
              "7    your vandalism to the matt shirvington article...\n",
              "8    sorry if the word nonsense was offensive to yo...\n",
              "9    alignment on this subject and which are contra...\n",
              "Name: comment_text, dtype: object"
            ]
          },
          "metadata": {
            "tags": []
          },
          "execution_count": 10
        }
      ]
    },
    {
      "cell_type": "code",
      "metadata": {
        "id": "Roh5D9X_y-Ff",
        "colab_type": "code",
        "outputId": "7a384bfa-31c8-49a5-b41a-12ff6477244f",
        "colab": {
          "base_uri": "https://localhost:8080/",
          "height": 35
        }
      },
      "source": [
        "from sklearn.feature_extraction.text import TfidfVectorizer\n",
        "\n",
        "vectorizer = TfidfVectorizer(max_features=10000)\n",
        "\n",
        "X_tfidf = vectorizer.fit_transform(corpus)\n",
        "print(X_tfidf.shape)"
      ],
      "execution_count": 0,
      "outputs": [
        {
          "output_type": "stream",
          "text": [
            "(159571, 10000)\n"
          ],
          "name": "stdout"
        }
      ]
    },
    {
      "cell_type": "code",
      "metadata": {
        "id": "e8JXLgfG7goL",
        "colab_type": "code",
        "outputId": "fc6102d0-cc9a-4905-9df3-2a8a08c51171",
        "colab": {
          "base_uri": "https://localhost:8080/",
          "height": 35
        }
      },
      "source": [
        "type(X_tfidf)"
      ],
      "execution_count": 0,
      "outputs": [
        {
          "output_type": "execute_result",
          "data": {
            "text/plain": [
              "scipy.sparse.csr.csr_matrix"
            ]
          },
          "metadata": {
            "tags": []
          },
          "execution_count": 12
        }
      ]
    },
    {
      "cell_type": "code",
      "metadata": {
        "id": "78xVEVQs6-Fe",
        "colab_type": "code",
        "outputId": "fa0c480e-c2a4-4ffd-edde-ad7f1e11b418",
        "colab": {
          "base_uri": "https://localhost:8080/",
          "height": 35
        }
      },
      "source": [
        "X = X_tfidf.toarray()\n",
        "X.shape"
      ],
      "execution_count": 0,
      "outputs": [
        {
          "output_type": "execute_result",
          "data": {
            "text/plain": [
              "(159571, 10000)"
            ]
          },
          "metadata": {
            "tags": []
          },
          "execution_count": 13
        }
      ]
    },
    {
      "cell_type": "code",
      "metadata": {
        "id": "xnz2FMWDAles",
        "colab_type": "code",
        "outputId": "199517f0-559d-4f8f-b06c-05a5ed06fff4",
        "colab": {
          "base_uri": "https://localhost:8080/",
          "height": 35
        }
      },
      "source": [
        "type(X)"
      ],
      "execution_count": 0,
      "outputs": [
        {
          "output_type": "execute_result",
          "data": {
            "text/plain": [
              "numpy.ndarray"
            ]
          },
          "metadata": {
            "tags": []
          },
          "execution_count": 14
        }
      ]
    },
    {
      "cell_type": "markdown",
      "metadata": {
        "id": "o7UF9BN--v-C",
        "colab_type": "text"
      },
      "source": [
        "# Алгоритмы"
      ]
    },
    {
      "cell_type": "markdown",
      "metadata": {
        "id": "PElj7oWJ1AKS",
        "colab_type": "text"
      },
      "source": [
        "## Классические алгоритмы"
      ]
    },
    {
      "cell_type": "code",
      "metadata": {
        "id": "Jj29nr2F01mP",
        "colab_type": "code",
        "colab": {}
      },
      "source": [
        "from sklearn.ensemble import RandomForestClassifier\n",
        "from sklearn.svm import SVC\n",
        "from sklearn.naive_bayes import GaussianNB\n",
        "from sklearn.linear_model import LogisticRegression\n",
        "from sklearn.neighbors import KNeighborsClassifier\n",
        "\n",
        "from sklearn.metrics import accuracy_score, f1_score, precision_score, recall_score\n",
        "from sklearn.model_selection import cross_validate\n",
        "from sklearn.utils.testing import ignore_warnings"
      ],
      "execution_count": 0,
      "outputs": []
    },
    {
      "cell_type": "code",
      "metadata": {
        "id": "mMgects27QD-",
        "colab_type": "code",
        "colab": {}
      },
      "source": [
        "def eval_on_trainset(X, y, model_names=None):\n",
        "    # определяем модели и их параметры\n",
        "    models = {\n",
        "        'SVM_linear': SVC(C=100, kernel='linear'),\n",
        "        'Log regression': LogisticRegression(),\n",
        "        'naive bayes': GaussianNB(),\n",
        "        'random forest': RandomForestClassifier(),\n",
        "        'KNN': KNeighborsClassifier(),\n",
        "    }\n",
        "    scoring = ['accuracy', 'precision', 'recall', 'f1', 'roc_auc']\n",
        "\n",
        "    print('Dummy accuracy:', max(y.mean(), 1 - y.mean()))\n",
        "    print()\n",
        "    # проходимся по выбранным моделям\n",
        "    for name in model_names or sorted(models):\n",
        "        # выбираем определенные в словаре параметры\n",
        "        model = models[name]\n",
        "        # проводим кросс-валидацию на 3 фолдах\n",
        "        with ignore_warnings():\n",
        "            scores_svc = cross_validate(model, X, y, cv=3, scoring=scoring)\n",
        "        # отображаем результат\n",
        "        for sc in scoring:\n",
        "            mean = scores_svc['test_' + sc].mean()\n",
        "            std = scores_svc['test_' + sc].std()\n",
        "            print(name, sc, '{:.03} +- {:.03}'.format(mean, std))\n",
        "        print()"
      ],
      "execution_count": 0,
      "outputs": []
    },
    {
      "cell_type": "code",
      "metadata": {
        "id": "KjF5YPS3BqAA",
        "colab_type": "code",
        "outputId": "0ce8568f-5887-4c40-ffb4-b3f74005b118",
        "colab": {
          "base_uri": "https://localhost:8080/",
          "height": 52
        }
      },
      "source": [
        "print('X_shape:',X[:3000].shape)\n",
        "print('y_shape:',target[:3000].values.shape)"
      ],
      "execution_count": 0,
      "outputs": [
        {
          "output_type": "stream",
          "text": [
            "X_shape: (3000, 10000)\n",
            "y_shape: (3000,)\n"
          ],
          "name": "stdout"
        }
      ]
    },
    {
      "cell_type": "code",
      "metadata": {
        "id": "7vFfh6lF8Vvm",
        "colab_type": "code",
        "outputId": "ce9fb401-dec5-4d2f-8f8f-45c6e4938cfb",
        "colab": {
          "base_uri": "https://localhost:8080/",
          "height": 364
        }
      },
      "source": [
        "eval_on_trainset(X_tfidf[:3000], target[:3000].values, ['KNN', 'SVM_linear', 'random forest'])"
      ],
      "execution_count": 0,
      "outputs": [
        {
          "output_type": "stream",
          "text": [
            "Dummy accuracy: 0.8976666666666666\n",
            "\n",
            "KNN accuracy 0.934 +- 0.00445\n",
            "KNN precision 0.882 +- 0.0554\n",
            "KNN recall 0.407 +- 0.0218\n",
            "KNN f1 0.557 +- 0.0281\n",
            "KNN roc_auc 0.841 +- 0.0234\n",
            "\n",
            "SVM_linear accuracy 0.938 +- 0.00414\n",
            "SVM_linear precision 0.848 +- 0.0129\n",
            "SVM_linear recall 0.476 +- 0.0379\n",
            "SVM_linear f1 0.609 +- 0.034\n",
            "SVM_linear roc_auc 0.908 +- 0.00647\n",
            "\n",
            "random forest accuracy 0.917 +- 0.00462\n",
            "random forest precision 0.899 +- 0.0503\n",
            "random forest recall 0.209 +- 0.0367\n",
            "random forest f1 0.337 +- 0.051\n",
            "random forest roc_auc 0.831 +- 0.017\n",
            "\n"
          ],
          "name": "stdout"
        }
      ]
    },
    {
      "cell_type": "markdown",
      "metadata": {
        "id": "-Yh4ur70-Rrd",
        "colab_type": "text"
      },
      "source": [
        "## Нейросетевые подходы"
      ]
    },
    {
      "cell_type": "markdown",
      "metadata": {
        "id": "u2cv3_8DFyZD",
        "colab_type": "text"
      },
      "source": [
        "### Полносвязная сеть"
      ]
    },
    {
      "cell_type": "code",
      "metadata": {
        "id": "OcMsZcUk8yHW",
        "colab_type": "code",
        "colab": {}
      },
      "source": [
        "# импортируем библиотеки\n",
        "# модули для быстрых операций с числами\n",
        "import numpy as np\n",
        "import pandas as pd\n",
        "# модули для получения данных, работы с папками\n",
        "import os\n",
        "from operator import itemgetter\n",
        "# модули для визуализации\n",
        "import matplotlib.pyplot as plt\n",
        "import warnings\n",
        "# модули для создания сетей\n",
        "import tensorflow as tf\n",
        "from keras import models, regularizers, layers, optimizers, losses, metrics\n",
        "from keras.models import Sequential\n",
        "from keras.layers import Dense\n",
        "from keras.utils import np_utils, to_categorical\n",
        "\n",
        "# игнорируем предупреждения\n",
        "warnings.filterwarnings('ignore')\n",
        "get_ipython().magic(u'matplotlib inline')\n",
        "plt.style.use('ggplot')"
      ],
      "execution_count": 0,
      "outputs": []
    },
    {
      "cell_type": "code",
      "metadata": {
        "id": "2gNg4SfgD0JW",
        "colab_type": "code",
        "outputId": "e741e2bb-92d8-4025-ffe0-2952615cb515",
        "colab": {
          "base_uri": "https://localhost:8080/",
          "height": 201
        }
      },
      "source": [
        "print(X.shape)\n",
        "y = target.values\n",
        "print(y.shape)"
      ],
      "execution_count": 0,
      "outputs": [
        {
          "output_type": "error",
          "ename": "NameError",
          "evalue": "ignored",
          "traceback": [
            "\u001b[0;31m---------------------------------------------------------------------------\u001b[0m",
            "\u001b[0;31mNameError\u001b[0m                                 Traceback (most recent call last)",
            "\u001b[0;32m<ipython-input-29-ab69e3b786ff>\u001b[0m in \u001b[0;36m<module>\u001b[0;34m()\u001b[0m\n\u001b[0;32m----> 1\u001b[0;31m \u001b[0mprint\u001b[0m\u001b[0;34m(\u001b[0m\u001b[0mX\u001b[0m\u001b[0;34m.\u001b[0m\u001b[0mshape\u001b[0m\u001b[0;34m)\u001b[0m\u001b[0;34m\u001b[0m\u001b[0;34m\u001b[0m\u001b[0m\n\u001b[0m\u001b[1;32m      2\u001b[0m \u001b[0my\u001b[0m \u001b[0;34m=\u001b[0m \u001b[0mtarget\u001b[0m\u001b[0;34m.\u001b[0m\u001b[0mvalues\u001b[0m\u001b[0;34m\u001b[0m\u001b[0;34m\u001b[0m\u001b[0m\n\u001b[1;32m      3\u001b[0m \u001b[0mprint\u001b[0m\u001b[0;34m(\u001b[0m\u001b[0my\u001b[0m\u001b[0;34m.\u001b[0m\u001b[0mshape\u001b[0m\u001b[0;34m)\u001b[0m\u001b[0;34m\u001b[0m\u001b[0;34m\u001b[0m\u001b[0m\n",
            "\u001b[0;31mNameError\u001b[0m: name 'X' is not defined"
          ]
        }
      ]
    },
    {
      "cell_type": "code",
      "metadata": {
        "id": "159xbOEDEPyD",
        "colab_type": "code",
        "colab": {}
      },
      "source": [
        "del X_tfidf"
      ],
      "execution_count": 0,
      "outputs": []
    },
    {
      "cell_type": "code",
      "metadata": {
        "id": "TI9uA-AdEFI9",
        "colab_type": "code",
        "colab": {}
      },
      "source": [
        "from sklearn.model_selection import train_test_split\n",
        "\n",
        "X_train, X_test, y_train, y_test = train_test_split(X, y, test_size=0.2)"
      ],
      "execution_count": 0,
      "outputs": []
    },
    {
      "cell_type": "code",
      "metadata": {
        "id": "dTnUQofGFQaG",
        "colab_type": "code",
        "colab": {}
      },
      "source": [
        "del X\n",
        "del y"
      ],
      "execution_count": 0,
      "outputs": []
    },
    {
      "cell_type": "code",
      "metadata": {
        "id": "dQ1jkXFmENPn",
        "colab_type": "code",
        "outputId": "c18057d3-5770-4fe0-a558-9ce90cf302da",
        "colab": {
          "base_uri": "https://localhost:8080/",
          "height": 87
        }
      },
      "source": [
        "print('X_train:', X_train.shape)\n",
        "print('y_train:', y_train.shape)\n",
        "print('X_test:', X_test.shape)\n",
        "print('y_test:', y_test.shape)"
      ],
      "execution_count": 0,
      "outputs": [
        {
          "output_type": "stream",
          "text": [
            "X_train: (127656, 10000)\n",
            "y_train: (127656,)\n",
            "X_test: (31915, 10000)\n",
            "y_test: (31915,)\n"
          ],
          "name": "stdout"
        }
      ]
    },
    {
      "cell_type": "code",
      "metadata": {
        "id": "loV0X2k4-3Ge",
        "colab_type": "code",
        "colab": {}
      },
      "source": [
        "model = models.Sequential()\n",
        "model.add(layers.Dense(512, kernel_regularizer=regularizers.l1(0.001), activation='relu'))\n",
        "model.add(layers.Dropout(0.2))\n",
        "model.add(layers.Dense(256, kernel_regularizer=regularizers.l1(0.001), activation='relu'))\n",
        "model.add(layers.Dropout(0.2))\n",
        "model.add(layers.Dense(128, kernel_regularizer=regularizers.l1(0.001), activation='relu'))\n",
        "model.add(layers.Dropout(0.2))\n",
        "model.add(layers.Dense(64, kernel_regularizer=regularizers.l1(0.001), activation='relu'))\n",
        "model.add(layers.Dropout(0.2))\n",
        "model.add(layers.Dense(32, kernel_regularizer=regularizers.l1(0.001), activation='relu'))\n",
        "model.add(layers.Dropout(0.2))\n",
        "model.add(layers.Dense(1, activation='sigmoid'))"
      ],
      "execution_count": 0,
      "outputs": []
    },
    {
      "cell_type": "code",
      "metadata": {
        "id": "PXYGcFBx--ox",
        "colab_type": "code",
        "outputId": "38e8ba17-1699-4ab8-8d88-db6c8fab4779",
        "colab": {
          "base_uri": "https://localhost:8080/",
          "height": 765
        }
      },
      "source": [
        "# FIT / TRAIN model\n",
        "NumEpochs = 3\n",
        "BatchSize = 256\n",
        "\n",
        "model.compile(optimizer='rmsprop', loss='binary_crossentropy', metrics=['acc'])\n",
        "# сохраним историю метрик качества по эпохам\n",
        "history = model.fit(X_train, y_train, epochs=NumEpochs, batch_size=BatchSize, validation_data=(X_test, y_test))\n",
        "\n",
        "results = model.evaluate(X_test, y_test)\n",
        "print(\"_\"*100)\n",
        "print(\"Тестовый loss и accuracy\", results)\n",
        "# запишем результаты\n",
        "history_dict = history.history\n",
        "# history_dict.keys()"
      ],
      "execution_count": 0,
      "outputs": [
        {
          "output_type": "stream",
          "text": [
            "WARNING:tensorflow:From /usr/local/lib/python3.6/dist-packages/keras/optimizers.py:793: The name tf.train.Optimizer is deprecated. Please use tf.compat.v1.train.Optimizer instead.\n",
            "\n",
            "WARNING:tensorflow:From /usr/local/lib/python3.6/dist-packages/keras/backend/tensorflow_backend.py:541: The name tf.placeholder is deprecated. Please use tf.compat.v1.placeholder instead.\n",
            "\n",
            "WARNING:tensorflow:From /usr/local/lib/python3.6/dist-packages/keras/backend/tensorflow_backend.py:4432: The name tf.random_uniform is deprecated. Please use tf.random.uniform instead.\n",
            "\n",
            "WARNING:tensorflow:From /usr/local/lib/python3.6/dist-packages/keras/backend/tensorflow_backend.py:148: The name tf.placeholder_with_default is deprecated. Please use tf.compat.v1.placeholder_with_default instead.\n",
            "\n",
            "WARNING:tensorflow:From /usr/local/lib/python3.6/dist-packages/keras/backend/tensorflow_backend.py:3733: calling dropout (from tensorflow.python.ops.nn_ops) with keep_prob is deprecated and will be removed in a future version.\n",
            "Instructions for updating:\n",
            "Please use `rate` instead of `keep_prob`. Rate should be set to `rate = 1 - keep_prob`.\n",
            "WARNING:tensorflow:From /usr/local/lib/python3.6/dist-packages/keras/backend/tensorflow_backend.py:3657: The name tf.log is deprecated. Please use tf.math.log instead.\n",
            "\n",
            "WARNING:tensorflow:From /usr/local/lib/python3.6/dist-packages/tensorflow_core/python/ops/nn_impl.py:183: where (from tensorflow.python.ops.array_ops) is deprecated and will be removed in a future version.\n",
            "Instructions for updating:\n",
            "Use tf.where in 2.0, which has the same broadcast rule as np.where\n",
            "WARNING:tensorflow:From /usr/local/lib/python3.6/dist-packages/keras/backend/tensorflow_backend.py:1033: The name tf.assign_add is deprecated. Please use tf.compat.v1.assign_add instead.\n",
            "\n",
            "WARNING:tensorflow:From /usr/local/lib/python3.6/dist-packages/keras/backend/tensorflow_backend.py:1020: The name tf.assign is deprecated. Please use tf.compat.v1.assign instead.\n",
            "\n",
            "WARNING:tensorflow:From /usr/local/lib/python3.6/dist-packages/keras/backend/tensorflow_backend.py:3005: The name tf.Session is deprecated. Please use tf.compat.v1.Session instead.\n",
            "\n",
            "Train on 127656 samples, validate on 31915 samples\n",
            "Epoch 1/3\n",
            "WARNING:tensorflow:From /usr/local/lib/python3.6/dist-packages/keras/backend/tensorflow_backend.py:190: The name tf.get_default_session is deprecated. Please use tf.compat.v1.get_default_session instead.\n",
            "\n",
            "WARNING:tensorflow:From /usr/local/lib/python3.6/dist-packages/keras/backend/tensorflow_backend.py:197: The name tf.ConfigProto is deprecated. Please use tf.compat.v1.ConfigProto instead.\n",
            "\n",
            "WARNING:tensorflow:From /usr/local/lib/python3.6/dist-packages/keras/backend/tensorflow_backend.py:207: The name tf.global_variables is deprecated. Please use tf.compat.v1.global_variables instead.\n",
            "\n",
            "WARNING:tensorflow:From /usr/local/lib/python3.6/dist-packages/keras/backend/tensorflow_backend.py:216: The name tf.is_variable_initialized is deprecated. Please use tf.compat.v1.is_variable_initialized instead.\n",
            "\n",
            "WARNING:tensorflow:From /usr/local/lib/python3.6/dist-packages/keras/backend/tensorflow_backend.py:223: The name tf.variables_initializer is deprecated. Please use tf.compat.v1.variables_initializer instead.\n",
            "\n",
            "127656/127656 [==============================] - 30s 231us/step - loss: 3.7070 - acc: 0.9040 - val_loss: 2.5472 - val_acc: 0.9038\n",
            "Epoch 2/3\n",
            "127656/127656 [==============================] - 23s 182us/step - loss: 2.5400 - acc: 0.9042 - val_loss: 2.5332 - val_acc: 0.9038\n",
            "Epoch 3/3\n",
            "127656/127656 [==============================] - 23s 180us/step - loss: 2.5386 - acc: 0.9042 - val_loss: 2.5417 - val_acc: 0.9038\n",
            "31915/31915 [==============================] - 2s 78us/step\n",
            "____________________________________________________________________________________________________\n",
            "Тестовый loss и accuracy [2.541709666287247, 0.9038383205389315]\n"
          ],
          "name": "stdout"
        }
      ]
    },
    {
      "cell_type": "code",
      "metadata": {
        "id": "3keqbGgLBgy1",
        "colab_type": "code",
        "outputId": "eeb606ea-4b23-4132-8ffa-276b12c22f78",
        "colab": {
          "base_uri": "https://localhost:8080/",
          "height": 299
        }
      },
      "source": [
        "# посмотрим на графики изменения ошибки по эпохе\n",
        "plt.clf()\n",
        "history_dict = history.history\n",
        "# получим значения из сохраненного словаря с историей\n",
        "loss_values = history_dict['loss']\n",
        "val_loss_values = history_dict['val_loss']\n",
        "epochs = range(1, (len(history_dict['loss']) + 1))\n",
        "plt.plot(epochs, loss_values, 'r', label='loss обучающей')\n",
        "plt.plot(epochs, val_loss_values, 'b', label='loss валидационной')\n",
        "plt.title('Обучающий и валидационный loss')\n",
        "plt.xlabel('Эпохи')\n",
        "plt.ylabel('Loss')\n",
        "plt.legend()\n",
        "plt.show()"
      ],
      "execution_count": 0,
      "outputs": [
        {
          "output_type": "display_data",
          "data": {
            "image/png": "[encoded data removed]",
            "text/plain": [
              "<Figure size 432x288 with 1 Axes>"
            ]
          },
          "metadata": {
            "tags": []
          }
        }
      ]
    },
    {
      "cell_type": "code",
      "metadata": {
        "id": "hBs26nf5Bhs5",
        "colab_type": "code",
        "outputId": "52757ed3-a67c-4d1d-99bc-425faddfb876",
        "colab": {
          "base_uri": "https://localhost:8080/",
          "height": 299
        }
      },
      "source": [
        "# accuracy на валидационной выборке\n",
        "plt.clf()\n",
        "# получим значения из сохраненного словаря с историей\n",
        "acc_values = history_dict['acc']\n",
        "val_acc_values = history_dict['val_acc']\n",
        "epochs = range(1, (len(history_dict['acc']) + 1))\n",
        "# построим графики по accuracy на train и val\n",
        "plt.plot(epochs, acc_values, 'r', label='accuracy тренировочной')\n",
        "plt.plot(epochs, val_acc_values, 'b', label='accuracy валидационной')\n",
        "plt.title('Тренировочная и валидационная accuracy')\n",
        "plt.xlabel('Эпохи')\n",
        "plt.ylabel('Accuracy')\n",
        "plt.legend()\n",
        "plt.show()"
      ],
      "execution_count": 0,
      "outputs": [
        {
          "output_type": "display_data",
          "data": {
            "image/png": "[encoded data removed]",
            "text/plain": [
              "<Figure size 432x288 with 1 Axes>"
            ]
          },
          "metadata": {
            "tags": []
          }
        }
      ]
    },
    {
      "cell_type": "code",
      "metadata": {
        "id": "Vobq40RfC2dU",
        "colab_type": "code",
        "outputId": "c1ae8e25-5096-4096-a862-2cfdb7b7f087",
        "colab": {
          "base_uri": "https://localhost:8080/",
          "height": 191
        }
      },
      "source": [
        "from sklearn.metrics import classification_report\n",
        "\n",
        "# получим от нее предсказания по модели\n",
        "predictions = model.predict(X_test)\n",
        "print('Сырой вид наших предсказаний')\n",
        "# округлим предсказания в сторону 0 или 1, сравнив с тестовой\n",
        "print(classification_report(y_test, np.around(predictions)))"
      ],
      "execution_count": 0,
      "outputs": [
        {
          "output_type": "stream",
          "text": [
            "Сырой вид наших предсказаний\n",
            "              precision    recall  f1-score   support\n",
            "\n",
            "           0       0.90      1.00      0.95     28846\n",
            "           1       0.00      0.00      0.00      3069\n",
            "\n",
            "    accuracy                           0.90     31915\n",
            "   macro avg       0.45      0.50      0.47     31915\n",
            "weighted avg       0.82      0.90      0.86     31915\n",
            "\n"
          ],
          "name": "stdout"
        }
      ]
    },
    {
      "cell_type": "markdown",
      "metadata": {
        "id": "WxHTcR4WGbyq",
        "colab_type": "text"
      },
      "source": [
        "#### Балансируем выборку"
      ]
    },
    {
      "cell_type": "markdown",
      "metadata": {
        "id": "6eG0tE9uGylQ",
        "colab_type": "text"
      },
      "source": [
        "Найдем id токсичных комментариев"
      ]
    },
    {
      "cell_type": "code",
      "metadata": {
        "id": "ht7HxN-bGatj",
        "colab_type": "code",
        "outputId": "e0254ad4-d90b-4717-f5cb-0ba42881e184",
        "colab": {
          "base_uri": "https://localhost:8080/",
          "height": 139
        }
      },
      "source": [
        "tox_ids = np.argwhere(target.values == 1)\n",
        "tox_ids"
      ],
      "execution_count": 0,
      "outputs": [
        {
          "output_type": "execute_result",
          "data": {
            "text/plain": [
              "array([[     6],\n",
              "       [    12],\n",
              "       [    16],\n",
              "       ...,\n",
              "       [159541],\n",
              "       [159546],\n",
              "       [159554]])"
            ]
          },
          "metadata": {
            "tags": []
          },
          "execution_count": 36
        }
      ]
    },
    {
      "cell_type": "markdown",
      "metadata": {
        "id": "f-FeIALkG4y2",
        "colab_type": "text"
      },
      "source": [
        "Приводим к виду, которым можно индексировать"
      ]
    },
    {
      "cell_type": "code",
      "metadata": {
        "id": "wg48qTFRBiA7",
        "colab_type": "code",
        "outputId": "c7749984-010c-4fad-c117-07827aaf2c85",
        "colab": {
          "base_uri": "https://localhost:8080/",
          "height": 35
        }
      },
      "source": [
        "tox_ids = tox_ids.T[0]\n",
        "tox_ids"
      ],
      "execution_count": 0,
      "outputs": [
        {
          "output_type": "execute_result",
          "data": {
            "text/plain": [
              "array([     6,     12,     16, ..., 159541, 159546, 159554])"
            ]
          },
          "metadata": {
            "tags": []
          },
          "execution_count": 37
        }
      ]
    },
    {
      "cell_type": "code",
      "metadata": {
        "id": "sf8t4WAvHDHT",
        "colab_type": "code",
        "outputId": "708b7cf3-853a-4854-b3be-f3e0da6fbba4",
        "colab": {
          "base_uri": "https://localhost:8080/",
          "height": 35
        }
      },
      "source": [
        "len(tox_ids)"
      ],
      "execution_count": 0,
      "outputs": [
        {
          "output_type": "execute_result",
          "data": {
            "text/plain": [
              "15294"
            ]
          },
          "metadata": {
            "tags": []
          },
          "execution_count": 38
        }
      ]
    },
    {
      "cell_type": "markdown",
      "metadata": {
        "id": "lL1jjA52HHQL",
        "colab_type": "text"
      },
      "source": [
        "Найдем id обычных комментариев"
      ]
    },
    {
      "cell_type": "code",
      "metadata": {
        "id": "dYEb0aN8HFNL",
        "colab_type": "code",
        "outputId": "9e6c520f-ab55-4151-d8a0-d67c508301cb",
        "colab": {
          "base_uri": "https://localhost:8080/",
          "height": 139
        }
      },
      "source": [
        "not_tox_ids = np.argwhere(target.values == 0)\n",
        "not_tox_ids"
      ],
      "execution_count": 0,
      "outputs": [
        {
          "output_type": "execute_result",
          "data": {
            "text/plain": [
              "array([[     0],\n",
              "       [     1],\n",
              "       [     2],\n",
              "       ...,\n",
              "       [159568],\n",
              "       [159569],\n",
              "       [159570]])"
            ]
          },
          "metadata": {
            "tags": []
          },
          "execution_count": 39
        }
      ]
    },
    {
      "cell_type": "markdown",
      "metadata": {
        "id": "ZdJjmcHOHNy4",
        "colab_type": "text"
      },
      "source": [
        "Приводим к виду, которым можно индексировать"
      ]
    },
    {
      "cell_type": "code",
      "metadata": {
        "id": "9YgDQyujHMii",
        "colab_type": "code",
        "outputId": "f46a997b-10ef-44c9-8e6a-bbfa90c9afd0",
        "colab": {
          "base_uri": "https://localhost:8080/",
          "height": 35
        }
      },
      "source": [
        "not_tox_ids = not_tox_ids.T[0]\n",
        "not_tox_ids"
      ],
      "execution_count": 0,
      "outputs": [
        {
          "output_type": "execute_result",
          "data": {
            "text/plain": [
              "array([     0,      1,      2, ..., 159568, 159569, 159570])"
            ]
          },
          "metadata": {
            "tags": []
          },
          "execution_count": 40
        }
      ]
    },
    {
      "cell_type": "code",
      "metadata": {
        "id": "JOS7LGxOHP4j",
        "colab_type": "code",
        "outputId": "a42bbd53-4edd-452a-ca8b-73a0f9369661",
        "colab": {
          "base_uri": "https://localhost:8080/",
          "height": 35
        }
      },
      "source": [
        "len(not_tox_ids)"
      ],
      "execution_count": 0,
      "outputs": [
        {
          "output_type": "execute_result",
          "data": {
            "text/plain": [
              "144277"
            ]
          },
          "metadata": {
            "tags": []
          },
          "execution_count": 41
        }
      ]
    },
    {
      "cell_type": "markdown",
      "metadata": {
        "id": "CQkf-qe7Hdv3",
        "colab_type": "text"
      },
      "source": [
        "Перемешаем не токсичные id"
      ]
    },
    {
      "cell_type": "code",
      "metadata": {
        "id": "NrfULju6HRvC",
        "colab_type": "code",
        "outputId": "fa63a098-d35a-4d54-c934-04dc90f7286c",
        "colab": {
          "base_uri": "https://localhost:8080/",
          "height": 35
        }
      },
      "source": [
        "from sklearn.utils import shuffle\n",
        "\n",
        "not_tox_ids = shuffle(not_tox_ids)\n",
        "not_tox_ids"
      ],
      "execution_count": 0,
      "outputs": [
        {
          "output_type": "execute_result",
          "data": {
            "text/plain": [
              "array([49869, 33931, 94098, ..., 50823, 49721, 16626])"
            ]
          },
          "metadata": {
            "tags": []
          },
          "execution_count": 42
        }
      ]
    },
    {
      "cell_type": "markdown",
      "metadata": {
        "id": "KhCzPZTwHqW0",
        "colab_type": "text"
      },
      "source": [
        "Обрежем их до кол-ва нетоксичных"
      ]
    },
    {
      "cell_type": "code",
      "metadata": {
        "id": "bpO1eEt7Hpio",
        "colab_type": "code",
        "outputId": "42d93620-da3c-4b3b-daf1-6869d0bdccb5",
        "colab": {
          "base_uri": "https://localhost:8080/",
          "height": 35
        }
      },
      "source": [
        "not_tox_ids = not_tox_ids[:len(tox_ids)]\n",
        "not_tox_ids"
      ],
      "execution_count": 0,
      "outputs": [
        {
          "output_type": "execute_result",
          "data": {
            "text/plain": [
              "array([49869, 33931, 94098, ..., 99770,  7531, 79549])"
            ]
          },
          "metadata": {
            "tags": []
          },
          "execution_count": 43
        }
      ]
    },
    {
      "cell_type": "code",
      "metadata": {
        "id": "8QRRODMMH4Hw",
        "colab_type": "code",
        "outputId": "caef60f6-fbea-450a-e0e0-5a14f24bcd86",
        "colab": {
          "base_uri": "https://localhost:8080/",
          "height": 35
        }
      },
      "source": [
        "len(not_tox_ids)"
      ],
      "execution_count": 0,
      "outputs": [
        {
          "output_type": "execute_result",
          "data": {
            "text/plain": [
              "15294"
            ]
          },
          "metadata": {
            "tags": []
          },
          "execution_count": 44
        }
      ]
    },
    {
      "cell_type": "code",
      "metadata": {
        "id": "N3Rt_pcMH5Aw",
        "colab_type": "code",
        "outputId": "d3167df8-f754-4f15-a0ad-6316a5fbdd80",
        "colab": {
          "base_uri": "https://localhost:8080/",
          "height": 35
        }
      },
      "source": [
        "len(tox_ids)"
      ],
      "execution_count": 0,
      "outputs": [
        {
          "output_type": "execute_result",
          "data": {
            "text/plain": [
              "15294"
            ]
          },
          "metadata": {
            "tags": []
          },
          "execution_count": 45
        }
      ]
    },
    {
      "cell_type": "markdown",
      "metadata": {
        "id": "Pd-Pj5JGH-8w",
        "colab_type": "text"
      },
      "source": [
        "Cоздадим новую, сбалансированную обучающую выборку"
      ]
    },
    {
      "cell_type": "code",
      "metadata": {
        "id": "VYAWBb-IIIjG",
        "colab_type": "code",
        "outputId": "2ea3c760-e67b-4fa4-96ff-d74eb7b0dd3f",
        "colab": {
          "base_uri": "https://localhost:8080/",
          "height": 35
        }
      },
      "source": [
        "balanced_ids = np.append(not_tox_ids, tox_ids)\n",
        "balanced_ids"
      ],
      "execution_count": 0,
      "outputs": [
        {
          "output_type": "execute_result",
          "data": {
            "text/plain": [
              "array([ 49869,  33931,  94098, ..., 159541, 159546, 159554])"
            ]
          },
          "metadata": {
            "tags": []
          },
          "execution_count": 46
        }
      ]
    },
    {
      "cell_type": "code",
      "metadata": {
        "id": "lcxMnUtwIPmy",
        "colab_type": "code",
        "outputId": "be9e9594-9b0b-4025-f488-e213c2f64dd3",
        "colab": {
          "base_uri": "https://localhost:8080/",
          "height": 35
        }
      },
      "source": [
        "len(balanced_ids)"
      ],
      "execution_count": 0,
      "outputs": [
        {
          "output_type": "execute_result",
          "data": {
            "text/plain": [
              "30588"
            ]
          },
          "metadata": {
            "tags": []
          },
          "execution_count": 47
        }
      ]
    },
    {
      "cell_type": "code",
      "metadata": {
        "id": "8VcoZd_zbbvz",
        "colab_type": "code",
        "outputId": "a8cc4894-85da-426e-9fad-4b82ec557d8f",
        "colab": {
          "base_uri": "https://localhost:8080/",
          "height": 35
        }
      },
      "source": [
        "balanced_ids = shuffle(balanced_ids)\n",
        "balanced_ids"
      ],
      "execution_count": 0,
      "outputs": [
        {
          "output_type": "execute_result",
          "data": {
            "text/plain": [
              "array([ 3750, 68569, 77104, ..., 29790, 55264, 43994])"
            ]
          },
          "metadata": {
            "tags": []
          },
          "execution_count": 48
        }
      ]
    },
    {
      "cell_type": "markdown",
      "metadata": {
        "id": "CJf57eogIr2s",
        "colab_type": "text"
      },
      "source": [
        "Освободим память от старых, несбалансированных данных"
      ]
    },
    {
      "cell_type": "code",
      "metadata": {
        "id": "5-JkMF3TIanV",
        "colab_type": "code",
        "colab": {}
      },
      "source": [
        "del X_train, y_train"
      ],
      "execution_count": 0,
      "outputs": []
    },
    {
      "cell_type": "code",
      "metadata": {
        "id": "t8QLG-hnIfbQ",
        "colab_type": "code",
        "colab": {}
      },
      "source": [
        "del X_test, y_test"
      ],
      "execution_count": 0,
      "outputs": []
    },
    {
      "cell_type": "markdown",
      "metadata": {
        "id": "0i-grtDCIvQQ",
        "colab_type": "text"
      },
      "source": [
        "Опять получим tfidf представления"
      ]
    },
    {
      "cell_type": "code",
      "metadata": {
        "id": "V1CEYb7VIic8",
        "colab_type": "code",
        "outputId": "000872bf-218f-4cd3-a626-7bcb51ba13b5",
        "colab": {
          "base_uri": "https://localhost:8080/",
          "height": 52
        }
      },
      "source": [
        "from sklearn.feature_extraction.text import TfidfVectorizer\n",
        "\n",
        "vectorizer = TfidfVectorizer(max_features=10000)\n",
        "\n",
        "X_tfidf = vectorizer.fit_transform(corpus)\n",
        "print(X_tfidf.shape)\n",
        "X = X_tfidf.toarray()\n",
        "X.shape"
      ],
      "execution_count": 0,
      "outputs": [
        {
          "output_type": "stream",
          "text": [
            "(159571, 10000)\n"
          ],
          "name": "stdout"
        },
        {
          "output_type": "execute_result",
          "data": {
            "text/plain": [
              "(159571, 10000)"
            ]
          },
          "metadata": {
            "tags": []
          },
          "execution_count": 51
        }
      ]
    },
    {
      "cell_type": "markdown",
      "metadata": {
        "id": "40tLrhLMJIpi",
        "colab_type": "text"
      },
      "source": [
        "Сбалансируем"
      ]
    },
    {
      "cell_type": "code",
      "metadata": {
        "id": "bO_sR6uXH6-w",
        "colab_type": "code",
        "outputId": "4d03d1db-a994-4f9d-e8fc-dc2074746c81",
        "colab": {
          "base_uri": "https://localhost:8080/",
          "height": 35
        }
      },
      "source": [
        "X_bal = X[balanced_ids]\n",
        "X_bal.shape"
      ],
      "execution_count": 0,
      "outputs": [
        {
          "output_type": "execute_result",
          "data": {
            "text/plain": [
              "(30588, 10000)"
            ]
          },
          "metadata": {
            "tags": []
          },
          "execution_count": 52
        }
      ]
    },
    {
      "cell_type": "code",
      "metadata": {
        "id": "ZyKEvgHRIVQu",
        "colab_type": "code",
        "outputId": "3288281a-e20d-4eb9-bc24-4901bc1d0ccf",
        "colab": {
          "base_uri": "https://localhost:8080/",
          "height": 35
        }
      },
      "source": [
        "y_bal = target.values[balanced_ids]\n",
        "y_bal.shape"
      ],
      "execution_count": 0,
      "outputs": [
        {
          "output_type": "execute_result",
          "data": {
            "text/plain": [
              "(30588,)"
            ]
          },
          "metadata": {
            "tags": []
          },
          "execution_count": 53
        }
      ]
    },
    {
      "cell_type": "markdown",
      "metadata": {
        "id": "m_tIOIgHJbwp",
        "colab_type": "text"
      },
      "source": [
        "Получили новую сбалансированную выборку"
      ]
    },
    {
      "cell_type": "code",
      "metadata": {
        "id": "gGgYyhwvJY8R",
        "colab_type": "code",
        "outputId": "445fcc1c-773c-4df8-f2ac-0fcb21bbfeb2",
        "colab": {
          "base_uri": "https://localhost:8080/",
          "height": 139
        }
      },
      "source": [
        "X_bal"
      ],
      "execution_count": 0,
      "outputs": [
        {
          "output_type": "execute_result",
          "data": {
            "text/plain": [
              "array([[0., 0., 0., ..., 0., 0., 0.],\n",
              "       [0., 0., 0., ..., 0., 0., 0.],\n",
              "       [0., 0., 0., ..., 0., 0., 0.],\n",
              "       ...,\n",
              "       [0., 0., 0., ..., 0., 0., 0.],\n",
              "       [0., 0., 0., ..., 0., 0., 0.],\n",
              "       [0., 0., 0., ..., 0., 0., 0.]])"
            ]
          },
          "metadata": {
            "tags": []
          },
          "execution_count": 54
        }
      ]
    },
    {
      "cell_type": "code",
      "metadata": {
        "id": "1Ft_Np8nI8Xc",
        "colab_type": "code",
        "outputId": "dd5a2193-da73-4e6d-b61d-d234dcf8b9fb",
        "colab": {
          "base_uri": "https://localhost:8080/",
          "height": 35
        }
      },
      "source": [
        "y_bal"
      ],
      "execution_count": 0,
      "outputs": [
        {
          "output_type": "execute_result",
          "data": {
            "text/plain": [
              "array([0, 0, 0, ..., 1, 1, 0])"
            ]
          },
          "metadata": {
            "tags": []
          },
          "execution_count": 55
        }
      ]
    },
    {
      "cell_type": "code",
      "metadata": {
        "id": "n3gTuJNcJf7i",
        "colab_type": "code",
        "colab": {}
      },
      "source": [
        "# чистим память\n",
        "del X"
      ],
      "execution_count": 0,
      "outputs": []
    },
    {
      "cell_type": "markdown",
      "metadata": {
        "id": "bAydoYKxJnng",
        "colab_type": "text"
      },
      "source": [
        "### Сбалансированная полносвязаня сеть"
      ]
    },
    {
      "cell_type": "code",
      "metadata": {
        "id": "ZBckib9dJt2k",
        "colab_type": "code",
        "colab": {}
      },
      "source": [
        "from sklearn.model_selection import train_test_split\n",
        "\n",
        "X_train, X_test, y_train, y_test = train_test_split(X_bal, y_bal, test_size=0.2)"
      ],
      "execution_count": 0,
      "outputs": []
    },
    {
      "cell_type": "code",
      "metadata": {
        "id": "Xwx0_QIId1EN",
        "colab_type": "code",
        "colab": {}
      },
      "source": [
        "X_train = X_bal[:24000]\n",
        "y_train = y_bal[:24000]\n",
        "\n",
        "X_test = X_bal[24000:]\n",
        "y_test = y_bal[24000:]"
      ],
      "execution_count": 0,
      "outputs": []
    },
    {
      "cell_type": "code",
      "metadata": {
        "id": "YdVGiiIRJ0dV",
        "colab_type": "code",
        "outputId": "5f414392-6ec1-4395-ff9c-c5d138fea158",
        "colab": {
          "base_uri": "https://localhost:8080/",
          "height": 87
        }
      },
      "source": [
        "print('X_train:', X_train.shape)\n",
        "print('y_train:', y_train.shape)\n",
        "print('X_test:', X_test.shape)\n",
        "print('y_test:', y_test.shape)"
      ],
      "execution_count": 0,
      "outputs": [
        {
          "output_type": "stream",
          "text": [
            "X_train: (24000, 10000)\n",
            "y_train: (24000,)\n",
            "X_test: (6588, 10000)\n",
            "y_test: (6588,)\n"
          ],
          "name": "stdout"
        }
      ]
    },
    {
      "cell_type": "code",
      "metadata": {
        "id": "UXH_Il6Dedq7",
        "colab_type": "code",
        "colab": {}
      },
      "source": [
        ""
      ],
      "execution_count": 0,
      "outputs": []
    },
    {
      "cell_type": "code",
      "metadata": {
        "id": "OdYv-4QKLb38",
        "colab_type": "code",
        "colab": {}
      },
      "source": [
        "model = models.Sequential()\n",
        "model.add(layers.Dense(512, kernel_regularizer=regularizers.l1(0.001), activation='relu'))\n",
        "model.add(layers.Dropout(0.2))\n",
        "model.add(layers.Dense(256, kernel_regularizer=regularizers.l1(0.001), activation='relu'))\n",
        "model.add(layers.Dropout(0.2))\n",
        "model.add(layers.Dense(128, kernel_regularizer=regularizers.l1(0.001), activation='tanh'))\n",
        "model.add(layers.Dense(64, kernel_regularizer=regularizers.l1(0.001), activation='relu'))\n",
        "model.add(layers.Dropout(0.3))\n",
        "model.add(layers.Dense(1, activation='tanh'))"
      ],
      "execution_count": 0,
      "outputs": []
    },
    {
      "cell_type": "code",
      "metadata": {
        "id": "T_L_pIoUJOek",
        "colab_type": "code",
        "outputId": "a8dc4dd1-524e-4b31-846e-e6ec323c3f23",
        "colab": {
          "base_uri": "https://localhost:8080/",
          "height": 607
        }
      },
      "source": [
        "# FIT / TRAIN model\n",
        "NumEpochs = 15\n",
        "BatchSize = 32\n",
        "\n",
        "model.compile(optimizer='rmsprop', loss='binary_crossentropy', metrics=['acc'])\n",
        "# сохраним историю метрик качества по эпохам\n",
        "history = model.fit(X_train, y_train, epochs=NumEpochs, batch_size=BatchSize, validation_data=(X_test, y_test))\n",
        "\n",
        "results = model.evaluate(X_test, y_test)\n",
        "print(\"_\"*100)\n",
        "print(\"Тестовый loss и accuracy\", results)\n",
        "# запишем результаты\n",
        "history_dict = history.history\n",
        "# history_dict.keys()"
      ],
      "execution_count": 0,
      "outputs": [
        {
          "output_type": "stream",
          "text": [
            "Train on 24000 samples, validate on 6588 samples\n",
            "Epoch 1/15\n",
            "24000/24000 [==============================] - 6s 236us/step - loss: 3.8706 - acc: 0.8275 - val_loss: 2.7154 - val_acc: 0.8733\n",
            "Epoch 2/15\n",
            "24000/24000 [==============================] - 5s 212us/step - loss: 2.6889 - acc: 0.8609 - val_loss: 2.6588 - val_acc: 0.8745\n",
            "Epoch 3/15\n",
            "24000/24000 [==============================] - 5s 213us/step - loss: 2.6509 - acc: 0.8654 - val_loss: 2.6608 - val_acc: 0.8634\n",
            "Epoch 4/15\n",
            "24000/24000 [==============================] - 5s 212us/step - loss: 2.6310 - acc: 0.8684 - val_loss: 2.6069 - val_acc: 0.8760\n",
            "Epoch 5/15\n",
            "24000/24000 [==============================] - 5s 212us/step - loss: 2.6195 - acc: 0.8692 - val_loss: 2.5973 - val_acc: 0.8799\n",
            "Epoch 6/15\n",
            "24000/24000 [==============================] - 5s 215us/step - loss: 2.6158 - acc: 0.8650 - val_loss: 2.5975 - val_acc: 0.8742\n",
            "Epoch 7/15\n",
            "24000/24000 [==============================] - 5s 215us/step - loss: 2.6093 - acc: 0.8685 - val_loss: 2.5875 - val_acc: 0.8805\n",
            "Epoch 8/15\n",
            "24000/24000 [==============================] - 5s 212us/step - loss: 2.6047 - acc: 0.8678 - val_loss: 2.5787 - val_acc: 0.8796\n",
            "Epoch 9/15\n",
            "24000/24000 [==============================] - 5s 215us/step - loss: 2.6029 - acc: 0.8655 - val_loss: 2.6016 - val_acc: 0.8740\n",
            "Epoch 10/15\n",
            "24000/24000 [==============================] - 5s 212us/step - loss: 2.6048 - acc: 0.8669 - val_loss: 2.5762 - val_acc: 0.8813\n",
            "Epoch 11/15\n",
            "24000/24000 [==============================] - 5s 213us/step - loss: 2.6058 - acc: 0.8675 - val_loss: 2.5968 - val_acc: 0.8705\n",
            "Epoch 12/15\n",
            "24000/24000 [==============================] - 5s 211us/step - loss: 2.6041 - acc: 0.8643 - val_loss: 2.5709 - val_acc: 0.8831\n",
            "Epoch 13/15\n",
            "24000/24000 [==============================] - 5s 213us/step - loss: 2.6028 - acc: 0.8696 - val_loss: 2.5781 - val_acc: 0.8831\n",
            "Epoch 14/15\n",
            "24000/24000 [==============================] - 5s 212us/step - loss: 2.6002 - acc: 0.8660 - val_loss: 2.5728 - val_acc: 0.8834\n",
            "Epoch 15/15\n",
            "24000/24000 [==============================] - 5s 213us/step - loss: 2.6011 - acc: 0.8665 - val_loss: 2.5699 - val_acc: 0.8815\n",
            "6588/6588 [==============================] - 1s 79us/step\n",
            "____________________________________________________________________________________________________\n",
            "Тестовый loss и accuracy [2.569902079425295, 0.8814511233267815]\n"
          ],
          "name": "stdout"
        }
      ]
    },
    {
      "cell_type": "code",
      "metadata": {
        "id": "qt83LCLiKzhg",
        "colab_type": "code",
        "outputId": "b7c9da10-7916-4c60-f7ca-264237034e20",
        "colab": {
          "base_uri": "https://localhost:8080/",
          "height": 191
        }
      },
      "source": [
        "from sklearn.metrics import classification_report\n",
        "\n",
        "# получим от нее предсказания по модели\n",
        "predictions = model.predict(X_test)\n",
        "print('Сырой вид наших предсказаний')\n",
        "# округлим предсказания в сторону 0 или 1, сравнив с тестовой\n",
        "print(classification_report(y_test, np.around(predictions)))"
      ],
      "execution_count": 0,
      "outputs": [
        {
          "output_type": "stream",
          "text": [
            "Сырой вид наших предсказаний\n",
            "              precision    recall  f1-score   support\n",
            "\n",
            "           0       0.86      0.91      0.89      3317\n",
            "           1       0.91      0.85      0.88      3271\n",
            "\n",
            "    accuracy                           0.88      6588\n",
            "   macro avg       0.88      0.88      0.88      6588\n",
            "weighted avg       0.88      0.88      0.88      6588\n",
            "\n"
          ],
          "name": "stdout"
        }
      ]
    },
    {
      "cell_type": "code",
      "metadata": {
        "id": "5ai-w80HL0jz",
        "colab_type": "code",
        "outputId": "4ece753a-73ed-4fb8-9973-fe585ede96be",
        "colab": {
          "base_uri": "https://localhost:8080/",
          "height": 537
        }
      },
      "source": [
        "model.predict(X_test)[:30]"
      ],
      "execution_count": 0,
      "outputs": [
        {
          "output_type": "execute_result",
          "data": {
            "text/plain": [
              "array([[0.8769071 ],\n",
              "       [0.05328475],\n",
              "       [0.10152989],\n",
              "       [0.9956951 ],\n",
              "       [0.05328475],\n",
              "       [0.05635669],\n",
              "       [0.05328475],\n",
              "       [0.99987817],\n",
              "       [0.67906404],\n",
              "       [0.80673105],\n",
              "       [0.05328475],\n",
              "       [0.05328475],\n",
              "       [0.7925978 ],\n",
              "       [0.9494544 ],\n",
              "       [0.40488014],\n",
              "       [0.99980915],\n",
              "       [0.20673175],\n",
              "       [0.3891463 ],\n",
              "       [0.3694962 ],\n",
              "       [0.05328475],\n",
              "       [0.9971804 ],\n",
              "       [0.9464128 ],\n",
              "       [0.05328475],\n",
              "       [0.05328475],\n",
              "       [0.83875513],\n",
              "       [0.9998146 ],\n",
              "       [0.5240232 ],\n",
              "       [0.6872589 ],\n",
              "       [0.99948084],\n",
              "       [0.5567975 ]], dtype=float32)"
            ]
          },
          "metadata": {
            "tags": []
          },
          "execution_count": 63
        }
      ]
    },
    {
      "cell_type": "code",
      "metadata": {
        "id": "2o55Ymi4J5Ek",
        "colab_type": "code",
        "outputId": "ffe16962-af04-4380-9bf9-2f687319807b",
        "colab": {
          "base_uri": "https://localhost:8080/",
          "height": 1000
        }
      },
      "source": [
        "for i, text in enumerate(corpus[balanced_ids[24000:]][:20]):\n",
        "    print('label', target.values[balanced_ids[24000:]][i])\n",
        "    # print('prediction', model.predict(np.array([X_test[i]])))\n",
        "    print(text)\n",
        "    print()"
      ],
      "execution_count": 0,
      "outputs": [
        {
          "output_type": "stream",
          "text": [
            "label 1\n",
            "you know what im not listening to you good bye keep threating me punk stay black\n",
            "\n",
            "label 1\n",
            "wikipedia appears to work on the basis that a collective can enforce reality on an individual and i have the mainstream media if i want to be that bullshitted\n",
            "\n",
            "label 0\n",
            "epithelium all of that can be found in any introductory anatomy text an article on epthelia is pretty useless without mentioning stratified epithelia\n",
            "\n",
            "label 1\n",
            "u dam stupid son of a why u want trouble wij the polece kew\n",
            "\n",
            "label 0\n",
            "tony hi and thank you for your message clearly im new at this so thank you so much for your suggestion ill try to move to the talk page i m not clear if you work for wikipedia but in case you do just a suggestion from a novice it d be great if they made wikipedia more user friendly to edit it currently looks like a piece of matrix code to try and edit it i dont even know how we are talking there wasnt even a reply button to your message thanks for bearing with me\n",
            "\n",
            "label 0\n",
            "good for you give yourself a pat on the back and proclaim yay me i m so smart i can do it i m glad to see such constructive work on your behalf always nice to see editors developing a sense of self fulfillment from their work this sentence will be inappropriately placed but i feel that it is necessary you need to learn to read carefully before editing and you should try to control your tendency towards behaviours that most would label as idiotic no offense just trying to offer constructive advice for your benefit and for the sake of other editors that will have to deal with you\n",
            "\n",
            "label 0\n",
            "welcome although they are repeated in later section i think we can keep them in the intro part coz in newspapers they normally also have all the pts in the intro and then elaborate on those later however it ll be a gd idea to rephrase those pts in mission as they re just copied fm hkdcs official site i think hkdcs is not the only one coz wwf is also a ngo and it cares for animals conservation too\n",
            "\n",
            "label 1\n",
            "i i wanna fuck a dog in the ass\n",
            "\n",
            "label 0\n",
            "i agreement with your proposal\n",
            "\n",
            "label 0\n",
            "layla looks like you ve hit a brick wall someone finally has come forward with factual information and jammed it down your throat\n",
            "\n",
            "label 0\n",
            "also please keep to the poll topic please no responding to votes lets collect a true vote on how we are doing\n",
            "\n",
            "label 0\n",
            "this poorly written wiki article attempts to make it appear that ancient macedonians were distinct from ancient greeks i would gambit the article is largely edited by people from fyrom republic of macedonia with irredentist aims towards greece contrary to both us and un resolutions to refrain from propaganda against greek macedonians despite the occasional voice of objections there is no major dispute among most scholars that ancient macedon was inherently greek in nature at least more than anything else the hellenic age the greek word for what we in english call greek is evidence beyond dispute of this to give an example of historical distortions found in this article macedon or macedonia greek μακεδονία makedonía was the name of a kingdom centered in the northern most part of ancient greece bordered by the kingdom of epirus to the west and the region of thrace to the east by saying the northern most part of greece it makes it seem like it bordered greece there was no greece state in ancient times there was only a collection of autonomous city states and kingdoms that self identified as greeks mycenae athens argos ithica sparta macedon corinth etc another example of irredentism the wiki article states it became increasingly atticised during this period though prominent athenians appear to have regarded the macedonians as uncouth 3 this statement is very deceptive it was common during times of conflict for greeks to label each other barbarians non greeks as an insult similar to saying unamerican today while demosthenes used barbarians to describe macedonians he also used it describe the athenean orator aristogeiton aristophanes ‘nephelae’ line 491 and even demosthenes himself as described by as a barbarian by aeschine plato characterized the lesbian aeolic greek dialect as ‘a barbarian register’ while addressing pittakos of mytilene athenaios viii 350a socrates calls strepsiadis “ανθρωπός αμαθές ουτώσι και βάρβαρος“ strepsiadis…was a well known athenian protagoras 3410 etc etc there are countless instances of greeks describing each other as barbarians there are other examples of bias in the article but the most telling is how it lightly brushs over the hellenic period of macedon similiar to the golden age of athens in which macedonia spread the greek language greek culture and greek ideas to the region they unique flavour of macedon among greeks was very similar to how athens also had unique aspects to it as did sparta as did most of the greek mini states if macedon wasn t greek then greek philosopher aristotle wasn t greek either since he came from chalcidice in macedon to go down this road we would also need to rewrite a fair portion of wiki articles related to antiquity and the hellenistic period to do this to suit the political needs of a country whose population is roughly a quarter muslim and most of the rest are ethnically slavic who have called themselves yugoslavians serbians and bulgarians in the last hundred years amounts to roughly helping the taliban blow up buddhist statues for political ends because of political nature of the article i would advise a complete rewrite by people will credentials in ancient studies history is not a popularity contest just stick to the facts as we know them what s ironic is that virtually every last piece of evidence that macedon wasn t greek is either translated from greek or comes from greek artifacts the citizens of fyrom can t even read inscriptions from macedon as they are almost all writen in greek their own macedonian language was called bulgarian less than a hundred years ago\n",
            "\n",
            "label 1\n",
            "monkeys also like to feel you up when your sleeping and teabag you and skeet on your pillow when you least expect it most monkeys have diharea after raunchy sex with male hookers and need vicoden to numb the pain thats why some of the monkeys asses are red because they are sore\n",
            "\n",
            "label 1\n",
            "anyone in the republic of singapore is gay india forever\n",
            "\n",
            "label 0\n",
            "you might want to bear in mind that pension plans are generally used by private organizations and companies not governments\n",
            "\n",
            "label 1\n",
            "stop fucking adding viking metal they sound nothing like ensiferum or tyr fucking idiots\n",
            "\n",
            "label 1\n",
            "to user sennen goroshi well you could have at least used terms such as bullcrap horsecrap cowcrap or any other less offending words than bulls t whatever the lame drama you witnessed and you just said a single f king word do you feel like a grown man when you use that kind of language there could be some children refering to wikipedia for his her homework and i don t want them to learn foul languages here i do not know what this wikilawyering that i have supposed to be doing according to you i only could find that it is a pejorative term could you explain to me an ignorant user who is new to wikipedia that exactly what behavior of mine is wikilawyering why do you have to say things like just to shut you up or you would waste so much of the other editors time you are hurting my feelings it is uncalled for i am a delicate sensitive guy wikipedia articles are made by editors gaining consensus this process is something that you do not seem to have any respect for have a look at the policy wikipedia polling is not a substitute for discussion you say this process is something that you do not seem to have any respect for but notice that i am the one who officially started a consensus gathering effort at and you have not even participated in it wikipedia lamest edit wars what a valuable piece of information that i have not noticed so what i don t see this discussion included in that category by saying that you are not offending every editors who participated in and worked hard for this discussion are you\n",
            "\n",
            "label 1\n",
            "yall are such babies\n",
            "\n",
            "label 1\n",
            "great nomination well done errant his articles are completely pointless and most of them are empty and the events they are regarding are unfinalized delete careful though he will cry 109 152 194 46\n",
            "\n",
            "label 0\n",
            "two comments on this berry does not specify which particular encoding of the booleans you should choose only that one must be assumed beforehand which is completely fair as otherwise you would never know what true would be and what false would be so higher type whatever that would be in the untyped lambda calculus is covered by the theorem there is adifference between a parallel execution which exists for the lambda calculus in the form of parallel reductions sharing graphs etc and b a true parallel program which of which por is the prime example just start evaluating both arguments and when one eventually evaluates reduces to true we don t need to evaluate the other argument any further before we move on to the next part of our program berry s theorem shows that this we don t need to evaluate the other argument any further is impossible unfortunately the most common reading of parallel is b and to make things worse at lot of people assume concurrency is synonymous with parallelism\n",
            "\n"
          ],
          "name": "stdout"
        }
      ]
    },
    {
      "cell_type": "markdown",
      "metadata": {
        "id": "Kxe2fR5tj0ui",
        "colab_type": "text"
      },
      "source": [
        "### LSTM"
      ]
    },
    {
      "cell_type": "code",
      "metadata": {
        "id": "HPgb6tzNj_cd",
        "colab_type": "code",
        "colab": {}
      },
      "source": [
        "import sys, os, re, csv, codecs, numpy as np, pandas as pd\n",
        "import matplotlib.pyplot as plt\n",
        "%matplotlib inline\n",
        "from keras.preprocessing.text import Tokenizer\n",
        "from keras.preprocessing.sequence import pad_sequences\n",
        "from keras.layers import Dense, Input, LSTM, Embedding, Dropout, Activation, CuDNNLSTM\n",
        "from keras.layers import Bidirectional, GlobalMaxPool1D\n",
        "from keras.models import Model\n",
        "from keras import initializers, regularizers, constraints, optimizers, layers"
      ],
      "execution_count": 0,
      "outputs": []
    },
    {
      "cell_type": "code",
      "metadata": {
        "id": "kTUm54nHmwFa",
        "colab_type": "code",
        "outputId": "d0b34116-3b82-4ff0-b39c-a203ce247a06",
        "colab": {
          "base_uri": "https://localhost:8080/",
          "height": 202
        }
      },
      "source": [
        "train.head()"
      ],
      "execution_count": 0,
      "outputs": [
        {
          "output_type": "execute_result",
          "data": {
            "text/html": [
              "<div>\n",
              "<style scoped>\n",
              "    .dataframe tbody tr th:only-of-type {\n",
              "        vertical-align: middle;\n",
              "    }\n",
              "\n",
              "    .dataframe tbody tr th {\n",
              "        vertical-align: top;\n",
              "    }\n",
              "\n",
              "    .dataframe thead th {\n",
              "        text-align: right;\n",
              "    }\n",
              "</style>\n",
              "<table border=\"1\" class=\"dataframe\">\n",
              "  <thead>\n",
              "    <tr style=\"text-align: right;\">\n",
              "      <th></th>\n",
              "      <th>id</th>\n",
              "      <th>comment_text</th>\n",
              "      <th>toxic</th>\n",
              "      <th>severe_toxic</th>\n",
              "      <th>obscene</th>\n",
              "      <th>threat</th>\n",
              "      <th>insult</th>\n",
              "      <th>identity_hate</th>\n",
              "    </tr>\n",
              "  </thead>\n",
              "  <tbody>\n",
              "    <tr>\n",
              "      <th>0</th>\n",
              "      <td>0000997932d777bf</td>\n",
              "      <td>Explanation\\nWhy the edits made under my usern...</td>\n",
              "      <td>0</td>\n",
              "      <td>0</td>\n",
              "      <td>0</td>\n",
              "      <td>0</td>\n",
              "      <td>0</td>\n",
              "      <td>0</td>\n",
              "    </tr>\n",
              "    <tr>\n",
              "      <th>1</th>\n",
              "      <td>000103f0d9cfb60f</td>\n",
              "      <td>D'aww! He matches this background colour I'm s...</td>\n",
              "      <td>0</td>\n",
              "      <td>0</td>\n",
              "      <td>0</td>\n",
              "      <td>0</td>\n",
              "      <td>0</td>\n",
              "      <td>0</td>\n",
              "    </tr>\n",
              "    <tr>\n",
              "      <th>2</th>\n",
              "      <td>000113f07ec002fd</td>\n",
              "      <td>Hey man, I'm really not trying to edit war. It...</td>\n",
              "      <td>0</td>\n",
              "      <td>0</td>\n",
              "      <td>0</td>\n",
              "      <td>0</td>\n",
              "      <td>0</td>\n",
              "      <td>0</td>\n",
              "    </tr>\n",
              "    <tr>\n",
              "      <th>3</th>\n",
              "      <td>0001b41b1c6bb37e</td>\n",
              "      <td>\"\\nMore\\nI can't make any real suggestions on ...</td>\n",
              "      <td>0</td>\n",
              "      <td>0</td>\n",
              "      <td>0</td>\n",
              "      <td>0</td>\n",
              "      <td>0</td>\n",
              "      <td>0</td>\n",
              "    </tr>\n",
              "    <tr>\n",
              "      <th>4</th>\n",
              "      <td>0001d958c54c6e35</td>\n",
              "      <td>You, sir, are my hero. Any chance you remember...</td>\n",
              "      <td>0</td>\n",
              "      <td>0</td>\n",
              "      <td>0</td>\n",
              "      <td>0</td>\n",
              "      <td>0</td>\n",
              "      <td>0</td>\n",
              "    </tr>\n",
              "  </tbody>\n",
              "</table>\n",
              "</div>"
            ],
            "text/plain": [
              "                 id  ... identity_hate\n",
              "0  0000997932d777bf  ...             0\n",
              "1  000103f0d9cfb60f  ...             0\n",
              "2  000113f07ec002fd  ...             0\n",
              "3  0001b41b1c6bb37e  ...             0\n",
              "4  0001d958c54c6e35  ...             0\n",
              "\n",
              "[5 rows x 8 columns]"
            ]
          },
          "metadata": {
            "tags": []
          },
          "execution_count": 127
        }
      ]
    },
    {
      "cell_type": "code",
      "metadata": {
        "id": "Dy7iDVezdjgn",
        "colab_type": "code",
        "colab": {}
      },
      "source": [
        "# Реализуем многоклассовую классификацию\n",
        "list_classes = [\"toxic\", \"severe_toxic\", \"obscene\", \"threat\", \"insult\", \"identity_hate\"]\n",
        "y = train[list_classes].values\n",
        "list_sentences_train = train[\"comment_text\"]\n",
        "list_sentences_test = test[\"comment_text\"]"
      ],
      "execution_count": 0,
      "outputs": []
    },
    {
      "cell_type": "code",
      "metadata": {
        "id": "hB8-5gM8ndog",
        "colab_type": "code",
        "outputId": "22cf5c47-2b7e-4b51-f8cf-eb2816a8fbc3",
        "colab": {
          "base_uri": "https://localhost:8080/",
          "height": 35
        }
      },
      "source": [
        "list_sentences_train[6]"
      ],
      "execution_count": 0,
      "outputs": [
        {
          "output_type": "execute_result",
          "data": {
            "text/plain": [
              "'COCKSUCKER BEFORE YOU PISS AROUND ON MY WORK'"
            ]
          },
          "metadata": {
            "tags": []
          },
          "execution_count": 129
        }
      ]
    },
    {
      "cell_type": "code",
      "metadata": {
        "id": "p0kDXoFXnMGw",
        "colab_type": "code",
        "outputId": "a42c9dfa-0f3a-4fbf-c0e0-f49fb666e00d",
        "colab": {
          "base_uri": "https://localhost:8080/",
          "height": 35
        }
      },
      "source": [
        "y[6]"
      ],
      "execution_count": 0,
      "outputs": [
        {
          "output_type": "execute_result",
          "data": {
            "text/plain": [
              "array([1, 1, 1, 0, 1, 0])"
            ]
          },
          "metadata": {
            "tags": []
          },
          "execution_count": 130
        }
      ]
    },
    {
      "cell_type": "code",
      "metadata": {
        "id": "oDJpT9c8j5w9",
        "colab_type": "code",
        "colab": {}
      },
      "source": [
        "# токенизируем слова\n",
        "max_features = 50000\n",
        "tokenizer = Tokenizer(num_words=max_features)\n",
        "tokenizer.fit_on_texts(list(list_sentences_train))\n",
        "list_tokenized_train = tokenizer.texts_to_sequences(list_sentences_train)\n",
        "list_tokenized_test = tokenizer.texts_to_sequences(list_sentences_test)"
      ],
      "execution_count": 0,
      "outputs": []
    },
    {
      "cell_type": "code",
      "metadata": {
        "id": "-kNLkaKZwjRx",
        "colab_type": "code",
        "colab": {}
      },
      "source": [
        ""
      ],
      "execution_count": 0,
      "outputs": []
    },
    {
      "cell_type": "code",
      "metadata": {
        "id": "8do1GSHGj8z8",
        "colab_type": "code",
        "outputId": "5410bea3-fe44-49bf-e064-1e0e77d71f67",
        "colab": {
          "base_uri": "https://localhost:8080/",
          "height": 832
        }
      },
      "source": [
        "list_tokenized_train[:1]"
      ],
      "execution_count": 0,
      "outputs": [
        {
          "output_type": "execute_result",
          "data": {
            "text/plain": [
              "[[688,\n",
              "  75,\n",
              "  1,\n",
              "  126,\n",
              "  130,\n",
              "  177,\n",
              "  29,\n",
              "  672,\n",
              "  4511,\n",
              "  12052,\n",
              "  1116,\n",
              "  86,\n",
              "  331,\n",
              "  51,\n",
              "  2278,\n",
              "  11448,\n",
              "  50,\n",
              "  6864,\n",
              "  15,\n",
              "  60,\n",
              "  2756,\n",
              "  148,\n",
              "  7,\n",
              "  2937,\n",
              "  34,\n",
              "  117,\n",
              "  1221,\n",
              "  15190,\n",
              "  2825,\n",
              "  4,\n",
              "  45,\n",
              "  59,\n",
              "  244,\n",
              "  1,\n",
              "  365,\n",
              "  31,\n",
              "  1,\n",
              "  38,\n",
              "  27,\n",
              "  143,\n",
              "  73,\n",
              "  3462,\n",
              "  89,\n",
              "  3085,\n",
              "  4583,\n",
              "  2273,\n",
              "  985]]"
            ]
          },
          "metadata": {
            "tags": []
          },
          "execution_count": 132
        }
      ]
    },
    {
      "cell_type": "code",
      "metadata": {
        "id": "_pIY4YyHkGUr",
        "colab_type": "code",
        "colab": {}
      },
      "source": [
        "maxlen = 350\n",
        "X_t = pad_sequences(list_tokenized_train, maxlen=maxlen)\n",
        "X_te = pad_sequences(list_tokenized_test, maxlen=maxlen)"
      ],
      "execution_count": 0,
      "outputs": []
    },
    {
      "cell_type": "code",
      "metadata": {
        "id": "IQu8DtujkRJS",
        "colab_type": "code",
        "colab": {}
      },
      "source": [
        "totalNumWords = [len(one_comment) for one_comment in list_tokenized_train]"
      ],
      "execution_count": 0,
      "outputs": []
    },
    {
      "cell_type": "code",
      "metadata": {
        "id": "IXBy66LZkRXi",
        "colab_type": "code",
        "outputId": "94fead5e-cf25-4b51-dbf1-6f5b46d4239a",
        "colab": {
          "base_uri": "https://localhost:8080/",
          "height": 265
        }
      },
      "source": [
        "plt.hist(totalNumWords,bins = np.arange(0,410,10))\n",
        "plt.show()"
      ],
      "execution_count": 0,
      "outputs": [
        {
          "output_type": "display_data",
          "data": {
            "image/png": "[encoded data removed]",
            "text/plain": [
              "<Figure size 432x288 with 1 Axes>"
            ]
          },
          "metadata": {
            "tags": []
          }
        }
      ]
    },
    {
      "cell_type": "markdown",
      "metadata": {
        "id": "8tSyajuOpDAy",
        "colab_type": "text"
      },
      "source": [
        "![image.png](data:image/png;base64,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)"
      ]
    },
    {
      "cell_type": "code",
      "metadata": {
        "id": "lhoI-IOhkSZS",
        "colab_type": "code",
        "colab": {}
      },
      "source": [
        "embed_size = 248\n",
        "\n",
        "inp = Input(shape=(maxlen, ))\n",
        "x = Embedding(max_features, embed_size)(inp)\n",
        "x = CuDNNLSTM(248, return_sequences=True,name='lstm_layer')(x)\n",
        "x = GlobalMaxPool1D()(x)\n",
        "x = Dropout(0.1)(x)\n",
        "x = Dense(50, activation=\"relu\")(x)\n",
        "x = Dropout(0.1)(x)\n",
        "x = Dense(6, activation=\"sigmoid\")(x)"
      ],
      "execution_count": 0,
      "outputs": []
    },
    {
      "cell_type": "code",
      "metadata": {
        "id": "2QRQ8f7nkkFh",
        "colab_type": "code",
        "colab": {}
      },
      "source": [
        "model = Model(inputs=inp, outputs=x)\n",
        "model.compile(loss='binary_crossentropy',\n",
        "              optimizer='adam',\n",
        "              metrics=['accuracy'])"
      ],
      "execution_count": 0,
      "outputs": []
    },
    {
      "cell_type": "code",
      "metadata": {
        "id": "hgeoKRdtkkix",
        "colab_type": "code",
        "outputId": "fab23b38-0909-4335-8412-ac54a353cd39",
        "colab": {
          "base_uri": "https://localhost:8080/",
          "height": 225
        }
      },
      "source": [
        "batch_size = 32\n",
        "epochs = 5\n",
        "\n",
        "model.fit(X_t,\n",
        "          y,\n",
        "          batch_size=batch_size,\n",
        "          epochs=epochs,\n",
        "          validation_split=0.1)"
      ],
      "execution_count": 0,
      "outputs": [
        {
          "output_type": "stream",
          "text": [
            "Train on 143613 samples, validate on 15958 samples\n",
            "Epoch 1/5\n",
            "143613/143613 [==============================] - 155s 1ms/step - loss: 0.0647 - acc: 0.9785 - val_loss: 0.0481 - val_acc: 0.9820\n",
            "Epoch 2/5\n",
            "143613/143613 [==============================] - 154s 1ms/step - loss: 0.0433 - acc: 0.9836 - val_loss: 0.0470 - val_acc: 0.9824\n",
            "Epoch 3/5\n",
            "143613/143613 [==============================] - 154s 1ms/step - loss: 0.0372 - acc: 0.9854 - val_loss: 0.0468 - val_acc: 0.9826\n",
            "Epoch 4/5\n",
            "143613/143613 [==============================] - 154s 1ms/step - loss: 0.0324 - acc: 0.9871 - val_loss: 0.0494 - val_acc: 0.9824\n",
            "Epoch 5/5\n",
            "143613/143613 [==============================] - 154s 1ms/step - loss: 0.0287 - acc: 0.9886 - val_loss: 0.0541 - val_acc: 0.9815\n"
          ],
          "name": "stdout"
        },
        {
          "output_type": "execute_result",
          "data": {
            "text/plain": [
              "<keras.callbacks.History at 0x7f9536cc5f60>"
            ]
          },
          "metadata": {
            "tags": []
          },
          "execution_count": 104
        }
      ]
    },
    {
      "cell_type": "markdown",
      "metadata": {
        "id": "BW21kx1eybV8",
        "colab_type": "text"
      },
      "source": [
        "#### Пример распознавания на новой фразе"
      ]
    },
    {
      "cell_type": "code",
      "metadata": {
        "id": "oz_VDRMexY6P",
        "colab_type": "code",
        "outputId": "6983f214-d41a-4a79-c61b-5bf1c0ce1b70",
        "colab": {
          "base_uri": "https://localhost:8080/",
          "height": 287
        }
      },
      "source": [
        "# фраза, которую хотим распознать\n",
        "test_phrase = 'i will kill you idiot'\n",
        "# токенизированная слова, которых не будет заменятся на 1\n",
        "tokenized_phraze = tokenizer.texts_to_sequences([test_phrase])\n",
        "\n",
        "# обрезка под нужный формат (у нас 250 слов) - не хватает - заолняем нулями\n",
        "# слишкоим много - обрезаем\n",
        "padded_tokenized = pad_sequences(tokenized_phraze, maxlen=maxlen)\n",
        "\n",
        "# фиксируем ось y, по которой происходит предсказание (0..1)\n",
        "plt.ylim(0., 1.)\n",
        "# строим по y предсказания от сети (следите за форматом ввода)\n",
        "# по х - названия распознаваемых классов\n",
        "print(model.predict(np.array(padded_tokenized) )[0])\n",
        "ax = sns.barplot(x=list_classes, y=model.predict(np.array(padded_tokenized) )[0])"
      ],
      "execution_count": 0,
      "outputs": [
        {
          "output_type": "stream",
          "text": [
            "[0.97894657 0.24531361 0.7393558  0.2493799  0.82921404 0.30987316]\n"
          ],
          "name": "stdout"
        },
        {
          "output_type": "display_data",
          "data": {
            "image/png": "[encoded data removed]",
            "text/plain": [
              "<Figure size 432x288 with 1 Axes>"
            ]
          },
          "metadata": {
            "tags": []
          }
        }
      ]
    },
    {
      "cell_type": "code",
      "metadata": {
        "id": "1W2ptyw2zM3J",
        "colab_type": "code",
        "outputId": "ac8fffde-d54c-402f-98a6-e4bb0691321b",
        "colab": {
          "base_uri": "https://localhost:8080/",
          "height": 52
        }
      },
      "source": [
        "model.predict(np.array(padded_tokenized) )[0]"
      ],
      "execution_count": 0,
      "outputs": [
        {
          "output_type": "execute_result",
          "data": {
            "text/plain": [
              "array([0.10677031, 0.00041741, 0.00435936, 0.01660571, 0.00601083,\n",
              "       0.11164365], dtype=float32)"
            ]
          },
          "metadata": {
            "tags": []
          },
          "execution_count": 106
        }
      ]
    },
    {
      "cell_type": "code",
      "metadata": {
        "id": "w3l3KgrnsXfY",
        "colab_type": "code",
        "colab": {}
      },
      "source": [
        "result = model.predict(X_te)"
      ],
      "execution_count": 0,
      "outputs": []
    },
    {
      "cell_type": "code",
      "metadata": {
        "id": "xN3sGDJYtmPw",
        "colab_type": "code",
        "outputId": "d5b4fb16-e774-474f-c24e-b459b7cc4b5b",
        "colab": {
          "base_uri": "https://localhost:8080/",
          "height": 69
        }
      },
      "source": [
        "train.columns"
      ],
      "execution_count": 0,
      "outputs": [
        {
          "output_type": "execute_result",
          "data": {
            "text/plain": [
              "Index(['id', 'comment_text', 'toxic', 'severe_toxic', 'obscene', 'threat',\n",
              "       'insult', 'identity_hate'],\n",
              "      dtype='object')"
            ]
          },
          "metadata": {
            "tags": []
          },
          "execution_count": 108
        }
      ]
    },
    {
      "cell_type": "code",
      "metadata": {
        "id": "anbzXiRBuQod",
        "colab_type": "code",
        "outputId": "76c7c770-fb34-4b86-c954-e4204c0a185d",
        "colab": {
          "base_uri": "https://localhost:8080/",
          "height": 339
        }
      },
      "source": [
        "id_ = 28\n",
        "\n",
        "plt.ylim(0., 1.)\n",
        "ax = sns.barplot(x=list_classes, y=result[id_])\n",
        "\n",
        "print(list_sentences_test[id_])"
      ],
      "execution_count": 0,
      "outputs": [
        {
          "output_type": "stream",
          "text": [
            ". \n",
            "\n",
            "           Jews are not a race because you can only get it from your mother. Your own mention of Ethiopian Jews not testing \n",
            "           as Jews proves it is not, as well as the fact that we accept converts\n"
          ],
          "name": "stdout"
        },
        {
          "output_type": "display_data",
          "data": {
            "image/png": "[encoded data removed]",
            "text/plain": [
              "<Figure size 432x288 with 1 Axes>"
            ]
          },
          "metadata": {
            "tags": []
          }
        }
      ]
    },
    {
      "cell_type": "code",
      "metadata": {
        "id": "nUbdX14osXkq",
        "colab_type": "code",
        "outputId": "b900f176-95b8-4ca8-aa76-0adbb0080ade",
        "colab": {
          "base_uri": "https://localhost:8080/",
          "height": 644
        }
      },
      "source": [
        "for i, sent in enumerate(list_sentences_test[:5]):\n",
        "    print('comment', i)\n",
        "    print(list_classes)\n",
        "    print('prediction', result[i])\n",
        "    print(sent)\n",
        "    print('')"
      ],
      "execution_count": 0,
      "outputs": [
        {
          "output_type": "stream",
          "text": [
            "comment 0\n",
            "['toxic', 'severe_toxic', 'obscene', 'threat', 'insult', 'identity_hate']\n",
            "prediction [0.99841636 0.37327173 0.9722822  0.25592566 0.9218691  0.44353905]\n",
            "Yo bitch Ja Rule is more succesful then you'll ever be whats up with you and hating you sad mofuckas...i should bitch slap ur pethedic white faces and get you to kiss my ass you guys sicken me. Ja rule is about pride in da music man. dont diss that shit on him. and nothin is wrong bein like tupac he was a brother too...fuckin white boys get things right next time.,\n",
            "\n",
            "comment 1\n",
            "['toxic', 'severe_toxic', 'obscene', 'threat', 'insult', 'identity_hate']\n",
            "prediction [1.1205673e-05 0.0000000e+00 9.5367432e-07 0.0000000e+00 2.3841858e-07\n",
            " 8.9406967e-08]\n",
            "== From RfC == \n",
            "\n",
            " The title is fine as it is, IMO.\n",
            "\n",
            "comment 2\n",
            "['toxic', 'severe_toxic', 'obscene', 'threat', 'insult', 'identity_hate']\n",
            "prediction [1.9710362e-03 0.0000000e+00 2.3293495e-04 5.8710575e-06 8.9585781e-05\n",
            " 1.6689301e-05]\n",
            "\" \n",
            "\n",
            " == Sources == \n",
            "\n",
            " * Zawe Ashton on Lapland —  /  \"\n",
            "\n",
            "comment 3\n",
            "['toxic', 'severe_toxic', 'obscene', 'threat', 'insult', 'identity_hate']\n",
            "prediction [1.5854836e-05 0.0000000e+00 2.5033951e-06 2.9802322e-08 4.1723251e-07\n",
            " 1.7881393e-07]\n",
            ":If you have a look back at the source, the information I updated was the correct form. I can only guess the source hadn't updated. I shall update the information once again but thank you for your message.\n",
            "\n",
            "comment 4\n",
            "['toxic', 'severe_toxic', 'obscene', 'threat', 'insult', 'identity_hate']\n",
            "prediction [8.586943e-04 0.000000e+00 8.252263e-05 8.046627e-07 5.155802e-06\n",
            " 2.503395e-06]\n",
            "I don't anonymously edit articles at all.\n",
            "\n"
          ],
          "name": "stdout"
        }
      ]
    },
    {
      "cell_type": "code",
      "metadata": {
        "id": "HkT8zg4XsXoD",
        "colab_type": "code",
        "outputId": "4628c15f-9fa0-4f50-fa70-e97176deb12e",
        "colab": {
          "base_uri": "https://localhost:8080/",
          "height": 1000
        }
      },
      "source": [
        "for res in result[:30]:\n",
        "    print(res)"
      ],
      "execution_count": 0,
      "outputs": [
        {
          "output_type": "stream",
          "text": [
            "[0.99841636 0.37327173 0.9722822  0.25592566 0.9218691  0.44353905]\n",
            "[1.1205673e-05 0.0000000e+00 9.5367432e-07 0.0000000e+00 2.3841858e-07\n",
            " 8.9406967e-08]\n",
            "[1.9710362e-03 0.0000000e+00 2.3293495e-04 5.8710575e-06 8.9585781e-05\n",
            " 1.6689301e-05]\n",
            "[1.5854836e-05 0.0000000e+00 2.5033951e-06 2.9802322e-08 4.1723251e-07\n",
            " 1.7881393e-07]\n",
            "[8.586943e-04 0.000000e+00 8.252263e-05 8.046627e-07 5.155802e-06\n",
            " 2.503395e-06]\n",
            "[8.8483095e-05 0.0000000e+00 1.6272068e-05 2.9802322e-07 5.3942204e-06\n",
            " 1.4901161e-06]\n",
            "[6.3776970e-06 0.0000000e+00 1.2516975e-06 2.9802322e-08 1.1920929e-07\n",
            " 2.9802322e-07]\n",
            "[8.47399056e-01 8.06182623e-04 7.63794780e-02 1.83045864e-03\n",
            " 1.15435064e-01 3.23724747e-03]\n",
            "[3.7553906e-04 0.0000000e+00 3.4034252e-05 1.1920929e-07 4.1723251e-06\n",
            " 4.1723251e-06]\n",
            "[3.0398369e-06 0.0000000e+00 2.3841858e-07 0.0000000e+00 0.0000000e+00\n",
            " 5.9604645e-08]\n",
            "[8.3078814e-01 1.8889904e-03 3.4474212e-01 6.4095855e-04 1.3944894e-02\n",
            " 8.8679790e-04]\n",
            "[9.0846419e-04 0.0000000e+00 3.7911534e-04 1.4901161e-07 2.3841858e-06\n",
            " 1.1026859e-05]\n",
            "[2.3299456e-04 0.0000000e+00 1.7791986e-05 2.3841858e-07 6.7949295e-06\n",
            " 4.8279762e-06]\n",
            "[2.9802322e-06 0.0000000e+00 2.0861626e-07 0.0000000e+00 0.0000000e+00\n",
            " 0.0000000e+00]\n",
            "[5.3644180e-07 0.0000000e+00 1.1920929e-07 0.0000000e+00 0.0000000e+00\n",
            " 0.0000000e+00]\n",
            "[2.5361776e-05 0.0000000e+00 1.3411045e-06 5.9604645e-08 4.1723251e-07\n",
            " 2.0861626e-07]\n",
            "[2.1959841e-03 5.9604645e-08 3.2761693e-04 1.0102987e-05 9.2923641e-05\n",
            " 9.8049641e-06]\n",
            "[4.0471554e-05 0.0000000e+00 2.4437904e-06 5.9604645e-08 2.0861626e-07\n",
            " 5.9604645e-08]\n",
            "[1.4305115e-06 0.0000000e+00 1.7881393e-07 0.0000000e+00 0.0000000e+00\n",
            " 5.9604645e-08]\n",
            "[9.8007917e-04 0.0000000e+00 7.6919794e-05 4.3809414e-06 2.8282404e-05\n",
            " 2.9504299e-06]\n",
            "[2.43991613e-04 0.00000000e+00 1.22487545e-05 9.53674316e-07\n",
            " 4.64916229e-06 7.15255737e-07]\n",
            "[1.3543913e-01 4.0441751e-05 5.7153404e-03 2.0685494e-03 3.6722124e-03\n",
            " 9.5561147e-03]\n",
            "[2.9492140e-02 1.8179417e-06 4.2402744e-04 1.1542439e-03 5.8585405e-04\n",
            " 8.2525611e-04]\n",
            "[4.1723251e-07 0.0000000e+00 5.9604645e-08 0.0000000e+00 0.0000000e+00\n",
            " 0.0000000e+00]\n",
            "[0.65870005 0.00133798 0.1835916  0.00245306 0.0354971  0.00326964]\n",
            "[3.0398369e-06 0.0000000e+00 1.7881393e-07 0.0000000e+00 2.9802322e-08\n",
            " 2.6822090e-07]\n",
            "[3.7956238e-04 0.0000000e+00 3.0696392e-06 3.2484531e-06 1.0132790e-06\n",
            " 1.6093254e-05]\n",
            "[1.2725681e-02 2.9802322e-08 1.3071299e-04 2.8103590e-05 2.1165609e-04\n",
            " 2.1964312e-05]\n",
            "[0.6031571  0.00109872 0.00925946 0.03372779 0.02497095 0.17702967]\n",
            "[4.172325e-07 0.000000e+00 0.000000e+00 0.000000e+00 0.000000e+00\n",
            " 0.000000e+00]\n"
          ],
          "name": "stdout"
        }
      ]
    },
    {
      "cell_type": "code",
      "metadata": {
        "id": "WkboiDBesXi6",
        "colab_type": "code",
        "colab": {}
      },
      "source": [
        ""
      ],
      "execution_count": 0,
      "outputs": []
    },
    {
      "cell_type": "code",
      "metadata": {
        "id": "y20938dcr6V5",
        "colab_type": "code",
        "outputId": "04b9497a-10b6-4bfa-bd01-96a8c43a092f",
        "colab": {
          "base_uri": "https://localhost:8080/",
          "height": 35
        }
      },
      "source": [
        "from sklearn.metrics import classification_report\n",
        "\n",
        "# получим от нее предсказания по модели\n",
        "predictions = model.predict(X_te)\n",
        "print('Сырой вид наших предсказаний')\n",
        "# округлим предсказания в сторону 0 или 1, сравнив с тестовой\n",
        "print(classification_report(y_test, np.around(predictions)))"
      ],
      "execution_count": 0,
      "outputs": [
        {
          "output_type": "stream",
          "text": [
            "Сырой вид наших предсказаний\n"
          ],
          "name": "stdout"
        }
      ]
    },
    {
      "cell_type": "code",
      "metadata": {
        "id": "4NnYJv9DOhkb",
        "colab_type": "code",
        "outputId": "722fdd76-b9e7-42fe-f7b9-d4e2ec96df74",
        "colab": {
          "base_uri": "https://localhost:8080/",
          "height": 243
        }
      },
      "source": [
        "predictions"
      ],
      "execution_count": 0,
      "outputs": [
        {
          "output_type": "execute_result",
          "data": {
            "text/plain": [
              "array([[9.9841636e-01, 3.7327173e-01, 9.7228217e-01, 2.5592566e-01,\n",
              "        9.2186910e-01, 4.4353905e-01],\n",
              "       [1.1205673e-05, 0.0000000e+00, 9.5367432e-07, 0.0000000e+00,\n",
              "        2.3841858e-07, 8.9406967e-08],\n",
              "       [1.9710362e-03, 0.0000000e+00, 2.3293495e-04, 5.8710575e-06,\n",
              "        8.9585781e-05, 1.6689301e-05],\n",
              "       ...,\n",
              "       [3.9041042e-06, 0.0000000e+00, 1.7881393e-07, 0.0000000e+00,\n",
              "        0.0000000e+00, 8.9406967e-08],\n",
              "       [1.9073486e-06, 0.0000000e+00, 1.1920929e-07, 0.0000000e+00,\n",
              "        0.0000000e+00, 3.2782555e-07],\n",
              "       [9.7782534e-01, 3.2404155e-02, 8.1772208e-01, 3.6383271e-03,\n",
              "        4.0059036e-01, 1.1279792e-02]], dtype=float32)"
            ]
          },
          "metadata": {
            "tags": []
          },
          "execution_count": 139
        }
      ]
    },
    {
      "cell_type": "code",
      "metadata": {
        "id": "QbWd89BMKZ3a",
        "colab_type": "code",
        "outputId": "8e87e6c0-54eb-404d-b86e-82f9b978b84a",
        "colab": {
          "base_uri": "https://localhost:8080/",
          "height": 311
        }
      },
      "source": [
        "print(classification_report(y_test, np.around(predictions)))"
      ],
      "execution_count": 0,
      "outputs": [
        {
          "output_type": "error",
          "ename": "ValueError",
          "evalue": "ignored",
          "traceback": [
            "\u001b[0;31m---------------------------------------------------------------------------\u001b[0m",
            "\u001b[0;31mValueError\u001b[0m                                Traceback (most recent call last)",
            "\u001b[0;32m<ipython-input-138-cfde515e4175>\u001b[0m in \u001b[0;36m<module>\u001b[0;34m()\u001b[0m\n\u001b[0;32m----> 1\u001b[0;31m \u001b[0mprint\u001b[0m\u001b[0;34m(\u001b[0m\u001b[0mclassification_report\u001b[0m\u001b[0;34m(\u001b[0m\u001b[0my_test\u001b[0m\u001b[0;34m,\u001b[0m \u001b[0mnp\u001b[0m\u001b[0;34m.\u001b[0m\u001b[0maround\u001b[0m\u001b[0;34m(\u001b[0m\u001b[0mpredictions\u001b[0m\u001b[0;34m)\u001b[0m\u001b[0;34m)\u001b[0m\u001b[0;34m)\u001b[0m\u001b[0;34m\u001b[0m\u001b[0;34m\u001b[0m\u001b[0m\n\u001b[0m",
            "\u001b[0;32m/usr/local/lib/python3.6/dist-packages/sklearn/metrics/classification.py\u001b[0m in \u001b[0;36mclassification_report\u001b[0;34m(y_true, y_pred, labels, target_names, sample_weight, digits, output_dict)\u001b[0m\n\u001b[1;32m   1850\u001b[0m     \"\"\"\n\u001b[1;32m   1851\u001b[0m \u001b[0;34m\u001b[0m\u001b[0m\n\u001b[0;32m-> 1852\u001b[0;31m     \u001b[0my_type\u001b[0m\u001b[0;34m,\u001b[0m \u001b[0my_true\u001b[0m\u001b[0;34m,\u001b[0m \u001b[0my_pred\u001b[0m \u001b[0;34m=\u001b[0m \u001b[0m_check_targets\u001b[0m\u001b[0;34m(\u001b[0m\u001b[0my_true\u001b[0m\u001b[0;34m,\u001b[0m \u001b[0my_pred\u001b[0m\u001b[0;34m)\u001b[0m\u001b[0;34m\u001b[0m\u001b[0;34m\u001b[0m\u001b[0m\n\u001b[0m\u001b[1;32m   1853\u001b[0m \u001b[0;34m\u001b[0m\u001b[0m\n\u001b[1;32m   1854\u001b[0m     \u001b[0mlabels_given\u001b[0m \u001b[0;34m=\u001b[0m \u001b[0;32mTrue\u001b[0m\u001b[0;34m\u001b[0m\u001b[0;34m\u001b[0m\u001b[0m\n",
            "\u001b[0;32m/usr/local/lib/python3.6/dist-packages/sklearn/metrics/classification.py\u001b[0m in \u001b[0;36m_check_targets\u001b[0;34m(y_true, y_pred)\u001b[0m\n\u001b[1;32m     69\u001b[0m     \u001b[0my_pred\u001b[0m \u001b[0;34m:\u001b[0m \u001b[0marray\u001b[0m \u001b[0;32mor\u001b[0m \u001b[0mindicator\u001b[0m \u001b[0mmatrix\u001b[0m\u001b[0;34m\u001b[0m\u001b[0;34m\u001b[0m\u001b[0m\n\u001b[1;32m     70\u001b[0m     \"\"\"\n\u001b[0;32m---> 71\u001b[0;31m     \u001b[0mcheck_consistent_length\u001b[0m\u001b[0;34m(\u001b[0m\u001b[0my_true\u001b[0m\u001b[0;34m,\u001b[0m \u001b[0my_pred\u001b[0m\u001b[0;34m)\u001b[0m\u001b[0;34m\u001b[0m\u001b[0;34m\u001b[0m\u001b[0m\n\u001b[0m\u001b[1;32m     72\u001b[0m     \u001b[0mtype_true\u001b[0m \u001b[0;34m=\u001b[0m \u001b[0mtype_of_target\u001b[0m\u001b[0;34m(\u001b[0m\u001b[0my_true\u001b[0m\u001b[0;34m)\u001b[0m\u001b[0;34m\u001b[0m\u001b[0;34m\u001b[0m\u001b[0m\n\u001b[1;32m     73\u001b[0m     \u001b[0mtype_pred\u001b[0m \u001b[0;34m=\u001b[0m \u001b[0mtype_of_target\u001b[0m\u001b[0;34m(\u001b[0m\u001b[0my_pred\u001b[0m\u001b[0;34m)\u001b[0m\u001b[0;34m\u001b[0m\u001b[0;34m\u001b[0m\u001b[0m\n",
            "\u001b[0;32m/usr/local/lib/python3.6/dist-packages/sklearn/utils/validation.py\u001b[0m in \u001b[0;36mcheck_consistent_length\u001b[0;34m(*arrays)\u001b[0m\n\u001b[1;32m    203\u001b[0m     \u001b[0;32mif\u001b[0m \u001b[0mlen\u001b[0m\u001b[0;34m(\u001b[0m\u001b[0muniques\u001b[0m\u001b[0;34m)\u001b[0m \u001b[0;34m>\u001b[0m \u001b[0;36m1\u001b[0m\u001b[0;34m:\u001b[0m\u001b[0;34m\u001b[0m\u001b[0;34m\u001b[0m\u001b[0m\n\u001b[1;32m    204\u001b[0m         raise ValueError(\"Found input variables with inconsistent numbers of\"\n\u001b[0;32m--> 205\u001b[0;31m                          \" samples: %r\" % [int(l) for l in lengths])\n\u001b[0m\u001b[1;32m    206\u001b[0m \u001b[0;34m\u001b[0m\u001b[0m\n\u001b[1;32m    207\u001b[0m \u001b[0;34m\u001b[0m\u001b[0m\n",
            "\u001b[0;31mValueError\u001b[0m: Found input variables with inconsistent numbers of samples: [6588, 153164]"
          ]
        }
      ]
    },
    {
      "cell_type": "code",
      "metadata": {
        "id": "lt1LT_9GOfd2",
        "colab_type": "code",
        "colab": {}
      },
      "source": [
        ""
      ],
      "execution_count": 0,
      "outputs": []
    }
  ]
}