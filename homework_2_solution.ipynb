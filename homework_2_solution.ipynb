{
  "nbformat": 4,
  "nbformat_minor": 0,
  "metadata": {
    "colab": {
      "name": "homework_2_solution.ipynb",
      "provenance": [],
      "collapsed_sections": [],
      "include_colab_link": true
    },
    "kernelspec": {
      "name": "python3",
      "display_name": "Python 3"
    }
  },
  "cells": [
    {
      "cell_type": "markdown",
      "metadata": {
        "id": "view-in-github",
        "colab_type": "text"
      },
      "source": [
        "<a href=\"https://colab.research.google.com/github/alexey9019/data/blob/master/homework_2_solution.ipynb\" target=\"_parent\"><img src=\"https://colab.research.google.com/assets/colab-badge.svg\" alt=\"Open In Colab\"/></a>"
      ]
    },
    {
      "cell_type": "markdown",
      "metadata": {
        "id": "JmblmG7LLIWl",
        "colab_type": "text"
      },
      "source": [
        "# Домашнее задание"
      ]
    },
    {
      "cell_type": "markdown",
      "metadata": {
        "id": "Vfwl19gBLIUH",
        "colab_type": "text"
      },
      "source": [
        "## Предсказание оттока телеком компании"
      ]
    },
    {
      "cell_type": "markdown",
      "metadata": {
        "id": "zzuwnvz6LIY4",
        "colab_type": "text"
      },
      "source": [
        "#### Что такое \"скорость оттока\"?\n",
        "\n",
        "Коэффициент оттока - это процент подписчиков на услугу, которые прекращают свою подписку на услугу в течение заданного периода времени. Для того чтобы компания могла расширить свою клиентуру, ее темпы роста, измеряемые числом новых клиентов, должны превышать темпы оттока. Этот показатель обычно выражается в процентах."
      ]
    },
    {
      "cell_type": "markdown",
      "metadata": {
        "id": "xGQIRZDALIbT",
        "colab_type": "text"
      },
      "source": [
        "#### Почему отток так важен?\n",
        "\n",
        "Отток клиентов - это термин, используемый в компаний с подписочной моделью ведения бизнеса, для описания потери клиентов. Например, если 10 из 100 подписчиков интернет-провайдера (ISP) отменили свои подписки, скорость оттока для этого провайдера составит 10%.\n",
        "\n",
        "Отток важен, потому что он напрямую влияет на прибыльность вашего сервиса. Принято считать, что прибыльность услуги напрямую связана с ростом ее клиентской базы. Это может привести владельцев бизнеса к выводу, что для того, чтобы увеличить свою клиентскую базу, скорость приобретения новых клиентов должна превышать скорость оттока."
      ]
    },
    {
      "cell_type": "markdown",
      "metadata": {
        "id": "uBE-CE01LIdr",
        "colab_type": "text"
      },
      "source": [
        "#### Что из себя представляет датасет?\n",
        "\n",
        "Датасет представляет из себя 3333 записи из истории компании о клиентах с 20 колонками. Каждая колонка описывает клиента - его штат проживания, время использования услуги, номер, перечень подписок, время разговора, прочее."
      ]
    },
    {
      "cell_type": "markdown",
      "metadata": {
        "id": "sH_zBlcELIgF",
        "colab_type": "text"
      },
      "source": [
        "#### В чем состоит ваше задание?\n",
        "\n",
        "Ниже будет представлен процесс (pipeline) обработки датасета с комментариями. На основе комментариев и результатов уже выполненых ячеек вам нужно будет восстановить код (на основе материалов занятий) по загрузке, обработке и построении модели наших данных.\n",
        "\n",
        "Желательно придерживаться в обработке результатов, которые вы уже увидите в ячейках. Вам необходимо до 13.11.2019 (мягкий дедлайн) прислать ссылку на этот ноутбук или сам ноутбук на почту tixons.i.t@gmail.com со свои комментарии (!) - в каких ячейках у вас не получился результат (хотя бы схожий с моим) и в чем возникли сложности.\n",
        "\n",
        "Жесткий дедлайн - 20.11.2019, после него задания не принимаются. Если у вас есть уважительная причина - напишите мне в личку, сдвинем сроки."
      ]
    },
    {
      "cell_type": "markdown",
      "metadata": {
        "id": "zgQBiSeHLIiU",
        "colab_type": "text"
      },
      "source": [
        "------\n",
        "\n",
        "## Загрузка данных\n",
        "\n",
        "Загрузка данных может зависить от среды, где вы работаете. \n",
        "\n",
        "Если это гугл колаб - вам необходимо выполнить следующие комманды:\n",
        "\n",
        "В первой вам необходимо перейти по ссылке, авторизироваться со своим аккаунтом, скопировать код из окна и вставить в поле выполнения ячейки."
      ]
    },
    {
      "cell_type": "markdown",
      "metadata": {
        "id": "NL5M2PWxLyyO",
        "colab_type": "text"
      },
      "source": [
        "Клонируем файлы с гита"
      ]
    },
    {
      "cell_type": "code",
      "metadata": {
        "id": "-OL7sYzzLaFp",
        "colab_type": "code",
        "outputId": "4f776813-2f55-4a73-c5eb-b21fabf11035",
        "colab": {
          "base_uri": "https://localhost:8080/",
          "height": 121
        }
      },
      "source": [
        "!git clone https://github.com/tixonsit/Sberbank_materials.git"
      ],
      "execution_count": 0,
      "outputs": [
        {
          "output_type": "stream",
          "text": [
            "Cloning into 'Sberbank_materials'...\n",
            "remote: Enumerating objects: 7, done.\u001b[K\n",
            "remote: Counting objects: 100% (7/7), done.\u001b[K\n",
            "remote: Compressing objects: 100% (5/5), done.\u001b[K\n",
            "remote: Total 38 (delta 2), reused 6 (delta 2), pack-reused 31\u001b[K\n",
            "Unpacking objects: 100% (38/38), done.\n"
          ],
          "name": "stdout"
        }
      ]
    },
    {
      "cell_type": "markdown",
      "metadata": {
        "id": "sjqior08MTAq",
        "colab_type": "text"
      },
      "source": [
        "Загружаем все необходимые библиотеки"
      ]
    },
    {
      "cell_type": "code",
      "metadata": {
        "id": "_oEKlPQ3MKmo",
        "colab_type": "code",
        "colab": {}
      },
      "source": [
        "import pandas as pd\n",
        "import numpy as np\n",
        "import matplotlib.pyplot as plt\n",
        "import seaborn as sns\n",
        "import sklearn"
      ],
      "execution_count": 0,
      "outputs": []
    },
    {
      "cell_type": "markdown",
      "metadata": {
        "id": "dY8V2o78MY80",
        "colab_type": "text"
      },
      "source": [
        "[Открываем](https://pandas.pydata.org/pandas-docs/stable/reference/api/pandas.read_csv.html) склонированную папку"
      ]
    },
    {
      "cell_type": "code",
      "metadata": {
        "id": "_y1OKScqLbEg",
        "colab_type": "code",
        "colab": {}
      },
      "source": [
        "df = pd.read_csv('/content/Sberbank_materials/telecom_churn.csv')"
      ],
      "execution_count": 0,
      "outputs": []
    },
    {
      "cell_type": "markdown",
      "metadata": {
        "id": "83DjKz7cMkhI",
        "colab_type": "text"
      },
      "source": [
        "[Отображаем](https://pandas.pydata.org/pandas-docs/stable/reference/api/pandas.DataFrame.head.html) данные"
      ]
    },
    {
      "cell_type": "code",
      "metadata": {
        "id": "cUmSqnqsMBCL",
        "colab_type": "code",
        "outputId": "dc2f1f00-401b-4bf7-8148-554e8311e236",
        "colab": {
          "base_uri": "https://localhost:8080/",
          "height": 343
        }
      },
      "source": [
        "df.head()"
      ],
      "execution_count": 0,
      "outputs": [
        {
          "output_type": "execute_result",
          "data": {
            "text/html": [
              "<div>\n",
              "<style scoped>\n",
              "    .dataframe tbody tr th:only-of-type {\n",
              "        vertical-align: middle;\n",
              "    }\n",
              "\n",
              "    .dataframe tbody tr th {\n",
              "        vertical-align: top;\n",
              "    }\n",
              "\n",
              "    .dataframe thead th {\n",
              "        text-align: right;\n",
              "    }\n",
              "</style>\n",
              "<table border=\"1\" class=\"dataframe\">\n",
              "  <thead>\n",
              "    <tr style=\"text-align: right;\">\n",
              "      <th></th>\n",
              "      <th>state</th>\n",
              "      <th>account length</th>\n",
              "      <th>area code</th>\n",
              "      <th>phone number</th>\n",
              "      <th>international plan</th>\n",
              "      <th>voice mail plan</th>\n",
              "      <th>number vmail messages</th>\n",
              "      <th>total day minutes</th>\n",
              "      <th>total day calls</th>\n",
              "      <th>total day charge</th>\n",
              "      <th>total eve minutes</th>\n",
              "      <th>total eve calls</th>\n",
              "      <th>total eve charge</th>\n",
              "      <th>total night minutes</th>\n",
              "      <th>total night calls</th>\n",
              "      <th>total night charge</th>\n",
              "      <th>total intl minutes</th>\n",
              "      <th>total intl calls</th>\n",
              "      <th>total intl charge</th>\n",
              "      <th>customer service calls</th>\n",
              "      <th>churn</th>\n",
              "    </tr>\n",
              "  </thead>\n",
              "  <tbody>\n",
              "    <tr>\n",
              "      <th>0</th>\n",
              "      <td>KS</td>\n",
              "      <td>128</td>\n",
              "      <td>415</td>\n",
              "      <td>382-4657</td>\n",
              "      <td>no</td>\n",
              "      <td>yes</td>\n",
              "      <td>25</td>\n",
              "      <td>265.1</td>\n",
              "      <td>110</td>\n",
              "      <td>45.07</td>\n",
              "      <td>197.4</td>\n",
              "      <td>99</td>\n",
              "      <td>16.78</td>\n",
              "      <td>244.7</td>\n",
              "      <td>91</td>\n",
              "      <td>11.01</td>\n",
              "      <td>10.0</td>\n",
              "      <td>3</td>\n",
              "      <td>2.70</td>\n",
              "      <td>1</td>\n",
              "      <td>False</td>\n",
              "    </tr>\n",
              "    <tr>\n",
              "      <th>1</th>\n",
              "      <td>OH</td>\n",
              "      <td>107</td>\n",
              "      <td>415</td>\n",
              "      <td>371-7191</td>\n",
              "      <td>no</td>\n",
              "      <td>yes</td>\n",
              "      <td>26</td>\n",
              "      <td>161.6</td>\n",
              "      <td>123</td>\n",
              "      <td>27.47</td>\n",
              "      <td>195.5</td>\n",
              "      <td>103</td>\n",
              "      <td>16.62</td>\n",
              "      <td>254.4</td>\n",
              "      <td>103</td>\n",
              "      <td>11.45</td>\n",
              "      <td>13.7</td>\n",
              "      <td>3</td>\n",
              "      <td>3.70</td>\n",
              "      <td>1</td>\n",
              "      <td>False</td>\n",
              "    </tr>\n",
              "    <tr>\n",
              "      <th>2</th>\n",
              "      <td>NJ</td>\n",
              "      <td>137</td>\n",
              "      <td>415</td>\n",
              "      <td>358-1921</td>\n",
              "      <td>no</td>\n",
              "      <td>no</td>\n",
              "      <td>0</td>\n",
              "      <td>243.4</td>\n",
              "      <td>114</td>\n",
              "      <td>41.38</td>\n",
              "      <td>121.2</td>\n",
              "      <td>110</td>\n",
              "      <td>10.30</td>\n",
              "      <td>162.6</td>\n",
              "      <td>104</td>\n",
              "      <td>7.32</td>\n",
              "      <td>12.2</td>\n",
              "      <td>5</td>\n",
              "      <td>3.29</td>\n",
              "      <td>0</td>\n",
              "      <td>False</td>\n",
              "    </tr>\n",
              "    <tr>\n",
              "      <th>3</th>\n",
              "      <td>OH</td>\n",
              "      <td>84</td>\n",
              "      <td>408</td>\n",
              "      <td>375-9999</td>\n",
              "      <td>yes</td>\n",
              "      <td>no</td>\n",
              "      <td>0</td>\n",
              "      <td>299.4</td>\n",
              "      <td>71</td>\n",
              "      <td>50.90</td>\n",
              "      <td>61.9</td>\n",
              "      <td>88</td>\n",
              "      <td>5.26</td>\n",
              "      <td>196.9</td>\n",
              "      <td>89</td>\n",
              "      <td>8.86</td>\n",
              "      <td>6.6</td>\n",
              "      <td>7</td>\n",
              "      <td>1.78</td>\n",
              "      <td>2</td>\n",
              "      <td>False</td>\n",
              "    </tr>\n",
              "    <tr>\n",
              "      <th>4</th>\n",
              "      <td>OK</td>\n",
              "      <td>75</td>\n",
              "      <td>415</td>\n",
              "      <td>330-6626</td>\n",
              "      <td>yes</td>\n",
              "      <td>no</td>\n",
              "      <td>0</td>\n",
              "      <td>166.7</td>\n",
              "      <td>113</td>\n",
              "      <td>28.34</td>\n",
              "      <td>148.3</td>\n",
              "      <td>122</td>\n",
              "      <td>12.61</td>\n",
              "      <td>186.9</td>\n",
              "      <td>121</td>\n",
              "      <td>8.41</td>\n",
              "      <td>10.1</td>\n",
              "      <td>3</td>\n",
              "      <td>2.73</td>\n",
              "      <td>3</td>\n",
              "      <td>False</td>\n",
              "    </tr>\n",
              "  </tbody>\n",
              "</table>\n",
              "</div>"
            ],
            "text/plain": [
              "  state  account length  ...  customer service calls  churn\n",
              "0    KS             128  ...                       1  False\n",
              "1    OH             107  ...                       1  False\n",
              "2    NJ             137  ...                       0  False\n",
              "3    OH              84  ...                       2  False\n",
              "4    OK              75  ...                       3  False\n",
              "\n",
              "[5 rows x 21 columns]"
            ]
          },
          "metadata": {
            "tags": []
          },
          "execution_count": 4
        }
      ]
    },
    {
      "cell_type": "markdown",
      "metadata": {
        "id": "WwR8Kt8zMpdy",
        "colab_type": "text"
      },
      "source": [
        "В случае, если вы работаете из среды анаконда - вам необходимо положить файл рядом с ноутбуком и выполнить:\n",
        "\n",
        "```\n",
        "df = pd.read_csv('./telecom_churn.csv')\n",
        "```\n",
        "\n",
        " "
      ]
    },
    {
      "cell_type": "markdown",
      "metadata": {
        "id": "OoLBh9biNFX3",
        "colab_type": "text"
      },
      "source": [
        "## Работа с признаками"
      ]
    },
    {
      "cell_type": "markdown",
      "metadata": {
        "id": "KsnMxQ_JVfKi",
        "colab_type": "text"
      },
      "source": [
        "#### Визуальный анализ"
      ]
    },
    {
      "cell_type": "markdown",
      "metadata": {
        "id": "fJWb61hmNNm8",
        "colab_type": "text"
      },
      "source": [
        "Изучим наши данные, какие признаки исходного датасета никак не повлияют на результат прогноза? Выбросим такие столбцы и отобразим результат."
      ]
    },
    {
      "cell_type": "code",
      "metadata": {
        "id": "ejcapc6EMCD-",
        "colab_type": "code",
        "outputId": "6c9d73a4-1765-415d-9496-14c8d97db36e",
        "colab": {
          "base_uri": "https://localhost:8080/",
          "height": 257
        }
      },
      "source": [
        "df = df.drop(['phone number'],axis=1)\n",
        "df.head()"
      ],
      "execution_count": 0,
      "outputs": [
        {
          "output_type": "execute_result",
          "data": {
            "text/html": [
              "<div>\n",
              "<style scoped>\n",
              "    .dataframe tbody tr th:only-of-type {\n",
              "        vertical-align: middle;\n",
              "    }\n",
              "\n",
              "    .dataframe tbody tr th {\n",
              "        vertical-align: top;\n",
              "    }\n",
              "\n",
              "    .dataframe thead th {\n",
              "        text-align: right;\n",
              "    }\n",
              "</style>\n",
              "<table border=\"1\" class=\"dataframe\">\n",
              "  <thead>\n",
              "    <tr style=\"text-align: right;\">\n",
              "      <th></th>\n",
              "      <th>state</th>\n",
              "      <th>account length</th>\n",
              "      <th>area code</th>\n",
              "      <th>international plan</th>\n",
              "      <th>voice mail plan</th>\n",
              "      <th>number vmail messages</th>\n",
              "      <th>total day minutes</th>\n",
              "      <th>total day calls</th>\n",
              "      <th>total day charge</th>\n",
              "      <th>total eve minutes</th>\n",
              "      <th>total eve calls</th>\n",
              "      <th>total eve charge</th>\n",
              "      <th>total night minutes</th>\n",
              "      <th>total night calls</th>\n",
              "      <th>total night charge</th>\n",
              "      <th>total intl minutes</th>\n",
              "      <th>total intl calls</th>\n",
              "      <th>total intl charge</th>\n",
              "      <th>customer service calls</th>\n",
              "      <th>churn</th>\n",
              "    </tr>\n",
              "  </thead>\n",
              "  <tbody>\n",
              "    <tr>\n",
              "      <th>0</th>\n",
              "      <td>KS</td>\n",
              "      <td>128</td>\n",
              "      <td>415</td>\n",
              "      <td>no</td>\n",
              "      <td>yes</td>\n",
              "      <td>25</td>\n",
              "      <td>265.1</td>\n",
              "      <td>110</td>\n",
              "      <td>45.07</td>\n",
              "      <td>197.4</td>\n",
              "      <td>99</td>\n",
              "      <td>16.78</td>\n",
              "      <td>244.7</td>\n",
              "      <td>91</td>\n",
              "      <td>11.01</td>\n",
              "      <td>10.0</td>\n",
              "      <td>3</td>\n",
              "      <td>2.70</td>\n",
              "      <td>1</td>\n",
              "      <td>False</td>\n",
              "    </tr>\n",
              "    <tr>\n",
              "      <th>1</th>\n",
              "      <td>OH</td>\n",
              "      <td>107</td>\n",
              "      <td>415</td>\n",
              "      <td>no</td>\n",
              "      <td>yes</td>\n",
              "      <td>26</td>\n",
              "      <td>161.6</td>\n",
              "      <td>123</td>\n",
              "      <td>27.47</td>\n",
              "      <td>195.5</td>\n",
              "      <td>103</td>\n",
              "      <td>16.62</td>\n",
              "      <td>254.4</td>\n",
              "      <td>103</td>\n",
              "      <td>11.45</td>\n",
              "      <td>13.7</td>\n",
              "      <td>3</td>\n",
              "      <td>3.70</td>\n",
              "      <td>1</td>\n",
              "      <td>False</td>\n",
              "    </tr>\n",
              "    <tr>\n",
              "      <th>2</th>\n",
              "      <td>NJ</td>\n",
              "      <td>137</td>\n",
              "      <td>415</td>\n",
              "      <td>no</td>\n",
              "      <td>no</td>\n",
              "      <td>0</td>\n",
              "      <td>243.4</td>\n",
              "      <td>114</td>\n",
              "      <td>41.38</td>\n",
              "      <td>121.2</td>\n",
              "      <td>110</td>\n",
              "      <td>10.30</td>\n",
              "      <td>162.6</td>\n",
              "      <td>104</td>\n",
              "      <td>7.32</td>\n",
              "      <td>12.2</td>\n",
              "      <td>5</td>\n",
              "      <td>3.29</td>\n",
              "      <td>0</td>\n",
              "      <td>False</td>\n",
              "    </tr>\n",
              "    <tr>\n",
              "      <th>3</th>\n",
              "      <td>OH</td>\n",
              "      <td>84</td>\n",
              "      <td>408</td>\n",
              "      <td>yes</td>\n",
              "      <td>no</td>\n",
              "      <td>0</td>\n",
              "      <td>299.4</td>\n",
              "      <td>71</td>\n",
              "      <td>50.90</td>\n",
              "      <td>61.9</td>\n",
              "      <td>88</td>\n",
              "      <td>5.26</td>\n",
              "      <td>196.9</td>\n",
              "      <td>89</td>\n",
              "      <td>8.86</td>\n",
              "      <td>6.6</td>\n",
              "      <td>7</td>\n",
              "      <td>1.78</td>\n",
              "      <td>2</td>\n",
              "      <td>False</td>\n",
              "    </tr>\n",
              "    <tr>\n",
              "      <th>4</th>\n",
              "      <td>OK</td>\n",
              "      <td>75</td>\n",
              "      <td>415</td>\n",
              "      <td>yes</td>\n",
              "      <td>no</td>\n",
              "      <td>0</td>\n",
              "      <td>166.7</td>\n",
              "      <td>113</td>\n",
              "      <td>28.34</td>\n",
              "      <td>148.3</td>\n",
              "      <td>122</td>\n",
              "      <td>12.61</td>\n",
              "      <td>186.9</td>\n",
              "      <td>121</td>\n",
              "      <td>8.41</td>\n",
              "      <td>10.1</td>\n",
              "      <td>3</td>\n",
              "      <td>2.73</td>\n",
              "      <td>3</td>\n",
              "      <td>False</td>\n",
              "    </tr>\n",
              "  </tbody>\n",
              "</table>\n",
              "</div>"
            ],
            "text/plain": [
              "  state  account length  ...  customer service calls  churn\n",
              "0    KS             128  ...                       1  False\n",
              "1    OH             107  ...                       1  False\n",
              "2    NJ             137  ...                       0  False\n",
              "3    OH              84  ...                       2  False\n",
              "4    OK              75  ...                       3  False\n",
              "\n",
              "[5 rows x 20 columns]"
            ]
          },
          "metadata": {
            "tags": []
          },
          "execution_count": 5
        }
      ]
    },
    {
      "cell_type": "markdown",
      "metadata": {
        "id": "j4HurSGIOwnC",
        "colab_type": "text"
      },
      "source": [
        "Посмотрим на описательную статистику, которая суммирует центральную тенденцию, дисперсию и форму распределения набора данных. Корректно ли все заполнено?"
      ]
    },
    {
      "cell_type": "code",
      "metadata": {
        "id": "fJ_tT6qrNnzX",
        "colab_type": "code",
        "outputId": "3b3f7c58-f814-457d-bcfb-6f7c41398311",
        "colab": {
          "base_uri": "https://localhost:8080/",
          "height": 349
        }
      },
      "source": [
        "df.describe()"
      ],
      "execution_count": 0,
      "outputs": [
        {
          "output_type": "execute_result",
          "data": {
            "text/html": [
              "<div>\n",
              "<style scoped>\n",
              "    .dataframe tbody tr th:only-of-type {\n",
              "        vertical-align: middle;\n",
              "    }\n",
              "\n",
              "    .dataframe tbody tr th {\n",
              "        vertical-align: top;\n",
              "    }\n",
              "\n",
              "    .dataframe thead th {\n",
              "        text-align: right;\n",
              "    }\n",
              "</style>\n",
              "<table border=\"1\" class=\"dataframe\">\n",
              "  <thead>\n",
              "    <tr style=\"text-align: right;\">\n",
              "      <th></th>\n",
              "      <th>account length</th>\n",
              "      <th>area code</th>\n",
              "      <th>number vmail messages</th>\n",
              "      <th>total day minutes</th>\n",
              "      <th>total day calls</th>\n",
              "      <th>total day charge</th>\n",
              "      <th>total eve minutes</th>\n",
              "      <th>total eve calls</th>\n",
              "      <th>total eve charge</th>\n",
              "      <th>total night minutes</th>\n",
              "      <th>total night calls</th>\n",
              "      <th>total night charge</th>\n",
              "      <th>total intl minutes</th>\n",
              "      <th>total intl calls</th>\n",
              "      <th>total intl charge</th>\n",
              "      <th>customer service calls</th>\n",
              "    </tr>\n",
              "  </thead>\n",
              "  <tbody>\n",
              "    <tr>\n",
              "      <th>count</th>\n",
              "      <td>3333.000000</td>\n",
              "      <td>3333.000000</td>\n",
              "      <td>3333.000000</td>\n",
              "      <td>3333.000000</td>\n",
              "      <td>3333.000000</td>\n",
              "      <td>3333.000000</td>\n",
              "      <td>3333.000000</td>\n",
              "      <td>3333.000000</td>\n",
              "      <td>3333.000000</td>\n",
              "      <td>3333.000000</td>\n",
              "      <td>3333.000000</td>\n",
              "      <td>3333.000000</td>\n",
              "      <td>3333.000000</td>\n",
              "      <td>3333.000000</td>\n",
              "      <td>3333.000000</td>\n",
              "      <td>3333.000000</td>\n",
              "    </tr>\n",
              "    <tr>\n",
              "      <th>mean</th>\n",
              "      <td>101.064806</td>\n",
              "      <td>437.182418</td>\n",
              "      <td>8.099010</td>\n",
              "      <td>179.775098</td>\n",
              "      <td>100.435644</td>\n",
              "      <td>30.562307</td>\n",
              "      <td>200.980348</td>\n",
              "      <td>100.114311</td>\n",
              "      <td>17.083540</td>\n",
              "      <td>200.872037</td>\n",
              "      <td>100.107711</td>\n",
              "      <td>9.039325</td>\n",
              "      <td>10.237294</td>\n",
              "      <td>4.479448</td>\n",
              "      <td>2.764581</td>\n",
              "      <td>1.562856</td>\n",
              "    </tr>\n",
              "    <tr>\n",
              "      <th>std</th>\n",
              "      <td>39.822106</td>\n",
              "      <td>42.371290</td>\n",
              "      <td>13.688365</td>\n",
              "      <td>54.467389</td>\n",
              "      <td>20.069084</td>\n",
              "      <td>9.259435</td>\n",
              "      <td>50.713844</td>\n",
              "      <td>19.922625</td>\n",
              "      <td>4.310668</td>\n",
              "      <td>50.573847</td>\n",
              "      <td>19.568609</td>\n",
              "      <td>2.275873</td>\n",
              "      <td>2.791840</td>\n",
              "      <td>2.461214</td>\n",
              "      <td>0.753773</td>\n",
              "      <td>1.315491</td>\n",
              "    </tr>\n",
              "    <tr>\n",
              "      <th>min</th>\n",
              "      <td>1.000000</td>\n",
              "      <td>408.000000</td>\n",
              "      <td>0.000000</td>\n",
              "      <td>0.000000</td>\n",
              "      <td>0.000000</td>\n",
              "      <td>0.000000</td>\n",
              "      <td>0.000000</td>\n",
              "      <td>0.000000</td>\n",
              "      <td>0.000000</td>\n",
              "      <td>23.200000</td>\n",
              "      <td>33.000000</td>\n",
              "      <td>1.040000</td>\n",
              "      <td>0.000000</td>\n",
              "      <td>0.000000</td>\n",
              "      <td>0.000000</td>\n",
              "      <td>0.000000</td>\n",
              "    </tr>\n",
              "    <tr>\n",
              "      <th>25%</th>\n",
              "      <td>74.000000</td>\n",
              "      <td>408.000000</td>\n",
              "      <td>0.000000</td>\n",
              "      <td>143.700000</td>\n",
              "      <td>87.000000</td>\n",
              "      <td>24.430000</td>\n",
              "      <td>166.600000</td>\n",
              "      <td>87.000000</td>\n",
              "      <td>14.160000</td>\n",
              "      <td>167.000000</td>\n",
              "      <td>87.000000</td>\n",
              "      <td>7.520000</td>\n",
              "      <td>8.500000</td>\n",
              "      <td>3.000000</td>\n",
              "      <td>2.300000</td>\n",
              "      <td>1.000000</td>\n",
              "    </tr>\n",
              "    <tr>\n",
              "      <th>50%</th>\n",
              "      <td>101.000000</td>\n",
              "      <td>415.000000</td>\n",
              "      <td>0.000000</td>\n",
              "      <td>179.400000</td>\n",
              "      <td>101.000000</td>\n",
              "      <td>30.500000</td>\n",
              "      <td>201.400000</td>\n",
              "      <td>100.000000</td>\n",
              "      <td>17.120000</td>\n",
              "      <td>201.200000</td>\n",
              "      <td>100.000000</td>\n",
              "      <td>9.050000</td>\n",
              "      <td>10.300000</td>\n",
              "      <td>4.000000</td>\n",
              "      <td>2.780000</td>\n",
              "      <td>1.000000</td>\n",
              "    </tr>\n",
              "    <tr>\n",
              "      <th>75%</th>\n",
              "      <td>127.000000</td>\n",
              "      <td>510.000000</td>\n",
              "      <td>20.000000</td>\n",
              "      <td>216.400000</td>\n",
              "      <td>114.000000</td>\n",
              "      <td>36.790000</td>\n",
              "      <td>235.300000</td>\n",
              "      <td>114.000000</td>\n",
              "      <td>20.000000</td>\n",
              "      <td>235.300000</td>\n",
              "      <td>113.000000</td>\n",
              "      <td>10.590000</td>\n",
              "      <td>12.100000</td>\n",
              "      <td>6.000000</td>\n",
              "      <td>3.270000</td>\n",
              "      <td>2.000000</td>\n",
              "    </tr>\n",
              "    <tr>\n",
              "      <th>max</th>\n",
              "      <td>243.000000</td>\n",
              "      <td>510.000000</td>\n",
              "      <td>51.000000</td>\n",
              "      <td>350.800000</td>\n",
              "      <td>165.000000</td>\n",
              "      <td>59.640000</td>\n",
              "      <td>363.700000</td>\n",
              "      <td>170.000000</td>\n",
              "      <td>30.910000</td>\n",
              "      <td>395.000000</td>\n",
              "      <td>175.000000</td>\n",
              "      <td>17.770000</td>\n",
              "      <td>20.000000</td>\n",
              "      <td>20.000000</td>\n",
              "      <td>5.400000</td>\n",
              "      <td>9.000000</td>\n",
              "    </tr>\n",
              "  </tbody>\n",
              "</table>\n",
              "</div>"
            ],
            "text/plain": [
              "       account length    area code  ...  total intl charge  customer service calls\n",
              "count     3333.000000  3333.000000  ...        3333.000000             3333.000000\n",
              "mean       101.064806   437.182418  ...           2.764581                1.562856\n",
              "std         39.822106    42.371290  ...           0.753773                1.315491\n",
              "min          1.000000   408.000000  ...           0.000000                0.000000\n",
              "25%         74.000000   408.000000  ...           2.300000                1.000000\n",
              "50%        101.000000   415.000000  ...           2.780000                1.000000\n",
              "75%        127.000000   510.000000  ...           3.270000                2.000000\n",
              "max        243.000000   510.000000  ...           5.400000                9.000000\n",
              "\n",
              "[8 rows x 16 columns]"
            ]
          },
          "metadata": {
            "tags": []
          },
          "execution_count": 6
        }
      ]
    },
    {
      "cell_type": "markdown",
      "metadata": {
        "id": "T_ehN03yPA2I",
        "colab_type": "text"
      },
      "source": [
        "Посмотрим на типы данных наших столбцов:"
      ]
    },
    {
      "cell_type": "code",
      "metadata": {
        "id": "eMDxN9dcOu1R",
        "colab_type": "code",
        "outputId": "5eb0b980-95b5-4572-af99-0a4ab9883cc9",
        "colab": {
          "base_uri": "https://localhost:8080/",
          "height": 381
        }
      },
      "source": [
        "df.dtypes"
      ],
      "execution_count": 0,
      "outputs": [
        {
          "output_type": "execute_result",
          "data": {
            "text/plain": [
              "state                      object\n",
              "account length              int64\n",
              "area code                   int64\n",
              "international plan         object\n",
              "voice mail plan            object\n",
              "number vmail messages       int64\n",
              "total day minutes         float64\n",
              "total day calls             int64\n",
              "total day charge          float64\n",
              "total eve minutes         float64\n",
              "total eve calls             int64\n",
              "total eve charge          float64\n",
              "total night minutes       float64\n",
              "total night calls           int64\n",
              "total night charge        float64\n",
              "total intl minutes        float64\n",
              "total intl calls            int64\n",
              "total intl charge         float64\n",
              "customer service calls      int64\n",
              "churn                        bool\n",
              "dtype: object"
            ]
          },
          "metadata": {
            "tags": []
          },
          "execution_count": 7
        }
      ]
    },
    {
      "cell_type": "markdown",
      "metadata": {
        "id": "kR0_MssXPPz2",
        "colab_type": "text"
      },
      "source": [
        "Посмотрим как сбалансированны наши классы, можно распечатать или отобразить на грфике. Если не помните почему надо балансировать классы - [тык](https://www.coursera.org/lecture/supervised-learning/niesbalansirovannyie-dannyie-M97UX)\n",
        "\n",
        "Можно увидеть, что данные несбалансированны.\n"
      ]
    },
    {
      "cell_type": "code",
      "metadata": {
        "id": "udw2u9M0PlhQ",
        "colab_type": "code",
        "outputId": "70f829ad-8b4d-4322-86b9-03f81807c4b3",
        "colab": {
          "base_uri": "https://localhost:8080/",
          "height": 335
        }
      },
      "source": [
        "print(df[\"churn\"].value_counts())\n",
        "sns.barplot(df[\"churn\"].value_counts().index, df[\"churn\"].value_counts().values)\n",
        "print('Процент данных показывающих целевую группу \"отток\"', round(df[\"churn\"][df[\"churn\"] == True].shape[0]/len(df), 2))"
      ],
      "execution_count": 0,
      "outputs": [
        {
          "output_type": "stream",
          "text": [
            "False    2850\n",
            "True      483\n",
            "Name: churn, dtype: int64\n",
            "Процент данных показывающих целевую группу \"отток\" 0.14\n"
          ],
          "name": "stdout"
        },
        {
          "output_type": "display_data",
          "data": {
            "image/png": "[encoded data removed]",
            "text/plain": [
              "<Figure size 432x288 with 1 Axes>"
            ]
          },
          "metadata": {
            "tags": []
          }
        }
      ]
    },
    {
      "cell_type": "markdown",
      "metadata": {
        "id": "4Id4rTSKVk5S",
        "colab_type": "text"
      },
      "source": [
        "#### Работа с категориальными признаками"
      ]
    },
    {
      "cell_type": "markdown",
      "metadata": {
        "id": "4ZCHmMXqQQ12",
        "colab_type": "text"
      },
      "source": [
        "Если вы не понимаете логику за работой с котегориальными признаками - посмотрите [сюда](https://www.coursera.org/lecture/supervised-learning/rabota-s-katieghorial-nymi-priznakami-pqU2j), если же не знаете как это сделать в коде - [сюда](https://colab.research.google.com/drive/17UJ3zkE6dUL5UpQnLiaQp3f7BpV6iEss#scrollTo=_238K7-NQajf), пункт про категориальные признаки.\n",
        "\n",
        "Посмотрим на те колонки, в которых тип данных object (строка) и перекодируем их, воспользуемся кодом с занятия."
      ]
    },
    {
      "cell_type": "code",
      "metadata": {
        "id": "likInih_Pljn",
        "colab_type": "code",
        "outputId": "354e4820-05b2-4c20-a3ac-6336a36e8362",
        "colab": {
          "base_uri": "https://localhost:8080/",
          "height": 257
        }
      },
      "source": [
        "# Подключаем класс для предобработки данных\n",
        "from sklearn import preprocessing\n",
        "\n",
        "# Напишем функцию, которая принимает на вход DataFrame, кодирует числовыми значениями категориальные признаки\n",
        "# и возвращает обновленный DataFrame и сами кодировщики.\n",
        "def number_encode_features(init_df):\n",
        "    result = init_df.copy() # копируем нашу исходную таблицу\n",
        "    encoders = {}\n",
        "    for column in result.columns:\n",
        "        if result.dtypes[column] == np.object: # np.object -- строковый тип / если тип столбца - строка, то нужно его закодировать\n",
        "            encoders[column] = preprocessing.LabelEncoder() # для колонки column создаем кодировщик\n",
        "            result[column] = encoders[column].fit_transform(result[column]) # применяем кодировщик к столбцу и перезаписываем столбец\n",
        "    return result, encoders\n",
        "\n",
        "encoded_data, encoders = number_encode_features(df) # Теперь encoded data содержит закодированные кат. признаки \n",
        "encoded_data.head() "
      ],
      "execution_count": 0,
      "outputs": [
        {
          "output_type": "execute_result",
          "data": {
            "text/html": [
              "<div>\n",
              "<style scoped>\n",
              "    .dataframe tbody tr th:only-of-type {\n",
              "        vertical-align: middle;\n",
              "    }\n",
              "\n",
              "    .dataframe tbody tr th {\n",
              "        vertical-align: top;\n",
              "    }\n",
              "\n",
              "    .dataframe thead th {\n",
              "        text-align: right;\n",
              "    }\n",
              "</style>\n",
              "<table border=\"1\" class=\"dataframe\">\n",
              "  <thead>\n",
              "    <tr style=\"text-align: right;\">\n",
              "      <th></th>\n",
              "      <th>state</th>\n",
              "      <th>account length</th>\n",
              "      <th>area code</th>\n",
              "      <th>international plan</th>\n",
              "      <th>voice mail plan</th>\n",
              "      <th>number vmail messages</th>\n",
              "      <th>total day minutes</th>\n",
              "      <th>total day calls</th>\n",
              "      <th>total day charge</th>\n",
              "      <th>total eve minutes</th>\n",
              "      <th>total eve calls</th>\n",
              "      <th>total eve charge</th>\n",
              "      <th>total night minutes</th>\n",
              "      <th>total night calls</th>\n",
              "      <th>total night charge</th>\n",
              "      <th>total intl minutes</th>\n",
              "      <th>total intl calls</th>\n",
              "      <th>total intl charge</th>\n",
              "      <th>customer service calls</th>\n",
              "      <th>churn</th>\n",
              "    </tr>\n",
              "  </thead>\n",
              "  <tbody>\n",
              "    <tr>\n",
              "      <th>0</th>\n",
              "      <td>16</td>\n",
              "      <td>128</td>\n",
              "      <td>415</td>\n",
              "      <td>0</td>\n",
              "      <td>1</td>\n",
              "      <td>25</td>\n",
              "      <td>265.1</td>\n",
              "      <td>110</td>\n",
              "      <td>45.07</td>\n",
              "      <td>197.4</td>\n",
              "      <td>99</td>\n",
              "      <td>16.78</td>\n",
              "      <td>244.7</td>\n",
              "      <td>91</td>\n",
              "      <td>11.01</td>\n",
              "      <td>10.0</td>\n",
              "      <td>3</td>\n",
              "      <td>2.70</td>\n",
              "      <td>1</td>\n",
              "      <td>False</td>\n",
              "    </tr>\n",
              "    <tr>\n",
              "      <th>1</th>\n",
              "      <td>35</td>\n",
              "      <td>107</td>\n",
              "      <td>415</td>\n",
              "      <td>0</td>\n",
              "      <td>1</td>\n",
              "      <td>26</td>\n",
              "      <td>161.6</td>\n",
              "      <td>123</td>\n",
              "      <td>27.47</td>\n",
              "      <td>195.5</td>\n",
              "      <td>103</td>\n",
              "      <td>16.62</td>\n",
              "      <td>254.4</td>\n",
              "      <td>103</td>\n",
              "      <td>11.45</td>\n",
              "      <td>13.7</td>\n",
              "      <td>3</td>\n",
              "      <td>3.70</td>\n",
              "      <td>1</td>\n",
              "      <td>False</td>\n",
              "    </tr>\n",
              "    <tr>\n",
              "      <th>2</th>\n",
              "      <td>31</td>\n",
              "      <td>137</td>\n",
              "      <td>415</td>\n",
              "      <td>0</td>\n",
              "      <td>0</td>\n",
              "      <td>0</td>\n",
              "      <td>243.4</td>\n",
              "      <td>114</td>\n",
              "      <td>41.38</td>\n",
              "      <td>121.2</td>\n",
              "      <td>110</td>\n",
              "      <td>10.30</td>\n",
              "      <td>162.6</td>\n",
              "      <td>104</td>\n",
              "      <td>7.32</td>\n",
              "      <td>12.2</td>\n",
              "      <td>5</td>\n",
              "      <td>3.29</td>\n",
              "      <td>0</td>\n",
              "      <td>False</td>\n",
              "    </tr>\n",
              "    <tr>\n",
              "      <th>3</th>\n",
              "      <td>35</td>\n",
              "      <td>84</td>\n",
              "      <td>408</td>\n",
              "      <td>1</td>\n",
              "      <td>0</td>\n",
              "      <td>0</td>\n",
              "      <td>299.4</td>\n",
              "      <td>71</td>\n",
              "      <td>50.90</td>\n",
              "      <td>61.9</td>\n",
              "      <td>88</td>\n",
              "      <td>5.26</td>\n",
              "      <td>196.9</td>\n",
              "      <td>89</td>\n",
              "      <td>8.86</td>\n",
              "      <td>6.6</td>\n",
              "      <td>7</td>\n",
              "      <td>1.78</td>\n",
              "      <td>2</td>\n",
              "      <td>False</td>\n",
              "    </tr>\n",
              "    <tr>\n",
              "      <th>4</th>\n",
              "      <td>36</td>\n",
              "      <td>75</td>\n",
              "      <td>415</td>\n",
              "      <td>1</td>\n",
              "      <td>0</td>\n",
              "      <td>0</td>\n",
              "      <td>166.7</td>\n",
              "      <td>113</td>\n",
              "      <td>28.34</td>\n",
              "      <td>148.3</td>\n",
              "      <td>122</td>\n",
              "      <td>12.61</td>\n",
              "      <td>186.9</td>\n",
              "      <td>121</td>\n",
              "      <td>8.41</td>\n",
              "      <td>10.1</td>\n",
              "      <td>3</td>\n",
              "      <td>2.73</td>\n",
              "      <td>3</td>\n",
              "      <td>False</td>\n",
              "    </tr>\n",
              "  </tbody>\n",
              "</table>\n",
              "</div>"
            ],
            "text/plain": [
              "   state  account length  ...  customer service calls  churn\n",
              "0     16             128  ...                       1  False\n",
              "1     35             107  ...                       1  False\n",
              "2     31             137  ...                       0  False\n",
              "3     35              84  ...                       2  False\n",
              "4     36              75  ...                       3  False\n",
              "\n",
              "[5 rows x 20 columns]"
            ]
          },
          "metadata": {
            "tags": []
          },
          "execution_count": 9
        }
      ]
    },
    {
      "cell_type": "markdown",
      "metadata": {
        "id": "y9Z644nIVR8j",
        "colab_type": "text"
      },
      "source": [
        "Отобразим сами энкодеры"
      ]
    },
    {
      "cell_type": "code",
      "metadata": {
        "id": "DyAu4xKAVWk5",
        "colab_type": "code",
        "outputId": "4f599334-718d-47e5-a9e1-bbfa3efc505e",
        "colab": {
          "base_uri": "https://localhost:8080/",
          "height": 69
        }
      },
      "source": [
        "encoders"
      ],
      "execution_count": 0,
      "outputs": [
        {
          "output_type": "execute_result",
          "data": {
            "text/plain": [
              "{'international plan': LabelEncoder(),\n",
              " 'state': LabelEncoder(),\n",
              " 'voice mail plan': LabelEncoder()}"
            ]
          },
          "metadata": {
            "tags": []
          },
          "execution_count": 10
        }
      ]
    },
    {
      "cell_type": "markdown",
      "metadata": {
        "id": "kCwHJLj3V28A",
        "colab_type": "text"
      },
      "source": [
        "Выделим целевую переменную в бинарный формат и выкенем ее из обучающей выборки."
      ]
    },
    {
      "cell_type": "code",
      "metadata": {
        "id": "CruJ9-HSV1c5",
        "colab_type": "code",
        "outputId": "6d8d0189-8efe-435d-f6d7-d0804a52aecf",
        "colab": {
          "base_uri": "https://localhost:8080/",
          "height": 309
        }
      },
      "source": [
        "y = encoded_data['churn'].map({True: 1, False: 0}).values\n",
        "encoded_data.drop(['churn'], axis = 1, inplace=True)\n",
        "print('Ответы\\n',y)\n",
        "print('Обучающая выборка')\n",
        "encoded_data.head()"
      ],
      "execution_count": 0,
      "outputs": [
        {
          "output_type": "stream",
          "text": [
            "Ответы\n",
            " [0 0 0 ... 0 0 0]\n",
            "Обучающая выборка\n"
          ],
          "name": "stdout"
        },
        {
          "output_type": "execute_result",
          "data": {
            "text/html": [
              "<div>\n",
              "<style scoped>\n",
              "    .dataframe tbody tr th:only-of-type {\n",
              "        vertical-align: middle;\n",
              "    }\n",
              "\n",
              "    .dataframe tbody tr th {\n",
              "        vertical-align: top;\n",
              "    }\n",
              "\n",
              "    .dataframe thead th {\n",
              "        text-align: right;\n",
              "    }\n",
              "</style>\n",
              "<table border=\"1\" class=\"dataframe\">\n",
              "  <thead>\n",
              "    <tr style=\"text-align: right;\">\n",
              "      <th></th>\n",
              "      <th>state</th>\n",
              "      <th>account length</th>\n",
              "      <th>area code</th>\n",
              "      <th>international plan</th>\n",
              "      <th>voice mail plan</th>\n",
              "      <th>number vmail messages</th>\n",
              "      <th>total day minutes</th>\n",
              "      <th>total day calls</th>\n",
              "      <th>total day charge</th>\n",
              "      <th>total eve minutes</th>\n",
              "      <th>total eve calls</th>\n",
              "      <th>total eve charge</th>\n",
              "      <th>total night minutes</th>\n",
              "      <th>total night calls</th>\n",
              "      <th>total night charge</th>\n",
              "      <th>total intl minutes</th>\n",
              "      <th>total intl calls</th>\n",
              "      <th>total intl charge</th>\n",
              "      <th>customer service calls</th>\n",
              "    </tr>\n",
              "  </thead>\n",
              "  <tbody>\n",
              "    <tr>\n",
              "      <th>0</th>\n",
              "      <td>16</td>\n",
              "      <td>128</td>\n",
              "      <td>415</td>\n",
              "      <td>0</td>\n",
              "      <td>1</td>\n",
              "      <td>25</td>\n",
              "      <td>265.1</td>\n",
              "      <td>110</td>\n",
              "      <td>45.07</td>\n",
              "      <td>197.4</td>\n",
              "      <td>99</td>\n",
              "      <td>16.78</td>\n",
              "      <td>244.7</td>\n",
              "      <td>91</td>\n",
              "      <td>11.01</td>\n",
              "      <td>10.0</td>\n",
              "      <td>3</td>\n",
              "      <td>2.70</td>\n",
              "      <td>1</td>\n",
              "    </tr>\n",
              "    <tr>\n",
              "      <th>1</th>\n",
              "      <td>35</td>\n",
              "      <td>107</td>\n",
              "      <td>415</td>\n",
              "      <td>0</td>\n",
              "      <td>1</td>\n",
              "      <td>26</td>\n",
              "      <td>161.6</td>\n",
              "      <td>123</td>\n",
              "      <td>27.47</td>\n",
              "      <td>195.5</td>\n",
              "      <td>103</td>\n",
              "      <td>16.62</td>\n",
              "      <td>254.4</td>\n",
              "      <td>103</td>\n",
              "      <td>11.45</td>\n",
              "      <td>13.7</td>\n",
              "      <td>3</td>\n",
              "      <td>3.70</td>\n",
              "      <td>1</td>\n",
              "    </tr>\n",
              "    <tr>\n",
              "      <th>2</th>\n",
              "      <td>31</td>\n",
              "      <td>137</td>\n",
              "      <td>415</td>\n",
              "      <td>0</td>\n",
              "      <td>0</td>\n",
              "      <td>0</td>\n",
              "      <td>243.4</td>\n",
              "      <td>114</td>\n",
              "      <td>41.38</td>\n",
              "      <td>121.2</td>\n",
              "      <td>110</td>\n",
              "      <td>10.30</td>\n",
              "      <td>162.6</td>\n",
              "      <td>104</td>\n",
              "      <td>7.32</td>\n",
              "      <td>12.2</td>\n",
              "      <td>5</td>\n",
              "      <td>3.29</td>\n",
              "      <td>0</td>\n",
              "    </tr>\n",
              "    <tr>\n",
              "      <th>3</th>\n",
              "      <td>35</td>\n",
              "      <td>84</td>\n",
              "      <td>408</td>\n",
              "      <td>1</td>\n",
              "      <td>0</td>\n",
              "      <td>0</td>\n",
              "      <td>299.4</td>\n",
              "      <td>71</td>\n",
              "      <td>50.90</td>\n",
              "      <td>61.9</td>\n",
              "      <td>88</td>\n",
              "      <td>5.26</td>\n",
              "      <td>196.9</td>\n",
              "      <td>89</td>\n",
              "      <td>8.86</td>\n",
              "      <td>6.6</td>\n",
              "      <td>7</td>\n",
              "      <td>1.78</td>\n",
              "      <td>2</td>\n",
              "    </tr>\n",
              "    <tr>\n",
              "      <th>4</th>\n",
              "      <td>36</td>\n",
              "      <td>75</td>\n",
              "      <td>415</td>\n",
              "      <td>1</td>\n",
              "      <td>0</td>\n",
              "      <td>0</td>\n",
              "      <td>166.7</td>\n",
              "      <td>113</td>\n",
              "      <td>28.34</td>\n",
              "      <td>148.3</td>\n",
              "      <td>122</td>\n",
              "      <td>12.61</td>\n",
              "      <td>186.9</td>\n",
              "      <td>121</td>\n",
              "      <td>8.41</td>\n",
              "      <td>10.1</td>\n",
              "      <td>3</td>\n",
              "      <td>2.73</td>\n",
              "      <td>3</td>\n",
              "    </tr>\n",
              "  </tbody>\n",
              "</table>\n",
              "</div>"
            ],
            "text/plain": [
              "   state  account length  ...  total intl charge  customer service calls\n",
              "0     16             128  ...               2.70                       1\n",
              "1     35             107  ...               3.70                       1\n",
              "2     31             137  ...               3.29                       0\n",
              "3     35              84  ...               1.78                       2\n",
              "4     36              75  ...               2.73                       3\n",
              "\n",
              "[5 rows x 19 columns]"
            ]
          },
          "metadata": {
            "tags": []
          },
          "execution_count": 11
        }
      ]
    },
    {
      "cell_type": "markdown",
      "metadata": {
        "id": "RXTrWXnzZBTm",
        "colab_type": "text"
      },
      "source": [
        "Посмотрим на распределение велечин по признакам в наших данных"
      ]
    },
    {
      "cell_type": "code",
      "metadata": {
        "id": "ITo8_PqAPFOf",
        "colab_type": "code",
        "outputId": "1a1568b9-0a69-4c88-f256-aae73dd4c1fa",
        "colab": {
          "base_uri": "https://localhost:8080/",
          "height": 881
        }
      },
      "source": [
        "encoded_data.hist(figsize=(18, 8), layout=(5,4), bins=20)"
      ],
      "execution_count": 0,
      "outputs": [
        {
          "output_type": "execute_result",
          "data": {
            "text/plain": [
              "array([[<matplotlib.axes._subplots.AxesSubplot object at 0x7f690f1bd160>,\n",
              "        <matplotlib.axes._subplots.AxesSubplot object at 0x7f690ea79b70>,\n",
              "        <matplotlib.axes._subplots.AxesSubplot object at 0x7f690ea2bdd8>,\n",
              "        <matplotlib.axes._subplots.AxesSubplot object at 0x7f690e9e83c8>],\n",
              "       [<matplotlib.axes._subplots.AxesSubplot object at 0x7f690e999978>,\n",
              "        <matplotlib.axes._subplots.AxesSubplot object at 0x7f690e949f28>,\n",
              "        <matplotlib.axes._subplots.AxesSubplot object at 0x7f690e908518>,\n",
              "        <matplotlib.axes._subplots.AxesSubplot object at 0x7f690e937b00>],\n",
              "       [<matplotlib.axes._subplots.AxesSubplot object at 0x7f690e937b38>,\n",
              "        <matplotlib.axes._subplots.AxesSubplot object at 0x7f690e8a7668>,\n",
              "        <matplotlib.axes._subplots.AxesSubplot object at 0x7f690e85ac18>,\n",
              "        <matplotlib.axes._subplots.AxesSubplot object at 0x7f690e818208>],\n",
              "       [<matplotlib.axes._subplots.AxesSubplot object at 0x7f690e7c87b8>,\n",
              "        <matplotlib.axes._subplots.AxesSubplot object at 0x7f690e7fad68>,\n",
              "        <matplotlib.axes._subplots.AxesSubplot object at 0x7f690e7b5358>,\n",
              "        <matplotlib.axes._subplots.AxesSubplot object at 0x7f690e766908>],\n",
              "       [<matplotlib.axes._subplots.AxesSubplot object at 0x7f690e71aeb8>,\n",
              "        <matplotlib.axes._subplots.AxesSubplot object at 0x7f690e6d84a8>,\n",
              "        <matplotlib.axes._subplots.AxesSubplot object at 0x7f690e688a58>,\n",
              "        <matplotlib.axes._subplots.AxesSubplot object at 0x7f690e648048>]],\n",
              "      dtype=object)"
            ]
          },
          "metadata": {
            "tags": []
          },
          "execution_count": 13
        },
        {
          "output_type": "display_data",
          "data": {
            "image/png": "[encoded data removed]",
            "text/plain": [
              "<Figure size 1296x576 with 20 Axes>"
            ]
          },
          "metadata": {
            "tags": []
          }
        }
      ]
    },
    {
      "cell_type": "markdown",
      "metadata": {
        "id": "24PuLGTDaAa0",
        "colab_type": "text"
      },
      "source": [
        "Посмтроим матрицу корреляций, выбросим данные с единичной линейной зависимостью - они (шум) просто повысят вычислительную сложность."
      ]
    },
    {
      "cell_type": "code",
      "metadata": {
        "id": "5qP5phgrZ_3L",
        "colab_type": "code",
        "outputId": "faa18e6a-1585-4b17-e069-d0fa6b84427a",
        "colab": {
          "base_uri": "https://localhost:8080/",
          "height": 648
        }
      },
      "source": [
        "plt.subplots(figsize=(10,10))\n",
        "sns.heatmap(encoded_data.corr(), square=True)\n",
        "plt.show()"
      ],
      "execution_count": 0,
      "outputs": [
        {
          "output_type": "display_data",
          "data": {
            "image/png": "[encoded data removed]",
            "text/plain": [
              "<Figure size 720x720 with 2 Axes>"
            ]
          },
          "metadata": {
            "tags": []
          }
        }
      ]
    },
    {
      "cell_type": "code",
      "metadata": {
        "id": "D26zNoYqaadS",
        "colab_type": "code",
        "outputId": "dd18d492-5669-404c-a4c6-9b5f066a6ff2",
        "colab": {
          "base_uri": "https://localhost:8080/",
          "height": 257
        }
      },
      "source": [
        "encoded_data.drop(['total day charge',\n",
        "                   'total eve charge',\n",
        "                   'total night charge',\n",
        "                   'total intl charge'], axis = 1, inplace=True)\n",
        "encoded_data.head()"
      ],
      "execution_count": 0,
      "outputs": [
        {
          "output_type": "execute_result",
          "data": {
            "text/html": [
              "<div>\n",
              "<style scoped>\n",
              "    .dataframe tbody tr th:only-of-type {\n",
              "        vertical-align: middle;\n",
              "    }\n",
              "\n",
              "    .dataframe tbody tr th {\n",
              "        vertical-align: top;\n",
              "    }\n",
              "\n",
              "    .dataframe thead th {\n",
              "        text-align: right;\n",
              "    }\n",
              "</style>\n",
              "<table border=\"1\" class=\"dataframe\">\n",
              "  <thead>\n",
              "    <tr style=\"text-align: right;\">\n",
              "      <th></th>\n",
              "      <th>state</th>\n",
              "      <th>account length</th>\n",
              "      <th>area code</th>\n",
              "      <th>international plan</th>\n",
              "      <th>voice mail plan</th>\n",
              "      <th>number vmail messages</th>\n",
              "      <th>total day minutes</th>\n",
              "      <th>total day calls</th>\n",
              "      <th>total eve minutes</th>\n",
              "      <th>total eve calls</th>\n",
              "      <th>total night minutes</th>\n",
              "      <th>total night calls</th>\n",
              "      <th>total intl minutes</th>\n",
              "      <th>total intl calls</th>\n",
              "      <th>customer service calls</th>\n",
              "    </tr>\n",
              "  </thead>\n",
              "  <tbody>\n",
              "    <tr>\n",
              "      <th>0</th>\n",
              "      <td>16</td>\n",
              "      <td>128</td>\n",
              "      <td>415</td>\n",
              "      <td>0</td>\n",
              "      <td>1</td>\n",
              "      <td>25</td>\n",
              "      <td>265.1</td>\n",
              "      <td>110</td>\n",
              "      <td>197.4</td>\n",
              "      <td>99</td>\n",
              "      <td>244.7</td>\n",
              "      <td>91</td>\n",
              "      <td>10.0</td>\n",
              "      <td>3</td>\n",
              "      <td>1</td>\n",
              "    </tr>\n",
              "    <tr>\n",
              "      <th>1</th>\n",
              "      <td>35</td>\n",
              "      <td>107</td>\n",
              "      <td>415</td>\n",
              "      <td>0</td>\n",
              "      <td>1</td>\n",
              "      <td>26</td>\n",
              "      <td>161.6</td>\n",
              "      <td>123</td>\n",
              "      <td>195.5</td>\n",
              "      <td>103</td>\n",
              "      <td>254.4</td>\n",
              "      <td>103</td>\n",
              "      <td>13.7</td>\n",
              "      <td>3</td>\n",
              "      <td>1</td>\n",
              "    </tr>\n",
              "    <tr>\n",
              "      <th>2</th>\n",
              "      <td>31</td>\n",
              "      <td>137</td>\n",
              "      <td>415</td>\n",
              "      <td>0</td>\n",
              "      <td>0</td>\n",
              "      <td>0</td>\n",
              "      <td>243.4</td>\n",
              "      <td>114</td>\n",
              "      <td>121.2</td>\n",
              "      <td>110</td>\n",
              "      <td>162.6</td>\n",
              "      <td>104</td>\n",
              "      <td>12.2</td>\n",
              "      <td>5</td>\n",
              "      <td>0</td>\n",
              "    </tr>\n",
              "    <tr>\n",
              "      <th>3</th>\n",
              "      <td>35</td>\n",
              "      <td>84</td>\n",
              "      <td>408</td>\n",
              "      <td>1</td>\n",
              "      <td>0</td>\n",
              "      <td>0</td>\n",
              "      <td>299.4</td>\n",
              "      <td>71</td>\n",
              "      <td>61.9</td>\n",
              "      <td>88</td>\n",
              "      <td>196.9</td>\n",
              "      <td>89</td>\n",
              "      <td>6.6</td>\n",
              "      <td>7</td>\n",
              "      <td>2</td>\n",
              "    </tr>\n",
              "    <tr>\n",
              "      <th>4</th>\n",
              "      <td>36</td>\n",
              "      <td>75</td>\n",
              "      <td>415</td>\n",
              "      <td>1</td>\n",
              "      <td>0</td>\n",
              "      <td>0</td>\n",
              "      <td>166.7</td>\n",
              "      <td>113</td>\n",
              "      <td>148.3</td>\n",
              "      <td>122</td>\n",
              "      <td>186.9</td>\n",
              "      <td>121</td>\n",
              "      <td>10.1</td>\n",
              "      <td>3</td>\n",
              "      <td>3</td>\n",
              "    </tr>\n",
              "  </tbody>\n",
              "</table>\n",
              "</div>"
            ],
            "text/plain": [
              "   state  account length  ...  total intl calls  customer service calls\n",
              "0     16             128  ...                 3                       1\n",
              "1     35             107  ...                 3                       1\n",
              "2     31             137  ...                 5                       0\n",
              "3     35              84  ...                 7                       2\n",
              "4     36              75  ...                 3                       3\n",
              "\n",
              "[5 rows x 15 columns]"
            ]
          },
          "metadata": {
            "tags": []
          },
          "execution_count": 12
        }
      ]
    },
    {
      "cell_type": "markdown",
      "metadata": {
        "id": "tYMj4euycFgc",
        "colab_type": "text"
      },
      "source": [
        "## Работа с данными"
      ]
    },
    {
      "cell_type": "markdown",
      "metadata": {
        "id": "66uOoy0NZL7V",
        "colab_type": "text"
      },
      "source": [
        "Создадим обучающую выборку Х, перевдем получанные цифровые данные в np.array"
      ]
    },
    {
      "cell_type": "code",
      "metadata": {
        "id": "XxqEThbKPcuu",
        "colab_type": "code",
        "outputId": "f88470d7-544b-48b5-af18-e650c2a8d2cd",
        "colab": {
          "base_uri": "https://localhost:8080/",
          "height": 139
        }
      },
      "source": [
        "X = encoded_data.values.astype(np.float)\n",
        "X"
      ],
      "execution_count": 0,
      "outputs": [
        {
          "output_type": "execute_result",
          "data": {
            "text/plain": [
              "array([[ 16. , 128. , 415. , ...,  10. ,   3. ,   1. ],\n",
              "       [ 35. , 107. , 415. , ...,  13.7,   3. ,   1. ],\n",
              "       [ 31. , 137. , 415. , ...,  12.2,   5. ,   0. ],\n",
              "       ...,\n",
              "       [ 39. ,  28. , 510. , ...,  14.1,   6. ,   2. ],\n",
              "       [  6. , 184. , 510. , ...,   5. ,  10. ,   2. ],\n",
              "       [ 42. ,  74. , 415. , ...,  13.7,   4. ,   0. ]])"
            ]
          },
          "metadata": {
            "tags": []
          },
          "execution_count": 20
        }
      ]
    },
    {
      "cell_type": "markdown",
      "metadata": {
        "id": "smawbeJEZftc",
        "colab_type": "text"
      },
      "source": [
        "Нормализуем наши данные. Если не помните зачем это делать? [тык](https://www.coursera.org/lecture/supervised-learning/masshtabirovaniie-priznakov-ozNT3)"
      ]
    },
    {
      "cell_type": "code",
      "metadata": {
        "id": "8Gstc1AeZaER",
        "colab_type": "code",
        "outputId": "563c4a6e-29cf-4450-d65f-ec8458ad1400",
        "colab": {
          "base_uri": "https://localhost:8080/",
          "height": 243
        }
      },
      "source": [
        "scaler = sklearn.preprocessing.StandardScaler()\n",
        "X = scaler.fit_transform(X)\n",
        "X"
      ],
      "execution_count": 0,
      "outputs": [
        {
          "output_type": "execute_result",
          "data": {
            "text/plain": [
              "array([[-0.6786493 ,  0.67648946, -0.52360328, ..., -0.08500823,\n",
              "        -0.60119509, -0.42793202],\n",
              "       [ 0.6031696 ,  0.14906505, -0.52360328, ...,  1.24048169,\n",
              "        -0.60119509, -0.42793202],\n",
              "       [ 0.33331299,  0.9025285 , -0.52360328, ...,  0.70312091,\n",
              "         0.21153386, -1.1882185 ],\n",
              "       ...,\n",
              "       [ 0.87302621, -1.83505538,  1.71881732, ...,  1.3837779 ,\n",
              "         0.61789834,  0.33235445],\n",
              "       [-1.35329082,  2.08295458,  1.71881732, ..., -1.87621082,\n",
              "         2.24335625,  0.33235445],\n",
              "       [ 1.07541867, -0.67974475, -0.52360328, ...,  1.24048169,\n",
              "        -0.19483061, -1.1882185 ]])"
            ]
          },
          "metadata": {
            "tags": []
          },
          "execution_count": 21
        }
      ]
    },
    {
      "cell_type": "markdown",
      "metadata": {
        "id": "eoD3dH39emcu",
        "colab_type": "text"
      },
      "source": [
        "Надо помнить, что наша выборка несбралансирована, так что надо будет провести ее балансировку, в ходе занятия было показано, что будет (у precision 0.18), если ее не проводить:\n",
        "\n",
        "Найдем по y индексы клиентов, которые относятся к классу \"не ушили\"\n",
        "и, перемешав выборку, обрежем ее до размеров \"ушедших\". Т.к. это на занятии не разбиралось - код прилагается."
      ]
    },
    {
      "cell_type": "code",
      "metadata": {
        "id": "CwhnZeETetA7",
        "colab_type": "code",
        "outputId": "5344d16f-1f7b-49ea-da37-42fdff60717f",
        "colab": {
          "base_uri": "https://localhost:8080/",
          "height": 52
        }
      },
      "source": [
        "# np.argwhere вернет индексы тех элементов массив y, где значение 0\n",
        "not_churn_ids = np.argwhere(y == 0).flatten()\n",
        "print('Всего не ушедших', len(not_churn_ids))\n",
        "not_churn_ids"
      ],
      "execution_count": 0,
      "outputs": [
        {
          "output_type": "stream",
          "text": [
            "Всего не ушедших 2850\n"
          ],
          "name": "stdout"
        },
        {
          "output_type": "execute_result",
          "data": {
            "text/plain": [
              "array([   0,    1,    2, ..., 3330, 3331, 3332])"
            ]
          },
          "metadata": {
            "tags": []
          },
          "execution_count": 13
        }
      ]
    },
    {
      "cell_type": "markdown",
      "metadata": {
        "id": "VIMv8J_Qgyv5",
        "colab_type": "text"
      },
      "source": [
        "Перемешаем массив с выбранным random state (чтоб в дальнейшем у нас совпадали выборки) выберем в нем \"лишние\" id тех, кто остались (кто портит нам прогноз алгоритма). Кол-во \"лишних\" = кол-во оставшихся - кол-во ушедшых."
      ]
    },
    {
      "cell_type": "code",
      "metadata": {
        "id": "TxuSyyoWgqPx",
        "colab_type": "code",
        "outputId": "10c048d6-b7a2-4428-c9c2-7b45509f9606",
        "colab": {
          "base_uri": "https://localhost:8080/",
          "height": 52
        }
      },
      "source": [
        "from sklearn.utils import shuffle\n",
        "\n",
        "not_churn_ids = shuffle(not_churn_ids, random_state = 42)\n",
        "# найдем \"лишних\", для этого обрежем найденные id на кол-во ушедших (внутри len)\n",
        "not_churn_ids = not_churn_ids[len(np.argwhere(y == 1).flatten()):]\n",
        "print(len(not_churn_ids))\n",
        "# отображаем кол-во и сами id, которые мы должны выкинуть\n",
        "not_churn_ids"
      ],
      "execution_count": 0,
      "outputs": [
        {
          "output_type": "stream",
          "text": [
            "2367\n"
          ],
          "name": "stdout"
        },
        {
          "output_type": "execute_result",
          "data": {
            "text/plain": [
              "array([ 877, 3298,  614, ..., 1291, 1482,  989])"
            ]
          },
          "metadata": {
            "tags": []
          },
          "execution_count": 14
        }
      ]
    },
    {
      "cell_type": "markdown",
      "metadata": {
        "id": "Q2kX34VqjZdL",
        "colab_type": "text"
      },
      "source": [
        "Проверим, сбалансированны ли классы\n",
        "\n",
        "по идее (оставшиеся) - (\"лишние\") = (ушедшие)"
      ]
    },
    {
      "cell_type": "code",
      "metadata": {
        "id": "r-6VUu19jX-Q",
        "colab_type": "code",
        "outputId": "abe06939-39cb-49a6-d5be-4559108ce776",
        "colab": {
          "base_uri": "https://localhost:8080/",
          "height": 35
        }
      },
      "source": [
        "len(np.argwhere(y == 0).flatten()) - len(not_churn_ids) == len(np.argwhere(y == 1).flatten())"
      ],
      "execution_count": 0,
      "outputs": [
        {
          "output_type": "execute_result",
          "data": {
            "text/plain": [
              "True"
            ]
          },
          "metadata": {
            "tags": []
          },
          "execution_count": 16
        }
      ]
    },
    {
      "cell_type": "markdown",
      "metadata": {
        "id": "4z4g4BASkFfw",
        "colab_type": "text"
      },
      "source": [
        "Теперь можно выкинуть \"лишние\" id из X и y"
      ]
    },
    {
      "cell_type": "code",
      "metadata": {
        "id": "kHGBQfETkLJV",
        "colab_type": "code",
        "colab": {}
      },
      "source": [
        "# np.delete принимает массив, индексы, которые выбросить и по какой оси выкидывать\n",
        "X = np.delete(X, not_churn_ids, 0)\n",
        "y = np.delete(y, not_churn_ids, 0)"
      ],
      "execution_count": 0,
      "outputs": []
    },
    {
      "cell_type": "code",
      "metadata": {
        "id": "SJgJGHeKk1s2",
        "colab_type": "code",
        "outputId": "f200da30-1c5d-4f7a-8ac8-fac9e6e5f3c8",
        "colab": {
          "base_uri": "https://localhost:8080/",
          "height": 35
        }
      },
      "source": [
        "# отобразим итоговый размер признаков датасета\n",
        "X.shape, y.shape"
      ],
      "execution_count": 0,
      "outputs": [
        {
          "output_type": "execute_result",
          "data": {
            "text/plain": [
              "((966, 15), (966,))"
            ]
          },
          "metadata": {
            "tags": []
          },
          "execution_count": 23
        }
      ]
    },
    {
      "cell_type": "code",
      "metadata": {
        "id": "Twc1jIYZk80m",
        "colab_type": "code",
        "outputId": "85669eaa-729f-45c6-ac6c-0bbf60b57084",
        "colab": {
          "base_uri": "https://localhost:8080/",
          "height": 69
        }
      },
      "source": [
        "pd.Series(y).value_counts()"
      ],
      "execution_count": 0,
      "outputs": [
        {
          "output_type": "execute_result",
          "data": {
            "text/plain": [
              "1    483\n",
              "0    483\n",
              "dtype: int64"
            ]
          },
          "metadata": {
            "tags": []
          },
          "execution_count": 24
        }
      ]
    },
    {
      "cell_type": "markdown",
      "metadata": {
        "id": "N8OsWvtidj6V",
        "colab_type": "text"
      },
      "source": [
        "## Создание алгоритмов\n",
        "\n",
        "Посмотрим на 2 типа алгоритмов, которые мы прошли - KNN и линейную модель. В случае KNN будем решать задачу классификации. В случае линейного классификатора, для демонстрации всей обработки, будем использовать регрессию."
      ]
    },
    {
      "cell_type": "markdown",
      "metadata": {
        "id": "vFcU7ISHzLxJ",
        "colab_type": "text"
      },
      "source": [
        "Разделим нашу выборку на test train в соотношении 85 на 15 %"
      ]
    },
    {
      "cell_type": "code",
      "metadata": {
        "id": "oYRicWgyzLHD",
        "colab_type": "code",
        "colab": {}
      },
      "source": [
        "from sklearn.model_selection import train_test_split\n",
        "\n",
        "X_train, X_test, y_train, y_test = train_test_split(X,y, test_size=0.15, random_state=42)"
      ],
      "execution_count": 0,
      "outputs": []
    },
    {
      "cell_type": "markdown",
      "metadata": {
        "id": "t36f783h1iP9",
        "colab_type": "text"
      },
      "source": [
        "#### KNN"
      ]
    },
    {
      "cell_type": "markdown",
      "metadata": {
        "id": "U3pFXR9exFoY",
        "colab_type": "text"
      },
      "source": [
        "Построим сетку, по аналогии с занятием 6, для перебора гиперпараметра для нахождения лучшего гиперпараметра KNN, пройдем 100 значений (от 1 до 100)"
      ]
    },
    {
      "cell_type": "code",
      "metadata": {
        "id": "AuUxM39qZ0Zo",
        "colab_type": "code",
        "outputId": "2b370eaa-fe4b-435b-b7dd-39674047cf9c",
        "colab": {
          "base_uri": "https://localhost:8080/",
          "height": 332
        }
      },
      "source": [
        "# В sklearn есть специальный модуль для работы с кросс-валидацией\n",
        "from sklearn.model_selection import GridSearchCV\n",
        "\n",
        "# Будем использовать модель k ближайших соседей, которую проходили на 5 занятии\n",
        "from sklearn.neighbors import KNeighborsClassifier\n",
        "\n",
        "# Создадим классификатор\n",
        "knn = KNeighborsClassifier()\n",
        "\n",
        "# Зададим сетку - среди каких значений выбирать наилучший параметр.\n",
        "knn_grid = {'n_neighbors': np.array(np.linspace(1, 100, 100), dtype='int')} # перебираем по параметру <<n_neighbors>>, по сетке заданной np.linspace(2, 100, 10)\n",
        "\n",
        "# Создаем объект кросс-валидации\n",
        "gs = GridSearchCV(knn, knn_grid, cv=5)\n",
        "\n",
        "# Обучаем его\n",
        "gs.fit(X_train, y_train)"
      ],
      "execution_count": 0,
      "outputs": [
        {
          "output_type": "execute_result",
          "data": {
            "text/plain": [
              "GridSearchCV(cv=5, error_score='raise-deprecating',\n",
              "             estimator=KNeighborsClassifier(algorithm='auto', leaf_size=30,\n",
              "                                            metric='minkowski',\n",
              "                                            metric_params=None, n_jobs=None,\n",
              "                                            n_neighbors=5, p=2,\n",
              "                                            weights='uniform'),\n",
              "             iid='warn', n_jobs=None,\n",
              "             param_grid={'n_neighbors': array([  1,   2,   3,   4,   5,   6,   7,   8,   9,  10,  11,  12,  13,\n",
              "        14,  15,  16,  17,  18,  19,  20,  21,  22,  23,  24,  25,  26,\n",
              "        27,  28,  29,  30,  31,  32,  33,  34,  35,  36,  37,  38,  39,\n",
              "        40,  41,  42,  43,  44,  45,  46,  47,  48,  49,  50,  51,  52,\n",
              "        53,  54,  55,  56,  57,  58,  59,  60,  61,  62,  63,  64,  65,\n",
              "        66,  67,  68,  69,  70,  71,  72,  73,  74,  75,  76,  77,  78,\n",
              "        79,  80,  81,  82,  83,  84,  85,  86,  87,  88,  89,  90,  91,\n",
              "        92,  93,  94,  95,  96,  97,  98,  99, 100])},\n",
              "             pre_dispatch='2*n_jobs', refit=True, return_train_score=False,\n",
              "             scoring=None, verbose=0)"
            ]
          },
          "metadata": {
            "tags": []
          },
          "execution_count": 26
        }
      ]
    },
    {
      "cell_type": "code",
      "metadata": {
        "id": "OcoqFDoayu0K",
        "colab_type": "code",
        "colab": {}
      },
      "source": [
        "# Функция отрисовки графиков\n",
        "\n",
        "def grid_plot(x, y, x_label, title, y_label='accuracy'):\n",
        "    plt.figure(figsize=(12, 6))\n",
        "    plt.grid(True)\n",
        "    plt.plot(x, y, 'go-')\n",
        "    plt.xlabel(x_label)\n",
        "    plt.ylabel(y_label)\n",
        "    plt.title(title)"
      ],
      "execution_count": 0,
      "outputs": []
    },
    {
      "cell_type": "code",
      "metadata": {
        "id": "2djFxlQly0Xk",
        "colab_type": "code",
        "outputId": "5020f095-32fc-48c5-8c38-ebc94f6492cc",
        "colab": {
          "base_uri": "https://localhost:8080/",
          "height": 405
        }
      },
      "source": [
        "# Строим график зависимости качества от числа соседей\n",
        "# замечание: результаты обучения хранятся в атрибуте cv_results_ объекта gs\n",
        "\n",
        "grid_plot(knn_grid['n_neighbors'], gs.cv_results_['mean_test_score'], 'n_neighbors', 'KNeighborsClassifier')"
      ],
      "execution_count": 0,
      "outputs": [
        {
          "output_type": "display_data",
          "data": {
            "image/png": "[encoded data removed]",
            "text/plain": [
              "<Figure size 864x432 with 1 Axes>"
            ]
          },
          "metadata": {
            "tags": []
          }
        }
      ]
    },
    {
      "cell_type": "markdown",
      "metadata": {
        "id": "6Hc_d_bTy_70",
        "colab_type": "text"
      },
      "source": [
        "Отобразим лучший параметр"
      ]
    },
    {
      "cell_type": "code",
      "metadata": {
        "id": "mYndn8fty2jE",
        "colab_type": "code",
        "outputId": "94a8c7f0-eb57-4ce2-b46f-e83ff8eb51a5",
        "colab": {
          "base_uri": "https://localhost:8080/",
          "height": 35
        }
      },
      "source": [
        "print(gs.best_params_, gs.best_score_)"
      ],
      "execution_count": 0,
      "outputs": [
        {
          "output_type": "stream",
          "text": [
            "{'n_neighbors': 25} 0.8197320341047503\n"
          ],
          "name": "stdout"
        }
      ]
    },
    {
      "cell_type": "markdown",
      "metadata": {
        "id": "Oi_U0PkKz4qw",
        "colab_type": "text"
      },
      "source": [
        "Инициализируем отдельный классификатор с лучшим значением, найденным на предыдущего перебора"
      ]
    },
    {
      "cell_type": "code",
      "metadata": {
        "id": "-H6KXy8Dy_C7",
        "colab_type": "code",
        "colab": {}
      },
      "source": [
        "# импортируем и создаем knn классификатор по аналогии\n",
        "knn = KNeighborsClassifier(n_neighbors=25) \n",
        "clf_knn = knn.fit(X_train, y_train)"
      ],
      "execution_count": 0,
      "outputs": []
    },
    {
      "cell_type": "markdown",
      "metadata": {
        "id": "yrC_TdVz1Bd9",
        "colab_type": "text"
      },
      "source": [
        "Получим предсказания от классификатора"
      ]
    },
    {
      "cell_type": "code",
      "metadata": {
        "id": "F43Wnbbt1Bjn",
        "colab_type": "code",
        "outputId": "b5cd1c19-ace6-426f-de89-d22b34be425b",
        "colab": {
          "base_uri": "https://localhost:8080/",
          "height": 139
        }
      },
      "source": [
        "y_knn = clf_knn.predict(X_test)\n",
        "y_knn"
      ],
      "execution_count": 0,
      "outputs": [
        {
          "output_type": "execute_result",
          "data": {
            "text/plain": [
              "array([0, 0, 0, 0, 0, 0, 0, 1, 1, 0, 1, 0, 1, 0, 1, 0, 0, 1, 0, 0, 0, 0,\n",
              "       0, 1, 0, 0, 0, 0, 1, 0, 0, 1, 0, 0, 1, 0, 1, 1, 0, 1, 1, 0, 0, 1,\n",
              "       1, 0, 1, 1, 0, 0, 0, 1, 1, 0, 0, 1, 1, 0, 0, 1, 1, 0, 1, 1, 0, 1,\n",
              "       0, 0, 1, 0, 1, 0, 0, 0, 0, 1, 1, 1, 0, 1, 1, 1, 0, 0, 1, 0, 1, 0,\n",
              "       0, 1, 0, 0, 1, 1, 1, 0, 1, 1, 1, 0, 1, 0, 0, 1, 0, 1, 0, 0, 1, 0,\n",
              "       0, 0, 1, 0, 1, 1, 0, 0, 1, 0, 1, 0, 1, 0, 0, 0, 0, 0, 1, 0, 1, 1,\n",
              "       0, 0, 0, 1, 0, 1, 0, 0, 0, 1, 0, 0, 1])"
            ]
          },
          "metadata": {
            "tags": []
          },
          "execution_count": 36
        }
      ]
    },
    {
      "cell_type": "markdown",
      "metadata": {
        "id": "PUsFrWB-0rjB",
        "colab_type": "text"
      },
      "source": [
        "Посмотрим на метрики качества через classification report"
      ]
    },
    {
      "cell_type": "code",
      "metadata": {
        "id": "xTs06Pwb0pgu",
        "colab_type": "code",
        "outputId": "dcd67651-1e2a-4923-a45e-8294dfa0d0bb",
        "colab": {
          "base_uri": "https://localhost:8080/",
          "height": 173
        }
      },
      "source": [
        "print(sklearn.metrics.classification_report(y_test, y_knn))"
      ],
      "execution_count": 0,
      "outputs": [
        {
          "output_type": "stream",
          "text": [
            "              precision    recall  f1-score   support\n",
            "\n",
            "           0       0.77      0.89      0.83        73\n",
            "           1       0.87      0.74      0.80        72\n",
            "\n",
            "    accuracy                           0.81       145\n",
            "   macro avg       0.82      0.81      0.81       145\n",
            "weighted avg       0.82      0.81      0.81       145\n",
            "\n"
          ],
          "name": "stdout"
        }
      ]
    },
    {
      "cell_type": "markdown",
      "metadata": {
        "id": "y3UXeIIV13ps",
        "colab_type": "text"
      },
      "source": [
        "#### Линейный классификатор\n",
        "\n",
        "Построим линейную регрессию, по аналогии с занятием 7 "
      ]
    },
    {
      "cell_type": "code",
      "metadata": {
        "id": "yK3ZFhei0Qwj",
        "colab_type": "code",
        "outputId": "79409864-6d86-4172-b3de-6d77bc03fa19",
        "colab": {
          "base_uri": "https://localhost:8080/",
          "height": 35
        }
      },
      "source": [
        "from sklearn import linear_model\n",
        "\n",
        "# линейный классификатор\n",
        "regr = linear_model.LinearRegression()\n",
        "\n",
        "# обучаем\n",
        "regr.fit(X_train, y_train)"
      ],
      "execution_count": 0,
      "outputs": [
        {
          "output_type": "execute_result",
          "data": {
            "text/plain": [
              "LinearRegression(copy_X=True, fit_intercept=True, n_jobs=None, normalize=False)"
            ]
          },
          "metadata": {
            "tags": []
          },
          "execution_count": 38
        }
      ]
    },
    {
      "cell_type": "markdown",
      "metadata": {
        "id": "1gtQEI8Z2pVL",
        "colab_type": "text"
      },
      "source": [
        "Получим результаты"
      ]
    },
    {
      "cell_type": "code",
      "metadata": {
        "id": "ntcP91Cp2T4i",
        "colab_type": "code",
        "outputId": "c747b04c-a016-4ab6-f997-74faf16098e0",
        "colab": {
          "base_uri": "https://localhost:8080/",
          "height": 520
        }
      },
      "source": [
        "# получаем предсказания от двух\n",
        "predictions = regr.predict(X_test)\n",
        "predictions"
      ],
      "execution_count": 0,
      "outputs": [
        {
          "output_type": "execute_result",
          "data": {
            "text/plain": [
              "array([ 0.36491012, -0.00803942,  0.49966348,  0.39279667,  0.32931416,\n",
              "        0.03529229,  0.46628737,  0.66071897,  0.61912138,  0.31434876,\n",
              "        0.67557015,  0.50952445,  0.62463223,  0.64381514,  0.97660338,\n",
              "        0.16196862,  0.35018359,  0.50998392,  0.59210209, -0.22235997,\n",
              "        0.01848433,  0.41400391,  0.28525396,  0.58838004,  0.30144974,\n",
              "        0.1223382 ,  0.36062981,  0.49548444,  0.60180417,  0.38268767,\n",
              "        0.5855784 ,  0.75328017,  0.46691163,  0.10580058,  0.81596381,\n",
              "        0.32385145,  1.00633185,  0.33254164,  0.24505222,  0.4672771 ,\n",
              "        0.60104152,  0.17420288,  0.52180817,  0.77250733,  0.91342609,\n",
              "        0.34574777,  0.93274455,  1.06944159,  0.25561476,  0.13120826,\n",
              "        0.32280614,  0.85200222,  0.58054483,  0.73684937,  0.35288377,\n",
              "        0.64236168,  0.6867475 ,  0.19686724,  0.23236814,  0.97530563,\n",
              "        0.5976762 ,  0.29339085,  0.5791836 ,  0.73637745,  0.38830587,\n",
              "        0.82942416,  0.05902858,  0.34695337,  0.93775684,  0.61750614,\n",
              "        0.70655786,  0.24440809,  0.37490363,  0.40980478,  0.3624553 ,\n",
              "        0.61413539,  0.81588435,  0.51615254,  0.2659011 ,  0.61099526,\n",
              "        0.73680851,  0.65082666,  0.28251399,  0.30723191,  0.57901641,\n",
              "        0.28546266,  0.85907628,  0.35047276,  0.26091011,  0.58042597,\n",
              "        0.30247327,  0.4650604 ,  0.63917188,  0.63403236,  0.48366115,\n",
              "        0.56108238,  0.64074703,  0.74302984,  0.68636438,  0.51939212,\n",
              "        0.48348748,  0.15209057,  0.11254419,  0.96775058,  0.38586215,\n",
              "        0.45225578,  0.57512269,  0.22870893,  0.74849184,  0.41199774,\n",
              "        0.48036229,  0.64208914,  0.65593136,  0.49964668,  0.66309061,\n",
              "        0.73176961,  0.35695929,  0.22092244,  0.48462563,  0.22670754,\n",
              "        0.98595603,  0.62054858,  0.60679594,  0.23576279,  0.09610334,\n",
              "        0.26863963, -0.01428545,  0.33361285,  0.72335462,  0.83500043,\n",
              "        0.167422  ,  0.37691453,  0.62734142,  0.57680262,  0.60096834,\n",
              "        0.58204084,  0.35400589,  0.57613871,  0.49177814,  0.18518155,\n",
              "        0.02081182,  0.80757717,  0.61103353,  0.61422708,  0.53703433])"
            ]
          },
          "metadata": {
            "tags": []
          },
          "execution_count": 39
        }
      ]
    },
    {
      "cell_type": "markdown",
      "metadata": {
        "id": "Bi8cLd3522JG",
        "colab_type": "text"
      },
      "source": [
        "Построим график того, как истинные ответы отличаются от предсказанных"
      ]
    },
    {
      "cell_type": "code",
      "metadata": {
        "id": "cGpVsAp82hBs",
        "colab_type": "code",
        "outputId": "2b38ae84-ac8a-4d37-d32c-66c702db35b4",
        "colab": {
          "base_uri": "https://localhost:8080/",
          "height": 937
        }
      },
      "source": [
        "# отобразим разность предсказаний на гистограмме\n",
        "rem = predictions - y_test\n",
        "plt.figure(figsize=(15, 8))\n",
        "plt.hist(rem, bins=50, normed=True)"
      ],
      "execution_count": 0,
      "outputs": [
        {
          "output_type": "stream",
          "text": [
            "/usr/local/lib/python3.6/dist-packages/ipykernel_launcher.py:3: MatplotlibDeprecationWarning: \n",
            "The 'normed' kwarg was deprecated in Matplotlib 2.1 and will be removed in 3.1. Use 'density' instead.\n",
            "  This is separate from the ipykernel package so we can avoid doing imports until\n"
          ],
          "name": "stderr"
        },
        {
          "output_type": "execute_result",
          "data": {
            "text/plain": [
              "(array([0.19416275, 0.        , 0.58248826, 0.19416275, 0.19416275,\n",
              "        0.19416275, 0.38832551, 0.38832551, 0.58248826, 0.38832551,\n",
              "        0.        , 0.77665102, 0.38832551, 0.19416275, 1.74746479,\n",
              "        1.74746479, 1.16497652, 0.58248826, 0.58248826, 0.77665102,\n",
              "        0.38832551, 0.58248826, 0.38832551, 0.        , 0.58248826,\n",
              "        0.58248826, 0.77665102, 0.58248826, 0.19416275, 0.77665102,\n",
              "        0.        , 0.38832551, 0.77665102, 0.97081377, 0.97081377,\n",
              "        0.97081377, 1.74746479, 0.58248826, 0.38832551, 0.58248826,\n",
              "        1.55330203, 0.19416275, 0.38832551, 0.97081377, 0.77665102,\n",
              "        0.19416275, 0.        , 0.38832551, 0.        , 0.38832551]),\n",
              " array([-0.94097142, -0.90545198, -0.86993255, -0.83441311, -0.79889367,\n",
              "        -0.76337424, -0.7278548 , -0.69233536, -0.65681593, -0.62129649,\n",
              "        -0.58577705, -0.55025761, -0.51473818, -0.47921874, -0.4436993 ,\n",
              "        -0.40817987, -0.37266043, -0.33714099, -0.30162155, -0.26610212,\n",
              "        -0.23058268, -0.19506324, -0.15954381, -0.12402437, -0.08850493,\n",
              "        -0.0529855 , -0.01746606,  0.01805338,  0.05357282,  0.08909225,\n",
              "         0.12461169,  0.16013113,  0.19565056,  0.23117   ,  0.26668944,\n",
              "         0.30220888,  0.33772831,  0.37324775,  0.40876719,  0.44428662,\n",
              "         0.47980606,  0.5153255 ,  0.55084493,  0.58636437,  0.62188381,\n",
              "         0.65740325,  0.69292268,  0.72844212,  0.76396156,  0.79948099,\n",
              "         0.83500043]),\n",
              " <a list of 50 Patch objects>)"
            ]
          },
          "metadata": {
            "tags": []
          },
          "execution_count": 40
        },
        {
          "output_type": "display_data",
          "data": {
            "image/png": "[encoded data removed]",
            "text/plain": [
              "<Figure size 1080x576 with 1 Axes>"
            ]
          },
          "metadata": {
            "tags": []
          }
        }
      ]
    },
    {
      "cell_type": "markdown",
      "metadata": {
        "id": "qnk4MHNZ3Mc-",
        "colab_type": "text"
      },
      "source": [
        "Получим результат по $R^2$"
      ]
    },
    {
      "cell_type": "code",
      "metadata": {
        "id": "9K7YNZuI29nn",
        "colab_type": "code",
        "outputId": "a63d95e0-5124-44f2-a52a-3601c40187ec",
        "colab": {
          "base_uri": "https://localhost:8080/",
          "height": 35
        }
      },
      "source": [
        "r2 = sklearn.metrics.r2_score(y_test, predictions)\n",
        "\n",
        "print(f\"R2 score / LR = {r2}\")"
      ],
      "execution_count": 0,
      "outputs": [
        {
          "output_type": "stream",
          "text": [
            "R2 score / LR = 0.20610304875180274\n"
          ],
          "name": "stdout"
        }
      ]
    },
    {
      "cell_type": "markdown",
      "metadata": {
        "id": "-IU5UGA03pla",
        "colab_type": "text"
      },
      "source": [
        "Получим результат по MAE"
      ]
    },
    {
      "cell_type": "code",
      "metadata": {
        "id": "_cLSouIA3N4J",
        "colab_type": "code",
        "outputId": "dbfc39d5-6a9b-44a0-fd7d-66944ff2c0df",
        "colab": {
          "base_uri": "https://localhost:8080/",
          "height": 35
        }
      },
      "source": [
        "mae = sklearn.metrics.median_absolute_error(y_test, predictions)\n",
        "\n",
        "print (f\"MAE {mae}\")"
      ],
      "execution_count": 0,
      "outputs": [
        {
          "output_type": "stream",
          "text": [
            "MAE 0.38087862281158147\n"
          ],
          "name": "stdout"
        }
      ]
    },
    {
      "cell_type": "markdown",
      "metadata": {
        "id": "HH8HKNDi4HNz",
        "colab_type": "text"
      },
      "source": [
        "Мы построили 2 алгоритма, классификации через KNN - получили достаточно высокий f1 (~82%), без заметных проседаний в метриках Precision и Recall (благодаря балансировке классов) и линейный классификатор, который показал себя хуже, что видно по метрикам $R^2$ и Mean absolute error"
      ]
    }
  ]
}